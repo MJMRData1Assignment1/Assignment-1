{
 "cells": [
  {
   "cell_type": "markdown",
   "metadata": {},
   "source": [
    "# Regression Model"
   ]
  },
  {
   "cell_type": "markdown",
   "metadata": {},
   "source": []
  },
  {
   "cell_type": "code",
   "execution_count": 1,
   "metadata": {},
   "outputs": [],
   "source": [
    "import numpy as np\n",
    "import scipy as sp\n",
    "import matplotlib as mpl\n",
    "import matplotlib.cm as cm\n",
    "import matplotlib.pyplot as plt\n",
    "import pandas as pd\n",
    "import time\n",
    "pd.set_option('display.width', 500)\n",
    "pd.set_option('display.max_columns', 100)\n",
    "pd.set_option('display.notebook_repr_html', True)\n",
    "import warnings\n",
    "warnings.filterwarnings('ignore')\n",
    "\n",
    "import statsmodels.api as sm\n",
    "from statsmodels.api import OLS\n",
    "\n",
    "from sklearn import preprocessing\n",
    "from sklearn.preprocessing import PolynomialFeatures\n",
    "from sklearn.metrics import r2_score\n",
    "from sklearn.model_selection import train_test_split\n",
    "from sklearn.preprocessing import StandardScaler\n",
    "\n",
    "from pandas.plotting import scatter_matrix\n",
    "\n",
    "import seaborn as sns\n",
    "\n",
    "%matplotlib inline"
   ]
  },
  {
   "cell_type": "markdown",
   "metadata": {},
   "source": [
    "Step 1: splitting the data"
   ]
  },
  {
   "cell_type": "code",
   "execution_count": null,
   "metadata": {},
   "outputs": [],
   "source": [
    "#splits the data in a training set and test set\n",
    "train_data, test_data = train_test_split(....., test_size=.2, random_state=42)\n",
    "\n",
    "# Predictor and response array from training set \n",
    "x_train = train_data[['Area public green (ha)', 'Parking spots total', 'Mean disposable household income', 'Most vulnerable (%)', 'Safety index: High Impact Crime']].values\n",
    "y_train = train_data['Rent: average'].values\n",
    "\n",
    "#Predictor and response array from test set \n",
    "x_test = test_data[['Area public green (ha)', 'Parking spots total', 'Mean disposable household income', 'Most vulnerable (%)', 'Safety index: High Impact Crime']].values\n",
    "y_test = test_data['Rent: average'].values\n",
    "\n",
    "\n",
    "\n",
    "\n"
   ]
  },
  {
   "cell_type": "markdown",
   "metadata": {},
   "source": [
    "Step 2: retrieving $\\beta$ coefficients and results table by using Statsmodel"
   ]
  },
  {
   "cell_type": "code",
   "execution_count": null,
   "metadata": {},
   "outputs": [],
   "source": [
    "#includes a column of ones\n",
    "x_train_sm = sm.add_constant(x_train)\n",
    "\n",
    "#to build the OLS model\n",
    "model_sm = sm.OLS(y_train, x_train_sm)\n",
    "\n",
    "# to fit the data to the model and store the information in results_sm\n",
    "results_sm = model_sm.fit()\n",
    "\n",
    "#to access other/more information in the results_sm\n",
    "import warnings\n",
    "warnings.filterwarnings('ignore')\n",
    "print(results_sm.summary())"
   ]
  },
  {
   "cell_type": "markdown",
   "metadata": {},
   "source": [
    "Step 3: Plotting the regression  "
   ]
  },
  {
   "cell_type": "code",
   "execution_count": null,
   "metadata": {},
   "outputs": [],
   "source": [
    "\n",
    "\n",
    "# creating a function to plot regression model for each x variable\n",
    "def plot_regression(cur_model, poly_transformer=None):\n",
    "    \n",
    "    # build the x values for the prediction line, so in this case it creates the numbers 0 to 24 with steps of 0.1.\n",
    "    x_vals = np.arange(0,24,.1).reshape(-1,1)\n",
    "    \n",
    "    # optionally use the passed-in transformer\n",
    "    if poly_transformer != None:\n",
    "        dm = poly_transformer.fit_transform(x_vals)\n",
    "    else:\n",
    "        dm = x_vals\n",
    "        \n",
    "    # make the prediction at each x value\n",
    "    prediction = cur_model.predict(dm)\n",
    "    \n",
    "    # plot the prediction line, and the test data\n",
    "    plt.plot(x_vals,prediction, color='k', label=\"Prediction\")\n",
    "    plt.scatter(X_test, y_test, label=\"Test Data\")\n",
    "\n",
    "    # label your plots\n",
    "    plt.ylabel(\"Number of Taxi Pickups\")\n",
    "    plt.xlabel(\"Time of Day (Hours Past Midnight)\")\n",
    "    plt.legend()\n",
    "    plt.show()\n",
    "\n",
    "from sklearn.linear_model import LinearRegression\n",
    "\n",
    "\n"
   ]
  },
  {
   "cell_type": "code",
   "execution_count": null,
   "metadata": {},
   "outputs": [],
   "source": [
    "x_train_income = train_data[['Mean disposable household income']].values.reshape(-1, 1)\n",
    "x_train_parking = train_data[['Parking spots total']].values.reshape(-1, 1)\n",
    "x_train_green = train_data[['Area public green (ha)']].values.reshape(-1, 1)\n",
    "x_train_vulnerable = train_data[['Most vulnerable (%)']].values.reshape(-1, 1)\n",
    "x_train_safety = train_data[['Safety index: High Impact Crime']].values.reshape(-1, 1)\n",
    "y_train_reshaped = train_data['Rent: average'].values.reshape(-1, 1)\n",
    "\n",
    "fitted_model_income = LinearRegression().fit(x_train_income, y_train_reshaped)\n",
    "plot_regression(fitted_model_income)\n",
    "\n",
    "fitted_model_parking = LinearRegression().fit(x_train_parking, y_train_reshaped)\n",
    "plot_regression(fitted_model_parking)\n",
    "\n",
    "fitted_model_green = LinearRegression().fit(x_train_green, y_train_reshaped)\n",
    "plot_regression(fitted_model_green)\n",
    "\n",
    "fitted_model_vulnerable = LinearRegression().fit(x_train_vulnerable, y_train_reshaped)\n",
    "plot_regression(fitted_model_vulnerable)\n",
    "\n",
    "fitted_model_safety = LinearRegression().fit(x_train_safety, y_train_reshaped)\n",
    "plot_regression(fitted_model_safety)"
   ]
  }
 ],
 "metadata": {
  "kernelspec": {
   "display_name": "Python 3",
   "language": "python",
   "name": "python3"
  },
  "language_info": {
   "codemirror_mode": {
    "name": "ipython",
    "version": 3
   },
   "file_extension": ".py",
   "mimetype": "text/x-python",
   "name": "python",
   "nbconvert_exporter": "python",
   "pygments_lexer": "ipython3",
   "version": "3.12.6"
  }
 },
 "nbformat": 4,
 "nbformat_minor": 2
}
