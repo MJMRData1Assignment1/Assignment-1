{
 "cells": [
  {
   "cell_type": "markdown",
   "metadata": {},
   "source": [
    "# Visualziation"
   ]
  },
  {
   "cell_type": "code",
   "execution_count": 10,
   "metadata": {},
   "outputs": [],
   "source": [
    "# Import useful libraries\n",
    "\n",
    "import pandas as pd\n",
    "import geopandas as gpd\n",
    "import matplotlib.pyplot as plt\n",
    "import seaborn as sns\n",
    "import contextily as ctx\n",
    "from pysal.lib import weights\n",
    "from pysal.explore import esda\n",
    "from splot.esda import moran_scatterplot, lisa_cluster, plot_local_autocorrelation\n",
    "from shapely.geometry import Point"
   ]
  },
  {
   "cell_type": "code",
   "execution_count": 11,
   "metadata": {},
   "outputs": [
    {
     "data": {
      "text/html": [
       "<div>\n",
       "<style scoped>\n",
       "    .dataframe tbody tr th:only-of-type {\n",
       "        vertical-align: middle;\n",
       "    }\n",
       "\n",
       "    .dataframe tbody tr th {\n",
       "        vertical-align: top;\n",
       "    }\n",
       "\n",
       "    .dataframe thead th {\n",
       "        text-align: right;\n",
       "    }\n",
       "</style>\n",
       "<table border=\"1\" class=\"dataframe\">\n",
       "  <thead>\n",
       "    <tr style=\"text-align: right;\">\n",
       "      <th></th>\n",
       "      <th>Unnamed: 0</th>\n",
       "      <th>OBJECTNUMMER</th>\n",
       "      <th>CBS_Wijkcode</th>\n",
       "      <th>Area code</th>\n",
       "      <th>Area</th>\n",
       "      <th>Rent: average</th>\n",
       "      <th>Average house-value for tax purposes</th>\n",
       "      <th>Area public green (ha)</th>\n",
       "      <th>Parking spots total</th>\n",
       "      <th>Mean disposable household income</th>\n",
       "      <th>Most vulnerable (%)</th>\n",
       "      <th>Safety index: High Impact Crime</th>\n",
       "      <th>geometry</th>\n",
       "      <th>LNG</th>\n",
       "      <th>LAT</th>\n",
       "      <th>Gebiedcode</th>\n",
       "      <th>Gebied</th>\n",
       "      <th>Stadsdeelcode</th>\n",
       "      <th>Stadsdeel</th>\n",
       "      <th>Oppervlakte_m2</th>\n",
       "    </tr>\n",
       "  </thead>\n",
       "  <tbody>\n",
       "    <tr>\n",
       "      <th>0</th>\n",
       "      <td>0</td>\n",
       "      <td>1.0</td>\n",
       "      <td>BU0363EQ</td>\n",
       "      <td>EQ</td>\n",
       "      <td>Da Costabuurt</td>\n",
       "      <td>823</td>\n",
       "      <td>498536</td>\n",
       "      <td>0.68</td>\n",
       "      <td>971.0</td>\n",
       "      <td>49800</td>\n",
       "      <td>52.0</td>\n",
       "      <td>130</td>\n",
       "      <td>POLYGON ((4.867406 52.371797, 4.869586 52.3686...</td>\n",
       "      <td>4.872108</td>\n",
       "      <td>52.370130</td>\n",
       "      <td>GE05</td>\n",
       "      <td>Oud-West, De Baarsjes</td>\n",
       "      <td>E</td>\n",
       "      <td>West</td>\n",
       "      <td>257542.0</td>\n",
       "    </tr>\n",
       "    <tr>\n",
       "      <th>1</th>\n",
       "      <td>1</td>\n",
       "      <td>2.0</td>\n",
       "      <td>BU0363ER</td>\n",
       "      <td>ER</td>\n",
       "      <td>Westindische Buurt</td>\n",
       "      <td>861</td>\n",
       "      <td>443995</td>\n",
       "      <td>2.01</td>\n",
       "      <td>1763.0</td>\n",
       "      <td>50500</td>\n",
       "      <td>54.0</td>\n",
       "      <td>89</td>\n",
       "      <td>POLYGON ((4.848885 52.358045, 4.848892 52.3579...</td>\n",
       "      <td>4.854062</td>\n",
       "      <td>52.361007</td>\n",
       "      <td>GE05</td>\n",
       "      <td>Oud-West, De Baarsjes</td>\n",
       "      <td>E</td>\n",
       "      <td>West</td>\n",
       "      <td>345503.0</td>\n",
       "    </tr>\n",
       "    <tr>\n",
       "      <th>2</th>\n",
       "      <td>2</td>\n",
       "      <td>3.0</td>\n",
       "      <td>BU0363KB</td>\n",
       "      <td>KB</td>\n",
       "      <td>Schinkelbuurt</td>\n",
       "      <td>774</td>\n",
       "      <td>445304</td>\n",
       "      <td>1.8</td>\n",
       "      <td>972.0</td>\n",
       "      <td>46200</td>\n",
       "      <td>51.0</td>\n",
       "      <td>104</td>\n",
       "      <td>POLYGON ((4.848181 52.342768, 4.849791 52.3429...</td>\n",
       "      <td>4.852877</td>\n",
       "      <td>52.349646</td>\n",
       "      <td>GK11</td>\n",
       "      <td>Oud-Zuid</td>\n",
       "      <td>K</td>\n",
       "      <td>Zuid</td>\n",
       "      <td>344932.0</td>\n",
       "    </tr>\n",
       "    <tr>\n",
       "      <th>3</th>\n",
       "      <td>3</td>\n",
       "      <td>4.0</td>\n",
       "      <td>BU0363KC</td>\n",
       "      <td>KC</td>\n",
       "      <td>Willemspark</td>\n",
       "      <td>1349</td>\n",
       "      <td>1064407</td>\n",
       "      <td>16.38</td>\n",
       "      <td>2624.0</td>\n",
       "      <td>131700</td>\n",
       "      <td>55.0</td>\n",
       "      <td>51</td>\n",
       "      <td>POLYGON ((4.855085 52.35641, 4.855027 52.35632...</td>\n",
       "      <td>4.862796</td>\n",
       "      <td>52.354371</td>\n",
       "      <td>GK11</td>\n",
       "      <td>Oud-Zuid</td>\n",
       "      <td>K</td>\n",
       "      <td>Zuid</td>\n",
       "      <td>695818.0</td>\n",
       "    </tr>\n",
       "    <tr>\n",
       "      <th>4</th>\n",
       "      <td>4</td>\n",
       "      <td>5.0</td>\n",
       "      <td>BU0363KD</td>\n",
       "      <td>KD</td>\n",
       "      <td>Museumkwartier</td>\n",
       "      <td>1051</td>\n",
       "      <td>1011630</td>\n",
       "      <td>17.53</td>\n",
       "      <td>4839.0</td>\n",
       "      <td>103000</td>\n",
       "      <td>55.0</td>\n",
       "      <td>219</td>\n",
       "      <td>POLYGON ((4.86554 52.358854, 4.867135 52.35610...</td>\n",
       "      <td>4.876464</td>\n",
       "      <td>52.355265</td>\n",
       "      <td>GK11</td>\n",
       "      <td>Oud-Zuid</td>\n",
       "      <td>K</td>\n",
       "      <td>Zuid</td>\n",
       "      <td>1380178.0</td>\n",
       "    </tr>\n",
       "  </tbody>\n",
       "</table>\n",
       "</div>"
      ],
      "text/plain": [
       "   Unnamed: 0  OBJECTNUMMER CBS_Wijkcode Area code                Area  \\\n",
       "0           0           1.0     BU0363EQ        EQ       Da Costabuurt   \n",
       "1           1           2.0     BU0363ER        ER  Westindische Buurt   \n",
       "2           2           3.0     BU0363KB        KB       Schinkelbuurt   \n",
       "3           3           4.0     BU0363KC        KC         Willemspark   \n",
       "4           4           5.0     BU0363KD        KD      Museumkwartier   \n",
       "\n",
       "  Rent: average Average house-value for tax purposes Area public green (ha)  \\\n",
       "0           823                               498536                   0.68   \n",
       "1           861                               443995                   2.01   \n",
       "2           774                               445304                    1.8   \n",
       "3          1349                              1064407                  16.38   \n",
       "4          1051                              1011630                  17.53   \n",
       "\n",
       "   Parking spots total Mean disposable household income  Most vulnerable (%)  \\\n",
       "0                971.0                            49800                 52.0   \n",
       "1               1763.0                            50500                 54.0   \n",
       "2                972.0                            46200                 51.0   \n",
       "3               2624.0                           131700                 55.0   \n",
       "4               4839.0                           103000                 55.0   \n",
       "\n",
       "  Safety index: High Impact Crime  \\\n",
       "0                             130   \n",
       "1                              89   \n",
       "2                             104   \n",
       "3                              51   \n",
       "4                             219   \n",
       "\n",
       "                                            geometry       LNG        LAT  \\\n",
       "0  POLYGON ((4.867406 52.371797, 4.869586 52.3686...  4.872108  52.370130   \n",
       "1  POLYGON ((4.848885 52.358045, 4.848892 52.3579...  4.854062  52.361007   \n",
       "2  POLYGON ((4.848181 52.342768, 4.849791 52.3429...  4.852877  52.349646   \n",
       "3  POLYGON ((4.855085 52.35641, 4.855027 52.35632...  4.862796  52.354371   \n",
       "4  POLYGON ((4.86554 52.358854, 4.867135 52.35610...  4.876464  52.355265   \n",
       "\n",
       "  Gebiedcode                 Gebied Stadsdeelcode Stadsdeel  Oppervlakte_m2  \n",
       "0       GE05  Oud-West, De Baarsjes             E      West        257542.0  \n",
       "1       GE05  Oud-West, De Baarsjes             E      West        345503.0  \n",
       "2       GK11               Oud-Zuid             K      Zuid        344932.0  \n",
       "3       GK11               Oud-Zuid             K      Zuid        695818.0  \n",
       "4       GK11               Oud-Zuid             K      Zuid       1380178.0  "
      ]
     },
     "execution_count": 11,
     "metadata": {},
     "output_type": "execute_result"
    }
   ],
   "source": [
    "# Histograms for 5 independend variables\n",
    "# file path\n",
    "file_path = 'C:\\\\Users\\\\MSI\\\\Documents\\\\Clone_1\\\\Assignment-1\\\\Hackathon\\\\csv\\\\MergedData.csv'\n",
    "\n",
    "# read the .csv  file\n",
    "dataset = pd.read_csv(file_path)\n",
    "\n",
    "# check the dataset\n",
    "dataset.head()"
   ]
  },
  {
   "cell_type": "code",
   "execution_count": null,
   "metadata": {},
   "outputs": [],
   "source": []
  },
  {
   "cell_type": "code",
   "execution_count": 12,
   "metadata": {},
   "outputs": [
    {
     "ename": "KeyError",
     "evalue": "\"['Rent Average', 'Public Space'] not in index\"",
     "output_type": "error",
     "traceback": [
      "\u001b[1;31m---------------------------------------------------------------------------\u001b[0m",
      "\u001b[1;31mKeyError\u001b[0m                                  Traceback (most recent call last)",
      "Cell \u001b[1;32mIn[12], line 3\u001b[0m\n\u001b[0;32m      1\u001b[0m \u001b[38;5;66;03m#choosing the columns we wan tto include in histogram\u001b[39;00m\n\u001b[1;32m----> 3\u001b[0m numeric_data \u001b[38;5;241m=\u001b[39m \u001b[43mdataset\u001b[49m\u001b[43m[\u001b[49m\u001b[43m[\u001b[49m\u001b[38;5;124;43m'\u001b[39;49m\u001b[38;5;124;43mRent Average\u001b[39;49m\u001b[38;5;124;43m'\u001b[39;49m\u001b[43m,\u001b[49m\u001b[43m \u001b[49m\u001b[38;5;124;43m'\u001b[39;49m\u001b[38;5;124;43mPublic Space\u001b[39;49m\u001b[38;5;124;43m'\u001b[39;49m\u001b[43m,\u001b[49m\u001b[43m \u001b[49m\u001b[38;5;124;43m'\u001b[39;49m\u001b[38;5;124;43mParking spots total\u001b[39;49m\u001b[38;5;124;43m'\u001b[39;49m\u001b[43m,\u001b[49m\u001b[43m \u001b[49m\u001b[38;5;124;43m'\u001b[39;49m\u001b[38;5;124;43mMean disposable household income\u001b[39;49m\u001b[38;5;124;43m'\u001b[39;49m\u001b[43m,\u001b[49m\u001b[43m \u001b[49m\u001b[38;5;124;43m'\u001b[39;49m\u001b[38;5;124;43mMost vulnerable (\u001b[39;49m\u001b[38;5;124;43m%\u001b[39;49m\u001b[38;5;124;43m)\u001b[39;49m\u001b[38;5;124;43m'\u001b[39;49m\u001b[43m,\u001b[49m\u001b[43m \u001b[49m\u001b[38;5;124;43m'\u001b[39;49m\u001b[38;5;124;43mSafety index: High Impact Crime\u001b[39;49m\u001b[38;5;124;43m'\u001b[39;49m\u001b[43m]\u001b[49m\u001b[43m]\u001b[49m\n",
      "File \u001b[1;32me:\\Apps\\Python\\Python312\\Lib\\site-packages\\pandas\\core\\frame.py:4108\u001b[0m, in \u001b[0;36mDataFrame.__getitem__\u001b[1;34m(self, key)\u001b[0m\n\u001b[0;32m   4106\u001b[0m     \u001b[38;5;28;01mif\u001b[39;00m is_iterator(key):\n\u001b[0;32m   4107\u001b[0m         key \u001b[38;5;241m=\u001b[39m \u001b[38;5;28mlist\u001b[39m(key)\n\u001b[1;32m-> 4108\u001b[0m     indexer \u001b[38;5;241m=\u001b[39m \u001b[38;5;28;43mself\u001b[39;49m\u001b[38;5;241;43m.\u001b[39;49m\u001b[43mcolumns\u001b[49m\u001b[38;5;241;43m.\u001b[39;49m\u001b[43m_get_indexer_strict\u001b[49m\u001b[43m(\u001b[49m\u001b[43mkey\u001b[49m\u001b[43m,\u001b[49m\u001b[43m \u001b[49m\u001b[38;5;124;43m\"\u001b[39;49m\u001b[38;5;124;43mcolumns\u001b[39;49m\u001b[38;5;124;43m\"\u001b[39;49m\u001b[43m)\u001b[49m[\u001b[38;5;241m1\u001b[39m]\n\u001b[0;32m   4110\u001b[0m \u001b[38;5;66;03m# take() does not accept boolean indexers\u001b[39;00m\n\u001b[0;32m   4111\u001b[0m \u001b[38;5;28;01mif\u001b[39;00m \u001b[38;5;28mgetattr\u001b[39m(indexer, \u001b[38;5;124m\"\u001b[39m\u001b[38;5;124mdtype\u001b[39m\u001b[38;5;124m\"\u001b[39m, \u001b[38;5;28;01mNone\u001b[39;00m) \u001b[38;5;241m==\u001b[39m \u001b[38;5;28mbool\u001b[39m:\n",
      "File \u001b[1;32me:\\Apps\\Python\\Python312\\Lib\\site-packages\\pandas\\core\\indexes\\base.py:6200\u001b[0m, in \u001b[0;36mIndex._get_indexer_strict\u001b[1;34m(self, key, axis_name)\u001b[0m\n\u001b[0;32m   6197\u001b[0m \u001b[38;5;28;01melse\u001b[39;00m:\n\u001b[0;32m   6198\u001b[0m     keyarr, indexer, new_indexer \u001b[38;5;241m=\u001b[39m \u001b[38;5;28mself\u001b[39m\u001b[38;5;241m.\u001b[39m_reindex_non_unique(keyarr)\n\u001b[1;32m-> 6200\u001b[0m \u001b[38;5;28;43mself\u001b[39;49m\u001b[38;5;241;43m.\u001b[39;49m\u001b[43m_raise_if_missing\u001b[49m\u001b[43m(\u001b[49m\u001b[43mkeyarr\u001b[49m\u001b[43m,\u001b[49m\u001b[43m \u001b[49m\u001b[43mindexer\u001b[49m\u001b[43m,\u001b[49m\u001b[43m \u001b[49m\u001b[43maxis_name\u001b[49m\u001b[43m)\u001b[49m\n\u001b[0;32m   6202\u001b[0m keyarr \u001b[38;5;241m=\u001b[39m \u001b[38;5;28mself\u001b[39m\u001b[38;5;241m.\u001b[39mtake(indexer)\n\u001b[0;32m   6203\u001b[0m \u001b[38;5;28;01mif\u001b[39;00m \u001b[38;5;28misinstance\u001b[39m(key, Index):\n\u001b[0;32m   6204\u001b[0m     \u001b[38;5;66;03m# GH 42790 - Preserve name from an Index\u001b[39;00m\n",
      "File \u001b[1;32me:\\Apps\\Python\\Python312\\Lib\\site-packages\\pandas\\core\\indexes\\base.py:6252\u001b[0m, in \u001b[0;36mIndex._raise_if_missing\u001b[1;34m(self, key, indexer, axis_name)\u001b[0m\n\u001b[0;32m   6249\u001b[0m     \u001b[38;5;28;01mraise\u001b[39;00m \u001b[38;5;167;01mKeyError\u001b[39;00m(\u001b[38;5;124mf\u001b[39m\u001b[38;5;124m\"\u001b[39m\u001b[38;5;124mNone of [\u001b[39m\u001b[38;5;132;01m{\u001b[39;00mkey\u001b[38;5;132;01m}\u001b[39;00m\u001b[38;5;124m] are in the [\u001b[39m\u001b[38;5;132;01m{\u001b[39;00maxis_name\u001b[38;5;132;01m}\u001b[39;00m\u001b[38;5;124m]\u001b[39m\u001b[38;5;124m\"\u001b[39m)\n\u001b[0;32m   6251\u001b[0m not_found \u001b[38;5;241m=\u001b[39m \u001b[38;5;28mlist\u001b[39m(ensure_index(key)[missing_mask\u001b[38;5;241m.\u001b[39mnonzero()[\u001b[38;5;241m0\u001b[39m]]\u001b[38;5;241m.\u001b[39munique())\n\u001b[1;32m-> 6252\u001b[0m \u001b[38;5;28;01mraise\u001b[39;00m \u001b[38;5;167;01mKeyError\u001b[39;00m(\u001b[38;5;124mf\u001b[39m\u001b[38;5;124m\"\u001b[39m\u001b[38;5;132;01m{\u001b[39;00mnot_found\u001b[38;5;132;01m}\u001b[39;00m\u001b[38;5;124m not in index\u001b[39m\u001b[38;5;124m\"\u001b[39m)\n",
      "\u001b[1;31mKeyError\u001b[0m: \"['Rent Average', 'Public Space'] not in index\""
     ]
    }
   ],
   "source": [
    "#choosing the columns we wan tto include in histogram\n",
    "\n",
    "numeric_data = dataset[['Rent: average', 'Public Space', 'Parking spots total', 'Mean disposable household income', 'Most vulnerable (%)', 'Safety index: High Impact Crime']]\n"
   ]
  },
  {
   "cell_type": "code",
   "execution_count": null,
   "metadata": {},
   "outputs": [],
   "source": [
    "#\n",
    "sns.histplot(numeric_data['Electorate'], kde=True)"
   ]
  },
  {
   "cell_type": "code",
   "execution_count": null,
   "metadata": {},
   "outputs": [],
   "source": [
    "#\n",
    "a = sns.displot(numeric_data, kde=False, rug=True)"
   ]
  },
  {
   "cell_type": "code",
   "execution_count": null,
   "metadata": {},
   "outputs": [],
   "source": [
    "#\n",
    "b = sns.kdeplot(numeric_data, fill=True)"
   ]
  },
  {
   "cell_type": "code",
   "execution_count": null,
   "metadata": {},
   "outputs": [],
   "source": []
  },
  {
   "cell_type": "code",
   "execution_count": null,
   "metadata": {},
   "outputs": [],
   "source": []
  },
  {
   "cell_type": "code",
   "execution_count": null,
   "metadata": {},
   "outputs": [],
   "source": []
  },
  {
   "cell_type": "code",
   "execution_count": null,
   "metadata": {},
   "outputs": [],
   "source": []
  },
  {
   "cell_type": "code",
   "execution_count": null,
   "metadata": {},
   "outputs": [],
   "source": []
  },
  {
   "cell_type": "code",
   "execution_count": null,
   "metadata": {},
   "outputs": [],
   "source": []
  },
  {
   "cell_type": "code",
   "execution_count": null,
   "metadata": {},
   "outputs": [],
   "source": []
  },
  {
   "cell_type": "code",
   "execution_count": null,
   "metadata": {},
   "outputs": [],
   "source": []
  },
  {
   "cell_type": "code",
   "execution_count": 4,
   "metadata": {},
   "outputs": [
    {
     "data": {
      "text/plain": [
       "<Axes: >"
      ]
     },
     "execution_count": 4,
     "metadata": {},
     "output_type": "execute_result"
    },
    {
     "data": {
      "image/png": "[encoded data removed]",
      "text/plain": [
       "<Figure size 640x480 with 1 Axes>"
      ]
     },
     "metadata": {},
     "output_type": "display_data"
    }
   ],
   "source": [
    "# plotting Amsterdam Map\n",
    "Ams_df = pd.read_csv('C:\\\\Users\\\\MSI\\\\Documents\\\\Geometry of Wijks.csv')\n",
    "\n",
    "# loading longitude(LNG), and latitude(LAT) columns\n",
    "geometry = [Point(xy) for xy in zip(Ams_df['LNG'], Ams_df['LAT'])]\n",
    "\n",
    "# Converting to GeoDataFrame\n",
    "gdf = gpd.GeoDataFrame(Ams_df, geometry=geometry)\n",
    "\n",
    "# Plotting the map\n",
    "gdf.plot()"
   ]
  },
  {
   "cell_type": "code",
   "execution_count": null,
   "metadata": {},
   "outputs": [],
   "source": [
    "\n",
    "# Choropleth Map\n",
    "# path to .csv file\n",
    "csv_file_path = r'sdfghjkjhgfds.csv'\n",
    "\n",
    "# reading the dataframe\n",
    "df = pd.read_csv(csv_file_path)\n",
    "\\\n",
    "# display dataframe\n",
    "df\n"
   ]
  },
  {
   "cell_type": "code",
   "execution_count": null,
   "metadata": {},
   "outputs": [],
   "source": []
  },
  {
   "cell_type": "code",
   "execution_count": null,
   "metadata": {},
   "outputs": [],
   "source": [
    "# using geopandas to convert long to lat to points\n",
    "df_gp = gpd.GeoDataFrame(df, geometry= gpd.points_from_xy(df.longitude, df.latitude))\n",
    "\n",
    "df_gp"
   ]
  },
  {
   "cell_type": "code",
   "execution_count": null,
   "metadata": {},
   "outputs": [],
   "source": [
    "# getting built in dataset from geo pandas\n",
    "amsterdam_data = gpd.read_csv(gpd.datasets.get_path('naturalearth_lowres'))\n",
    "\n",
    "# Set up figure and axis\n",
    "f, (ax1,ax2, ax3, ax4, ax5) = plt.subplots(1,2,3,4,5, figsize=(8, 8)) # 5graphs, index=1, columns=5\n",
    "\n",
    "# Plot '% to leave' and 'Valid_Vote'\n",
    "# First plot: '% to Leave'\n",
    "dataset.plot(column=' Column name', scheme='Quantiles', legend=True, ax=ax1)\n",
    "ax1.set_title('title of the column')\n",
    "\n",
    "# remove axis frame\n",
    "ax1.set_axis_off()\n",
    "\n",
    "# Add background map\n",
    "ctx.add_basemap(ax1, crs=dataset.crs)\n",
    "\n",
    "# Second plot: 'Valid_Vote'\n",
    "dataset.plot(column='Valid_Vote', cmap='plasma', legend=True, ax=ax2, \n",
    "             legend_kwds={\n",
    "                 'shrink': 0.2, 'fraction': 0.1,  # the size of colorbar: 20%\n",
    "                 'label': \"Number\",  # Add legend to colorbar\n",
    "                 'orientation': \"vertical\",  # or set 'horizontal'\n",
    "                 'aspect': 50 # aspect ratio\n",
    "         })\n",
    "ax2.set_title('Valid_Vote')\n",
    "# ax2.set_axis_off()\n",
    "# Add background map\n",
    "# ctx.add_basemap(ax2, crs=dataset.crs)\n",
    "\n",
    "# Title\n",
    "f.suptitle('Title_Name', size=30)\n",
    "# Change background color of the figure\n",
    "f.set_facecolor('0.75')\n",
    "\n",
    "# Adjust layout\n",
    "plt.tight_layout()\n",
    "# Draw\n",
    "plt.show()"
   ]
  }
 ],
 "metadata": {
  "kernelspec": {
   "display_name": "Python 3",
   "language": "python",
   "name": "python3"
  },
  "language_info": {
   "codemirror_mode": {
    "name": "ipython",
    "version": 3
   },
   "file_extension": ".py",
   "mimetype": "text/x-python",
   "name": "python",
   "nbconvert_exporter": "python",
   "pygments_lexer": "ipython3",
   "version": "3.12.1"
  }
 },
 "nbformat": 4,
 "nbformat_minor": 2
}
