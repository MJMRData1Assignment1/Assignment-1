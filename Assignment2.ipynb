{
 "cells": [
  {
   "cell_type": "markdown",
   "metadata": {},
   "source": [
    "\n",
    "\n",
    "## Assignment 2: Data, Grammar and Engineering\n",
    "\n",
    "**AMS MADE YMS31303**<br>\n",
    "**Q1 2024**<br>\n",
    "**Instructor:** Theodoros Chatzivasileiadis <br>\n",
    "**Instructor:** Hans Hoogenboom <br>\n",
    "**TA:** Ka Yi Chua <br>\n",
    "**[Metropolitan Data 1](https://jhoogenboom.github.io/spatial-data-science/_index.html)** <br>\n",
    "\n",
    "---\n",
    "\n"
   ]
  },
  {
   "cell_type": "markdown",
   "metadata": {},
   "source": [
    "## Question 1\n",
    "\n",
    "We will work with data from the Guardian's version of [Wikileaks' Afghanistan war logs](http://www.theguardian.com/news/datablog/2010/jul/27/wikileaks-afghanistan-data-datajournalism). The table is stored on a GoogleDoc on the following address:\n",
    "\n",
    "> [https://docs.google.com/spreadsheets/d/1EAx8_ksSCmoWW_SlhFyq2QrRn0FNNhcg1TtDFJzZRgc/edit?hl=en#gid=1](https://docs.google.com/spreadsheets/d/1EAx8_ksSCmoWW_SlhFyq2QrRn0FNNhcg1TtDFJzZRgc/edit?hl=en#gid=1)\n",
    "\n",
    "Write a Python code snippet using IPython.display to embed this Google Sheet directly into a Jupyter notebook for easy reference and interaction."
   ]
  },
  {
   "cell_type": "code",
   "execution_count": 2,
   "metadata": {},
   "outputs": [
    {
     "data": {
      "text/html": [
       "\n",
       "        <iframe\n",
       "            width=\"800\"\n",
       "            height=\"600\"\n",
       "            src=\"https://docs.google.com/spreadsheets/d/1EAx8_ksSCmoWW_SlhFyq2QrRn0FNNhcg1TtDFJzZRgc/edit?hl=en#gid=1\"\n",
       "            frameborder=\"0\"\n",
       "            allowfullscreen\n",
       "            \n",
       "        ></iframe>\n",
       "        "
      ],
      "text/plain": [
       "<IPython.lib.display.IFrame at 0x2624d48c260>"
      ]
     },
     "execution_count": 2,
     "metadata": {},
     "output_type": "execute_result"
    }
   ],
   "source": [
    "from IPython.display import IFrame\n",
    "sheet_url = \"https://docs.google.com/spreadsheets/d/1EAx8_ksSCmoWW_SlhFyq2QrRn0FNNhcg1TtDFJzZRgc/edit?hl=en#gid=1\"\n",
    "IFrame(src=sheet_url, width=800, height=600)\n",
    "\n",
    "# use many cells if you like to structure your code well"
   ]
  },
  {
   "cell_type": "markdown",
   "metadata": {},
   "source": [
    "\n",
    "## Question 2\n",
    "a) Save the csv file to your compluter and Load the data in Tab \"TOTAL Casualties\".\n",
    "\n",
    "b) Display the first 5 rows of the dataset using .head().\n",
    "\n",
    "c) Extract the column names and create a dictionary where each column name is the key, and the first value in that column is the value."
   ]
  },
  {
   "cell_type": "code",
   "execution_count": 15,
   "metadata": {},
   "outputs": [
    {
     "data": {
      "text/html": [
       "<div>\n",
       "<style scoped>\n",
       "    .dataframe tbody tr th:only-of-type {\n",
       "        vertical-align: middle;\n",
       "    }\n",
       "\n",
       "    .dataframe tbody tr th {\n",
       "        vertical-align: top;\n",
       "    }\n",
       "\n",
       "    .dataframe thead th {\n",
       "        text-align: right;\n",
       "    }\n",
       "</style>\n",
       "<table border=\"1\" class=\"dataframe\">\n",
       "  <thead>\n",
       "    <tr style=\"text-align: right;\">\n",
       "      <th></th>\n",
       "      <th>Year</th>\n",
       "      <th>Month</th>\n",
       "      <th>Taliban</th>\n",
       "      <th>Civilians</th>\n",
       "      <th>Afghan forces</th>\n",
       "      <th>Nato (detailed in spreadsheet)</th>\n",
       "      <th>Nato - official figures</th>\n",
       "    </tr>\n",
       "  </thead>\n",
       "  <tbody>\n",
       "    <tr>\n",
       "      <th>0</th>\n",
       "      <td>2004.0</td>\n",
       "      <td>January</td>\n",
       "      <td>15</td>\n",
       "      <td>51</td>\n",
       "      <td>23</td>\n",
       "      <td>NaN</td>\n",
       "      <td>11.0</td>\n",
       "    </tr>\n",
       "    <tr>\n",
       "      <th>1</th>\n",
       "      <td>2004.0</td>\n",
       "      <td>February</td>\n",
       "      <td>NaN</td>\n",
       "      <td>7</td>\n",
       "      <td>4</td>\n",
       "      <td>5</td>\n",
       "      <td>2.0</td>\n",
       "    </tr>\n",
       "    <tr>\n",
       "      <th>2</th>\n",
       "      <td>2004.0</td>\n",
       "      <td>March</td>\n",
       "      <td>19</td>\n",
       "      <td>2</td>\n",
       "      <td>NaN</td>\n",
       "      <td>2</td>\n",
       "      <td>3.0</td>\n",
       "    </tr>\n",
       "    <tr>\n",
       "      <th>3</th>\n",
       "      <td>2004.0</td>\n",
       "      <td>April</td>\n",
       "      <td>5</td>\n",
       "      <td>3</td>\n",
       "      <td>19</td>\n",
       "      <td>NaN</td>\n",
       "      <td>3.0</td>\n",
       "    </tr>\n",
       "    <tr>\n",
       "      <th>4</th>\n",
       "      <td>2004.0</td>\n",
       "      <td>May</td>\n",
       "      <td>18</td>\n",
       "      <td>29</td>\n",
       "      <td>56</td>\n",
       "      <td>6</td>\n",
       "      <td>9.0</td>\n",
       "    </tr>\n",
       "  </tbody>\n",
       "</table>\n",
       "</div>"
      ],
      "text/plain": [
       "     Year     Month Taliban Civilians Afghan forces  \\\n",
       "0  2004.0   January      15        51            23   \n",
       "1  2004.0  February     NaN         7             4   \n",
       "2  2004.0     March      19         2           NaN   \n",
       "3  2004.0     April       5         3            19   \n",
       "4  2004.0       May      18        29            56   \n",
       "\n",
       "  Nato (detailed in spreadsheet)  Nato - official figures  \n",
       "0                            NaN                     11.0  \n",
       "1                              5                      2.0  \n",
       "2                              2                      3.0  \n",
       "3                            NaN                      3.0  \n",
       "4                              6                      9.0  "
      ]
     },
     "execution_count": 15,
     "metadata": {},
     "output_type": "execute_result"
    }
   ],
   "source": [
    "# your code here\n",
    "# use many cells if you like to structure your code well\n",
    "import pandas as pd\n",
    "\n",
    "f = 'C:/Users/misha/Downloads/Wikileaks Afghanistan war logs analysis - TOTAL CASUALTIES, ALL CAUSES.csv'\n",
    "db = pd.read_csv(f, header=1)\n",
    "#new_header = db.iloc[0]\n",
    "#db = db[1:]\n",
    "#db.columns = new_header\n",
    "db.head()\n",
    "\n",
    "\n",
    "\n"
   ]
  },
  {
   "cell_type": "code",
   "execution_count": 10,
   "metadata": {},
   "outputs": [
    {
     "name": "stdout",
     "output_type": "stream",
     "text": [
      "{'Year': '2004', 'Month': 'January', 'Taliban': '15', 'Civilians': '51', 'Afghan forces': '23', 'Nato (detailed in spreadsheet)': nan, 'Nato - official figures': '11'}\n"
     ]
    }
   ],
   "source": [
    "column_dict = {col: db[col].iloc[0] for col in db.columns}\n",
    "\n",
    "print(column_dict)"
   ]
  },
  {
   "cell_type": "markdown",
   "metadata": {},
   "source": []
  },
  {
   "cell_type": "markdown",
   "metadata": {},
   "source": [
    "## Question 3\n",
    "a) Plot a histogram of any numeric column from the dataset.\n",
    "\n",
    "b) Use a kernel density plot (KDE) to visualize the distribution of another numeric column.\n",
    "\n",
    "c) Create a bar chart of a categorical variable and discuss how the plot changes if you switch to a horizontal bar plot."
   ]
  },
  {
   "cell_type": "code",
   "execution_count": 23,
   "metadata": {},
   "outputs": [
    {
     "data": {
      "image/png": "[encoded data removed]",
      "text/plain": [
       "<Figure size 500x500 with 1 Axes>"
      ]
     },
     "metadata": {},
     "output_type": "display_data"
    }
   ],
   "source": [
    "# your code here\n",
    "# use many cells if you like to structure your code well\n",
    "import seaborn as sns\n",
    "_ = sns.displot(db['Civilians'], kde=False)"
   ]
  },
  {
   "cell_type": "code",
   "execution_count": 99,
   "metadata": {},
   "outputs": [
    {
     "name": "stdout",
     "output_type": "stream",
     "text": [
      "float64\n"
     ]
    },
    {
     "data": {
      "image/png": "[encoded data removed]",
      "text/plain": [
       "<Figure size 640x480 with 1 Axes>"
      ]
     },
     "metadata": {},
     "output_type": "display_data"
    }
   ],
   "source": [
    "column_to_plot = 'Civilians'\n",
    "print(db[column_to_plot].dtype)\n",
    "db[column_to_plot] = pd.to_numeric(db[column_to_plot], errors='coerce')\n",
    "db = db.dropna(subset=[column_to_plot])\n",
    "\n",
    "_ = sns.kdeplot(db['Civilians'], fill=True)\n"
   ]
  },
  {
   "cell_type": "markdown",
   "metadata": {},
   "source": [
    "## Question 4\n",
    "a) Write a loop that iterates through each row of a DataFrame and prints the value of one specific column.\n",
    "\n",
    "b) Modify the loop so that it extracts rows where a numeric column value is greater than a threshold and stores these rows in a new DataFrame."
   ]
  },
  {
   "cell_type": "code",
   "execution_count": 129,
   "metadata": {},
   "outputs": [
    {
     "name": "stdout",
     "output_type": "stream",
     "text": [
      "51.0\n",
      "7.0\n",
      "2.0\n",
      "3.0\n",
      "29.0\n",
      "32.0\n",
      "19.0\n",
      "26.0\n",
      "4.0\n",
      "14.0\n",
      "19.0\n",
      "13.0\n",
      "4.0\n",
      "4.0\n",
      "18.0\n",
      "5.0\n",
      "49.0\n",
      "31.0\n",
      "5.0\n",
      "6.0\n",
      "12.0\n",
      "15.0\n",
      "13.0\n",
      "16.0\n",
      "93.0\n",
      "54.0\n",
      "37.0\n",
      "33.0\n",
      "54.0\n",
      "71.0\n",
      "64.0\n",
      "101.0\n",
      "172.0\n",
      "44.0\n",
      "46.0\n",
      "51.0\n",
      "53.0\n",
      "33.0\n",
      "48.0\n",
      "123.0\n",
      "71.0\n",
      "80.0\n",
      "83.0\n",
      "65.0\n",
      "64.0\n",
      "46.0\n",
      "60.0\n",
      "37.0\n",
      "43.0\n",
      "120.0\n",
      "41.0\n",
      "55.0\n",
      "54.0\n",
      "51.0\n",
      "120.0\n",
      "46.0\n",
      "63.0\n",
      "56.0\n",
      "78.0\n",
      "76.0\n",
      "31.0\n",
      "46.0\n",
      "64.0\n",
      "44.0\n",
      "109.0\n",
      "111.0\n",
      "119.0\n",
      "206.0\n",
      "197.0\n",
      "107.0\n",
      "120.0\n",
      "87.0\n"
     ]
    }
   ],
   "source": [
    "# your code here\n",
    "# use many cells if you like to structure your code well\n",
    "\n",
    "for index, row in db.iterrows():\n",
    "    print(row['Civilians'])"
   ]
  },
  {
   "cell_type": "code",
   "execution_count": 27,
   "metadata": {},
   "outputs": [
    {
     "name": "stdout",
     "output_type": "stream",
     "text": [
      "      Year      Month Taliban  Civilians Afghan forces  \\\n",
      "0   2004.0    January      15       51.0            23   \n",
      "4   2004.0        May      18       29.0            56   \n",
      "5   2004.0       June     163       32.0            14   \n",
      "7   2004.0     August      20       26.0            10   \n",
      "16  2005.0        May     113       49.0            25   \n",
      "17  2005.0       June     143       31.0             4   \n",
      "24  2006.0    January      26       93.0            14   \n",
      "25  2006.0   February      12       54.0           106   \n",
      "26  2006.0      March      36       37.0            61   \n",
      "27  2006.0      April      52       33.0            43   \n",
      "28  2006.0        May      85       54.0            50   \n",
      "29  2006.0       June     295       71.0            39   \n",
      "30  2006.0       July     220       64.0            36   \n",
      "31  2006.0     August     161      101.0            42   \n",
      "32  2006.0  September     945      172.0            97   \n",
      "33  2006.0    October     333       44.0            70   \n",
      "34  2006.0   November     325       46.0            14   \n",
      "35  2006.0   December     216       51.0            36   \n",
      "36  2007.0    January     125       53.0            49   \n",
      "37  2007.0   February     152       33.0            35   \n",
      "38  2007.0      March      76       48.0            48   \n",
      "39  2007.0      April     166      123.0            68   \n",
      "40  2007.0        May     199       71.0           125   \n",
      "41  2007.0       June     564       80.0            98   \n",
      "42  2007.0       July     485       83.0           114   \n",
      "43  2007.0     August     551       65.0            89   \n",
      "44  2007.0  September     917       64.0           144   \n",
      "45  2007.0    October     462       46.0            75   \n",
      "46  2007.0   November     270       60.0            67   \n",
      "47  2007.0   December     172       37.0            55   \n",
      "48  2008.0    January      86       43.0            48   \n",
      "49  2008.0   February     139      120.0            35   \n",
      "50  2008.0      March      90       41.0            19   \n",
      "51  2008.0      April     128       55.0            86   \n",
      "52  2008.0        May     177       54.0            65   \n",
      "53  2008.0       June     306       51.0            58   \n",
      "54  2008.0       July     303      120.0           100   \n",
      "55  2008.0     August     326       46.0            61   \n",
      "56  2008.0  September     142       63.0            57   \n",
      "57  2008.0    October     485       56.0            54   \n",
      "58  2008.0   November     479       78.0            68   \n",
      "59  2008.0   December     223       76.0            52   \n",
      "60  2009.0    January     185       31.0            34   \n",
      "61  2009.0   February     209       46.0            69   \n",
      "62  2009.0      March     202       64.0            94   \n",
      "63  2009.0      April     240       44.0            73   \n",
      "64  2009.0        May     406      109.0           118   \n",
      "65  2009.0       June     526      111.0           133   \n",
      "66  2009.0       July     557      119.0            80   \n",
      "67  2009.0     August     445      206.0           190   \n",
      "68  2009.0  September     614      197.0           133   \n",
      "69  2009.0    October     462      107.0            86   \n",
      "70  2009.0   November     410      120.0            69   \n",
      "71  2009.0   December     287       87.0            65   \n",
      "\n",
      "   Nato (detailed in spreadsheet)  Nato - official figures  \n",
      "0                             NaN                     11.0  \n",
      "4                               6                      9.0  \n",
      "5                               2                      5.0  \n",
      "7                               3                      4.0  \n",
      "16                              4                      4.0  \n",
      "17                             24                     29.0  \n",
      "24                              1                      1.0  \n",
      "25                             12                     17.0  \n",
      "26                             15                     13.0  \n",
      "27                              5                      5.0  \n",
      "28                             16                     17.0  \n",
      "29                             19                     22.0  \n",
      "30                             13                     19.0  \n",
      "31                             18                     29.0  \n",
      "32                             19                     38.0  \n",
      "33                             17                     17.0  \n",
      "34                              5                      9.0  \n",
      "35                              3                      4.0  \n",
      "36                              1                      2.0  \n",
      "37                              6                     18.0  \n",
      "38                              4                     10.0  \n",
      "39                             26                     20.0  \n",
      "40                             19                     25.0  \n",
      "41                             27                     24.0  \n",
      "42                             25                     29.0  \n",
      "43                             31                     34.0  \n",
      "44                             20                     24.0  \n",
      "45                             11                     15.0  \n",
      "46                             11                     22.0  \n",
      "47                              5                      9.0  \n",
      "48                              8                     14.0  \n",
      "49                              7                      7.0  \n",
      "50                             13                     20.0  \n",
      "51                             16                     14.0  \n",
      "52                             18                     23.0  \n",
      "53                             32                     46.0  \n",
      "54                             19                     30.0  \n",
      "55                             46                     46.0  \n",
      "56                             27                     37.0  \n",
      "57                             19                     19.0  \n",
      "58                             12                     12.0  \n",
      "59                             27                     27.0  \n",
      "60                             19                     25.0  \n",
      "61                             23                     25.0  \n",
      "62                             24                     28.0  \n",
      "63                             14                     14.0  \n",
      "64                             22                     27.0  \n",
      "65                             32                     38.0  \n",
      "66                             90                     76.0  \n",
      "67                             64                     77.0  \n",
      "68                             54                     70.0  \n",
      "69                             76                     74.0  \n",
      "70                             30                     32.0  \n",
      "71                             33                     35.0  \n"
     ]
    }
   ],
   "source": [
    "new_dataframe = []\n",
    "threshold = 20\n",
    "for index, row in db.iterrows():\n",
    "    if row['Civilians'] > threshold:\n",
    "        new_dataframe.append(row)\n",
    "\n",
    "new_db = pd.DataFrame(new_dataframe)\n",
    "\n",
    "print(new_db)"
   ]
  },
  {
   "cell_type": "markdown",
   "metadata": {},
   "source": [
    "## Question 5\n",
    "a) Crate a list containing the names \"Civilians\" and \"Afghan forces\"\n",
    "\n",
    "b) From the imported data keep the the values from these two columns only. Keep in mind that \"Year\" and \"Month\" identify each column and sould remain in the dataset.\n",
    "\n",
    "c) Obtain a monthly total count of casualties for these two groups and create a line and a bar plot of them.\n"
   ]
  },
  {
   "cell_type": "code",
   "execution_count": 28,
   "metadata": {},
   "outputs": [
    {
     "name": "stdout",
     "output_type": "stream",
     "text": [
      "      Year      Month  Civilians Afghan forces\n",
      "0   2004.0    January       51.0            23\n",
      "1   2004.0   February        7.0             4\n",
      "2   2004.0      March        2.0           NaN\n",
      "3   2004.0      April        3.0            19\n",
      "4   2004.0        May       29.0            56\n",
      "..     ...        ...        ...           ...\n",
      "68  2009.0  September      197.0           133\n",
      "69  2009.0    October      107.0            86\n",
      "70  2009.0   November      120.0            69\n",
      "71  2009.0   December       87.0            65\n",
      "72     NaN      24498        NaN         3,820\n",
      "\n",
      "[73 rows x 4 columns]\n"
     ]
    }
   ],
   "source": [
    "Civilians_and_Afghan_forces_list = [\"Civilians\", \"Afghan forces\"]\n",
    "\n",
    "Kept_columns = ['Year', 'Month'] + Civilians_and_Afghan_forces_list\n",
    "\n",
    "Casualties_db = db[Kept_columns]\n",
    "\n",
    "print(Casualties_db)\n"
   ]
  },
  {
   "cell_type": "code",
   "execution_count": null,
   "metadata": {},
   "outputs": [],
   "source": []
  }
 ],
 "metadata": {
  "kernelspec": {
   "display_name": "Python 3 (ipykernel)",
   "language": "python",
   "name": "python3"
  },
  "language_info": {
   "codemirror_mode": {
    "name": "ipython",
    "version": 3
   },
   "file_extension": ".py",
   "mimetype": "text/x-python",
   "name": "python",
   "nbconvert_exporter": "python",
   "pygments_lexer": "ipython3",
   "version": "3.12.6"
  }
 },
 "nbformat": 4,
 "nbformat_minor": 4
}
