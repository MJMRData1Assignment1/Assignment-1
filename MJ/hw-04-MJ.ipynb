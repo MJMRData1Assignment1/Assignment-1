{
 "cells": [
  {
   "cell_type": "markdown",
   "metadata": {},
   "source": [
    "## Lab 4 - part 2: Data Weights and Autocorellation\n",
    "\n",
    "**TU Delft and WUR**<br>\n",
    "**Q1 2024**<br>\n",
    "**Instructor:** Theodoros Chatzivasileiadis <br>\n",
    "**Instructor:** Hans Hoogenboom <br>\n",
    "**TA:** Ka Yi Chua <br>\n",
    "**[Metropolitan Data 1](https://jhoogenboom.github.io/spatial-data-science/_index.html)** <br>\n",
    "\n"
   ]
  },
  {
   "cell_type": "markdown",
   "metadata": {},
   "source": [
    "## Exercise 4a: Spatial Autocorrelation and ESDA "
   ]
  },
  {
   "cell_type": "markdown",
   "metadata": {},
   "source": [
    "USE the Liverpool IMD data we have been using in previous sessions. This will require you to:\n",
    "\n",
    "* Load up the IMD dataset for Liverpool.\n",
    "* Create a choropleth of the `imd_score` variable.\n",
    "* Compute the spatial weights matrix for the LSOAs. Think of one criterium to build it that you think would fit this variable (e.g. contiguity, distance-based, etc.), and apply it.\n",
    "* Create the standardized version of the IMD scores.\n",
    "* Calculate the spatial lag of the standardized scores.\n",
    "* Create the Moran Plot.\n",
    "* Calculate the value of Moran's I as well as its significance level.\n",
    "* Perform a LISA analysis and generate a map of the results. What are the main patterns?"
   ]
  },
  {
   "cell_type": "code",
   "execution_count": 40,
   "metadata": {},
   "outputs": [],
   "source": [
    "# your code here\n"
   ]
  },
  {
   "cell_type": "markdown",
   "metadata": {},
   "source": [
    "For this part I would like you to experiment with Data from Amstedam. However this will require you to find the dataset yourself!\n",
    "\n",
    "## Question 1: Building a Contiguity-Based Weight Matrix\n",
    "\n",
    "Use PySAL to create a contiguity-based weight matrix (W) for a given spatial dataset of polygons. Write a function create_contiguity_weights that:\n",
    "\n",
    "    Reads in a shapefile of polygons.\n",
    "    Constructs a Queen contiguity-based spatial weights matrix.\n",
    "    Returns the weight matrix.\n",
    "\n",
    "## Question 2: Calculating Moran’s I\n",
    "\n",
    "Write a function calculate_morans_i that:\n",
    "\n",
    "    Takes a spatial weight matrix W and an attribute array y.\n",
    "    Calculates Moran’s I for the given attribute array.\n",
    "    Returns the Moran’s I value and its p-value.\n",
    "\n",
    "## Question 3: Standardizing Spatial Weight Matrices\n",
    "\n",
    "Create a function standardize_weights that:\n",
    "\n",
    "    Takes a spatial weight matrix W.\n",
    "    Standardizes it so that the weights of each row sum to one.\n",
    "    Returns the standardized weight matrix.\n",
    "\n",
    "## Question 4: Creating Distance-Based Weights\n",
    "\n",
    "Write a function create_distance_weights that:\n",
    "\n",
    "    Takes a set of point coordinates and a threshold distance.\n",
    "    Constructs a distance-based spatial weight matrix where all points within the threshold distance are assigned a weight.\n",
    "    Returns the weight matrix.\n",
    "\n",
    "## Question 5: Visualizing a Moran Plot\n",
    "\n",
    "Using PySAL, write a function plot_moran that:\n",
    "\n",
    "    Takes a spatial weights matrix W and an attribute array y.\n",
    "    Creates and displays a Moran plot for the attribute.\n",
    "    Saves the Moran plot as an image file."
   ]
  },
  {
   "cell_type": "code",
   "execution_count": 41,
   "metadata": {},
   "outputs": [],
   "source": [
    "# your code here\n"
   ]
  },
  {
   "cell_type": "code",
   "execution_count": 42,
   "metadata": {},
   "outputs": [],
   "source": [
    "# Mohammadjavad Hosseinabadi\n",
    "\n",
    "import seaborn as sns\n",
    "import pandas as pd\n",
    "import pysal as ps\n",
    "from pysal.lib import weights\n",
    "from libpysal.io import open as psopen\n",
    "import geopandas as gpd\n",
    "import numpy as np\n",
    "import matplotlib.pyplot as plt\n"
   ]
  },
  {
   "cell_type": "code",
   "execution_count": 43,
   "metadata": {},
   "outputs": [
    {
     "name": "stderr",
     "output_type": "stream",
     "text": [
      "e:\\Apps\\Python\\Python312\\Lib\\site-packages\\libpysal\\weights\\contiguity.py:347: UserWarning: The weights matrix is not fully connected: \n",
      " There are 7 disconnected components.\n",
      " There are 6 islands with ids: E06000046, E06000053, S12000013, S12000023, S12000027, W06000001.\n",
      "  W.__init__(self, neighbors, ids=ids, **kw)\n"
     ]
    },
    {
     "data": {
      "text/plain": [
       "<libpysal.weights.contiguity.Queen at 0x1fbe37d76b0>"
      ]
     },
     "execution_count": 43,
     "metadata": {},
     "output_type": "execute_result"
    }
   ],
   "source": [
    "# find the .shp file\n",
    "imd_gpkg = 'C:\\\\Users\\\\MSI\\\\Documents\\\\Data_one\\\\brexit.gpkg'\n",
    "\n",
    "# find the file path \n",
    "lookup_path = 'C:\\\\Users\\\\MSI\\\\Documents\\\\Data_one'\n",
    "\n",
    "# Read the file in\n",
    "imd = gpd.read_file(imd_gpkg)\n",
    "\n",
    "# creating a weight matrix  under queen criteria\n",
    "w_queen = weights.Queen.from_dataframe(imd , ids=\"LAD14CD\")\n",
    "\n",
    "w_queen\n"
   ]
  },
  {
   "cell_type": "code",
   "execution_count": 46,
   "metadata": {},
   "outputs": [],
   "source": [
    "\n",
    "\n",
    "def standardize_weights(W):\n",
    "    \"\"\" \n",
    "    This function recieves spatial weight matrix W.\n",
    "    sums up each row's values and divide them by overall of the row accordingly, and\n",
    "    Returns the standardized weight matrix.\n",
    "\n",
    "    \"\"\"\n",
    "    # creating a copy of weight matrix\n",
    "    St_Weights = W.copy()\n",
    "    \n",
    "    # calculating sum of values in the same row\n",
    "    for i in St_Weights.neighbors:\n",
    "\n",
    "        overall_weight = St_Weights.sum(axis = i)\n",
    "        \n",
    "        # standardize each value, if the overall is not 0 (we have neighborhood there)\n",
    "        if overall_weight > 0:\n",
    "\n",
    "            for j in  St_Weights.neighbors[i]:\n",
    "                St_Weights[i][j]= St_Weights[i][j] / overall_weight\n",
    "                return\n",
    "\n",
    "\n",
    "    \n",
    "    return St_Weights\n",
    "\n",
    "\n"
   ]
  }
 ],
 "metadata": {
  "kernelspec": {
   "display_name": "Python 3 (ipykernel)",
   "language": "python",
   "name": "python3"
  },
  "language_info": {
   "codemirror_mode": {
    "name": "ipython",
    "version": 3
   },
   "file_extension": ".py",
   "mimetype": "text/x-python",
   "name": "python",
   "nbconvert_exporter": "python",
   "pygments_lexer": "ipython3",
   "version": "3.12.1"
  }
 },
 "nbformat": 4,
 "nbformat_minor": 4
}
