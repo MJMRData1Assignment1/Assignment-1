{
 "cells": [
  {
   "cell_type": "code",
   "execution_count": null,
   "metadata": {},
   "outputs": [],
   "source": [
    "%matplotlib inline\n",
    "\n",
    "import seaborn as sns\n",
    "import pandas as pd\n",
    "from pysal.lib import weights\n",
    "from pysal.explore import esda\n",
    "from splot.esda import moran_scatterplot, lisa_cluster, plot_local_autocorrelation\n",
    "import geopandas as gpd\n",
    "import numpy as np\n",
    "import contextily as ctx\n",
    "import matplotlib.pyplot as plt\n",
    "\n",
    "np.random.seed(123)"
   ]
  },
  {
   "cell_type": "code",
   "execution_count": null,
   "metadata": {},
   "outputs": [],
   "source": [
    "# file path\n",
    "br_path = 'C:\\\\Users\\\\MSI\\\\Documents\\\\Data_one\\\\brexit.gpkg'"
   ]
  },
  {
   "cell_type": "code",
   "execution_count": null,
   "metadata": {},
   "outputs": [],
   "source": [
    "# Load local Authority geometries using their ID code as index\n",
    "br = gpd.read_file(br_path).set_index('LAD14CD', drop=False)\n",
    "ax = br.plot(figsize=(9, 9), alpha=0.5, color='red');\n",
    "# Add background map, expressing target CRS so the basemap can be\n",
    "# reprojected (warped)\n",
    "ctx.add_basemap(ax, crs=br.crs)"
   ]
  },
  {
   "cell_type": "code",
   "execution_count": null,
   "metadata": {},
   "outputs": [],
   "source": [
    "# Set up figure and axis\n",
    "f, ax = plt.subplots(1, figsize=(9, 9))\n",
    "# Plot % to leave\n",
    "br.plot(column='Pct_Leave', scheme='Quantiles', \n",
    "        legend=True, ax=ax)\n",
    "# Remove axis frame\n",
    "ax.set_axis_off()\n",
    "# Change background color of the figure\n",
    "f.set_facecolor('0.75')\n",
    "# Title\n",
    "f.suptitle('% to Leave', size=30)\n",
    "# Draw\n",
    "plt.show()"
   ]
  },
  {
   "cell_type": "code",
   "execution_count": null,
   "metadata": {},
   "outputs": [],
   "source": [
    "#Create the spatial weights matrix\n",
    "%time w = weights.Queen.from_dataframe(br, idVariable='LAD14CD')"
   ]
  },
  {
   "cell_type": "code",
   "execution_count": null,
   "metadata": {},
   "outputs": [],
   "source": [
    "# check the neighborhood of the observation\n",
    "w['E08000012']"
   ]
  },
  {
   "cell_type": "code",
   "execution_count": null,
   "metadata": {},
   "outputs": [],
   "source": [
    "# inspect and map the islands\n",
    "ax = br.plot(color='k', figsize=(9, 9))\n",
    "br.loc[w.islands, :].plot(color='red', ax=ax);\n"
   ]
  },
  {
   "cell_type": "code",
   "execution_count": null,
   "metadata": {},
   "outputs": [],
   "source": [
    "# drop the ones that ........\n",
    "br = br.drop(w.islands)"
   ]
  },
  {
   "cell_type": "code",
   "execution_count": null,
   "metadata": {},
   "outputs": [],
   "source": [
    "# recalculate weight matrix for .....\n",
    "%time w = weights.Queen.from_dataframe(br, idVariable='LAD14CD')\n"
   ]
  },
  {
   "cell_type": "code",
   "execution_count": null,
   "metadata": {},
   "outputs": [],
   "source": [
    "# Row standardize the matrix\n",
    "w.transform = 'R'"
   ]
  },
  {
   "cell_type": "code",
   "execution_count": null,
   "metadata": {},
   "outputs": [],
   "source": [
    "# check the neighbors of the observation\n",
    "w['E08000012']"
   ]
  },
  {
   "cell_type": "code",
   "execution_count": null,
   "metadata": {},
   "outputs": [],
   "source": [
    "# calculate the spatial lag for the variable `Pct_Leave` and store it directly in the main table\n",
    "br['w_Pct_Leave'] = weights.lag_spatial(w, br['Pct_Leave'])"
   ]
  },
  {
   "cell_type": "code",
   "execution_count": null,
   "metadata": {},
   "outputs": [],
   "source": [
    "# look at the resulting variable\n",
    "br[['LAD14NM', 'Pct_Leave', 'w_Pct_Leave']].head()"
   ]
  },
  {
   "cell_type": "code",
   "execution_count": null,
   "metadata": {},
   "outputs": [],
   "source": [
    "#fact check this is correct by querying the spatial weights matrix to find out Hartepool's neighbors\n",
    "w.neighbors['E06000001']"
   ]
  },
  {
   "cell_type": "code",
   "execution_count": null,
   "metadata": {},
   "outputs": [],
   "source": [
    "# checking their values\n",
    "neis = br.loc[w.neighbors['E06000001'], 'Pct_Leave']\n",
    "neis"
   ]
  },
  {
   "cell_type": "code",
   "execution_count": null,
   "metadata": {},
   "outputs": [],
   "source": [
    "#average value\n",
    "neis.mean()"
   ]
  },
  {
   "cell_type": "code",
   "execution_count": null,
   "metadata": {},
   "outputs": [],
   "source": [
    "#Standardizing means to substract the average value and divide by the standard deviation each observation of the column\n",
    "br['Pct_Leave_std'] = (br['Pct_Leave'] - br['Pct_Leave'].mean()) / br['Pct_Leave'].std()"
   ]
  },
  {
   "cell_type": "code",
   "execution_count": null,
   "metadata": {},
   "outputs": [],
   "source": [
    "#recreate its spatial lag\n",
    "br['w_Pct_Leave_std'] = weights.lag_spatial(w, br['Pct_Leave_std'])"
   ]
  },
  {
   "cell_type": "code",
   "execution_count": null,
   "metadata": {},
   "outputs": [],
   "source": [
    "# Moran Plot\n",
    "\n",
    "# Setup the figure and axis\n",
    "f, ax = plt.subplots(1, figsize=(9, 9))\n",
    "# Plot values\n",
    "sns.regplot(x='Pct_Leave_std', y='w_Pct_Leave_std', data=br, ci=None)\n",
    "# Add vertical and horizontal lines\n",
    "plt.axvline(0, c='k', alpha=0.5)\n",
    "plt.axhline(0, c='k', alpha=0.5)\n",
    "# Display\n",
    "plt.show()"
   ]
  },
  {
   "cell_type": "code",
   "execution_count": null,
   "metadata": {},
   "outputs": [],
   "source": [
    "# calculate Moran's I\n",
    "mi = esda.Moran(br['Pct_Leave'], w)"
   ]
  },
  {
   "cell_type": "code",
   "execution_count": null,
   "metadata": {},
   "outputs": [],
   "source": [
    "# retrieve the Moran's I statistic value \n",
    "mi.I"
   ]
  },
  {
   "cell_type": "code",
   "execution_count": null,
   "metadata": {},
   "outputs": [],
   "source": [
    "#  p-value for Moran's I (the lesser that better, like 0.1% is considered statistically significant)\n",
    "mi.p_sim"
   ]
  },
  {
   "cell_type": "code",
   "execution_count": null,
   "metadata": {},
   "outputs": [],
   "source": [
    "#\n",
    "moran_scatterplot(mi);"
   ]
  },
  {
   "cell_type": "code",
   "execution_count": null,
   "metadata": {},
   "outputs": [],
   "source": [
    "# Spatial Auto coreelation\n",
    "\n",
    "# Local Indicators of Spatial Association\n",
    "\n",
    "# Setup the figure and axis\n",
    "f, ax = plt.subplots(1, figsize=(9, 9))\n",
    "# Plot values\n",
    "sns.regplot(x='Pct_Leave_std', y='w_Pct_Leave_std', data=br, ci=None)\n",
    "# Add vertical and horizontal lines\n",
    "plt.axvline(0, c='k', alpha=0.5)\n",
    "plt.axhline(0, c='k', alpha=0.5)\n",
    "plt.text(1.75, 0.5, \"HH\", fontsize=25)\n",
    "plt.text(1.5, -1.5, \"HL\", fontsize=25)\n",
    "plt.text(-2, 1, \"LH\", fontsize=25)\n",
    "plt.text(-1.5, -2.5, \"LL\", fontsize=25)\n",
    "# Display\n",
    "plt.show()"
   ]
  },
  {
   "cell_type": "code",
   "execution_count": null,
   "metadata": {},
   "outputs": [],
   "source": [
    "#\n",
    "lisa = esda.Moran_Local(br['Pct_Leave'], w)"
   ]
  },
  {
   "cell_type": "code",
   "execution_count": null,
   "metadata": {},
   "outputs": [],
   "source": [
    "#\n",
    "# Break observations into significant or not\n",
    "br['significant'] = lisa.p_sim < 0.05\n",
    "# Store the quadrant they belong to\n",
    "br['quadrant'] = lisa.q\n"
   ]
  },
  {
   "cell_type": "code",
   "execution_count": null,
   "metadata": {},
   "outputs": [],
   "source": [
    "#\n",
    "br['significant'].head()"
   ]
  },
  {
   "cell_type": "code",
   "execution_count": null,
   "metadata": {},
   "outputs": [],
   "source": [
    "#\n",
    "lisa.p_sim[:5]"
   ]
  },
  {
   "cell_type": "code",
   "execution_count": null,
   "metadata": {},
   "outputs": [],
   "source": [
    "#\n",
    "br['quadrant'].head()"
   ]
  },
  {
   "cell_type": "code",
   "execution_count": null,
   "metadata": {},
   "outputs": [],
   "source": [
    "# LISA cluster map\n",
    "lisa_cluster(lisa, br);"
   ]
  },
  {
   "cell_type": "code",
   "execution_count": null,
   "metadata": {},
   "outputs": [],
   "source": [
    "# Customized map\n",
    "# Setup the figure and axis\n",
    "f, ax = plt.subplots(1, figsize=(9, 9))\n",
    "# Plot insignificant clusters\n",
    "ns = br.loc[br['significant']==False, 'geometry']\n",
    "ns.plot(ax=ax, color='k')\n",
    "# Plot HH clusters\n",
    "hh = br.loc[(br['quadrant']==1) & (br['significant']==True), 'geometry']\n",
    "hh.plot(ax=ax, color='red')\n",
    "# Plot LL clusters\n",
    "ll = br.loc[(br['quadrant']==3) & (br['significant']==True), 'geometry']\n",
    "ll.plot(ax=ax, color='blue')\n",
    "# Plot LH clusters\n",
    "lh = br.loc[(br['quadrant']==2) & (br['significant']==True), 'geometry']\n",
    "lh.plot(ax=ax, color='#83cef4')\n",
    "# Plot HL clusters\n",
    "hl = br.loc[(br['quadrant']==4) & (br['significant']==True), 'geometry']\n",
    "hl.plot(ax=ax, color='#e59696')\n",
    "# Style and draw\n",
    "f.suptitle('LISA for Brexit vote', size=30)\n",
    "f.set_facecolor('0.75')\n",
    "ax.set_axis_off()\n",
    "plt.show()"
   ]
  },
  {
   "cell_type": "code",
   "execution_count": null,
   "metadata": {},
   "outputs": [],
   "source": [
    "# display \n",
    "plot_local_autocorrelation(lisa, br, 'Pct_Leave');\n"
   ]
  },
  {
   "cell_type": "code",
   "execution_count": null,
   "metadata": {},
   "outputs": [],
   "source": []
  }
 ],
 "metadata": {
  "kernelspec": {
   "display_name": "Python 3",
   "language": "python",
   "name": "python3"
  },
  "language_info": {
   "name": "python",
   "version": "3.12.1"
  }
 },
 "nbformat": 4,
 "nbformat_minor": 2
}
