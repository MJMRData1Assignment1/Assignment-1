{
 "cells": [
  {
   "cell_type": "code",
   "execution_count": 1,
   "metadata": {},
   "outputs": [],
   "source": [
    "import numpy as np\n",
    "import scipy as sp\n",
    "import matplotlib as mpl\n",
    "import matplotlib.cm as cm\n",
    "import matplotlib.pyplot as plt\n",
    "import pandas as pd\n",
    "import time\n",
    "pd.set_option('display.width', 500)\n",
    "pd.set_option('display.max_columns', 100)\n",
    "pd.set_option('display.notebook_repr_html', True)\n",
    "import warnings\n",
    "warnings.filterwarnings('ignore')\n",
    "\n",
    "import statsmodels.api as sm\n",
    "from statsmodels.api import OLS\n",
    "\n",
    "from sklearn import preprocessing\n",
    "from sklearn.preprocessing import PolynomialFeatures\n",
    "from sklearn.metrics import r2_score\n",
    "from sklearn.model_selection import train_test_split\n",
    "from sklearn.preprocessing import StandardScaler\n",
    "\n",
    "from pandas.plotting import scatter_matrix\n",
    "\n",
    "import seaborn as sns\n",
    "\n",
    "%matplotlib inline"
   ]
  },
  {
   "cell_type": "markdown",
   "metadata": {},
   "source": [
    "Statsmodel to retrieve $\\beta$ values"
   ]
  },
  {
   "cell_type": "code",
   "execution_count": 2,
   "metadata": {},
   "outputs": [],
   "source": [
    "import statsmodels.api as sm"
   ]
  },
  {
   "cell_type": "code",
   "execution_count": null,
   "metadata": {},
   "outputs": [],
   "source": [
    "#to include a column of ones\n",
    "X_train = sm.add_constant(x_train)\n",
    "\n",
    "#to build the OLS model\n",
    "toyregr_sm = sm.OLS(y_train, X_train)\n",
    "\n",
    "# to fit the data to the model and store the information in results_sm\n",
    "results_sm = toyregr_sm.fit()\n",
    "\n",
    "# to retrieve the beta parameters from results_sm\n",
    "beta0_sm = results_sm.params[0]\n",
    "beta1_sm = results_sm.params[1]\n",
    "\n",
    "# print the regression coefficients\n",
    "print(f'The regression coefficients from statsmodels are: beta_0 = {beta0_sm} and beta_1 = {beta1_sm}')\n",
    "\n",
    "#to access other/more information in the results_sm\n",
    "import warnings\n",
    "warnings.filterwarnings('ignore')\n",
    "print(results_sm.summary())"
   ]
  },
  {
   "cell_type": "code",
   "execution_count": null,
   "metadata": {},
   "outputs": [],
   "source": [
    "#for a multi linear regression, so including multiple x values and being able to see their relationship with y in one regression performance and one table:\n",
    "\n",
    "#define x_train by selecting the multiple variables, so timemin, distance, fare are the selected x variables in this case\n",
    "X_train = train_data[['TimeMin', 'Distance', 'Fare']] \n",
    "\n",
    "y_train = train_data['PickupCount']\n",
    "\n",
    "#then follow steps above"
   ]
  },
  {
   "cell_type": "code",
   "execution_count": null,
   "metadata": {},
   "outputs": [],
   "source": [
    "#to export the table output (results_sm.summary) to an html file\n",
    "\n",
    "with open('results_sm_summary.html', 'w') as f:\n",
    "    f.write(results_sm.summary().as_html())"
   ]
  },
  {
   "cell_type": "markdown",
   "metadata": {},
   "source": [
    "Sklearn package to retrieve $\\beta$ values"
   ]
  },
  {
   "cell_type": "code",
   "execution_count": 3,
   "metadata": {},
   "outputs": [],
   "source": [
    "from sklearn import linear_model\n"
   ]
  },
  {
   "cell_type": "code",
   "execution_count": null,
   "metadata": {},
   "outputs": [],
   "source": [
    "# build the model\n",
    "toyregr = linear_model.LinearRegression()\n",
    "\n",
    "# store regression info in results_skl\n",
    "results_skl = toyregr.fit(x_train, y_train)\n",
    "\n",
    "# retrieve the beta parameters from results\n",
    "beta0_skl = toyregr.intercept_[0]\n",
    "beta1_skl = toyregr.coef_[0][0]"
   ]
  },
  {
   "cell_type": "markdown",
   "metadata": {},
   "source": [
    "Linear regression model with sklearn"
   ]
  },
  {
   "cell_type": "code",
   "execution_count": null,
   "metadata": {},
   "outputs": [],
   "source": [
    "from sklearn.model_selection import train_test_split\n",
    "\n",
    "#splitting the data in a traning set and a test set. 0.2 means 20% of the dataset will be used as a test set and 80% will go to the training set. \n",
    "#42 controlls the randomness, can be any number, but should be consistent in choosing a specific number.\n",
    "train_data, test_data = train_test_split(cab_df, test_size=.2, random_state=42)\n",
    "\n"
   ]
  },
  {
   "cell_type": "code",
   "execution_count": null,
   "metadata": {},
   "outputs": [],
   "source": [
    "# Predictor and response array from training set \n",
    "X_train = train_data['xcolumn'].values.reshape(-1,1)\n",
    "y_train = train_data['ycolumn'].values"
   ]
  },
  {
   "cell_type": "code",
   "execution_count": null,
   "metadata": {},
   "outputs": [],
   "source": [
    "#Predictor and response array from test set \n",
    "X_test = test_data['xcolumn'].values.reshape(-1,1)\n",
    "y_test = test_data['ycolumn'].values"
   ]
  },
  {
   "cell_type": "code",
   "execution_count": null,
   "metadata": {},
   "outputs": [],
   "source": [
    "# creating a function to plot regression model \"results\"\n",
    "def plot_cabs(cur_model, poly_transformer=None):\n",
    "    \n",
    "    # build the x values for the prediction line, so in this case it creates the numbers 0 to 24 with steps of 0.1.\n",
    "    x_vals = np.arange(0,24,.1).reshape(-1,1)\n",
    "    \n",
    "    # optionally use the passed-in transformer\n",
    "    if poly_transformer != None:\n",
    "        dm = poly_transformer.fit_transform(x_vals)\n",
    "    else:\n",
    "        dm = x_vals\n",
    "        \n",
    "    # make the prediction at each x value\n",
    "    prediction = cur_model.predict(dm)\n",
    "    \n",
    "    # plot the prediction line, and the test data\n",
    "    plt.plot(x_vals,prediction, color='k', label=\"Prediction\")\n",
    "    plt.scatter(X_test, y_test, label=\"Test Data\")\n",
    "\n",
    "    # label your plots\n",
    "    plt.ylabel(\"Number of Taxi Pickups\")\n",
    "    plt.xlabel(\"Time of Day (Hours Past Midnight)\")\n",
    "    plt.legend()\n",
    "    plt.show()\n",
    "\n",
    "from sklearn.linear_model import LinearRegression\n",
    "\n",
    "#with the linearregression function, the model is trained using the training (X_train, y_train) data to predict values over a range (0-24)\n",
    "#It then plots the predicted values as a line and the test data (X_test, y_test) on a scatter plot.\n",
    "fitted_cab_model0 = LinearRegression().fit(X_train, y_train)\n",
    "plot_cabs(fitted_cab_model0)\n"
   ]
  },
  {
   "cell_type": "code",
   "execution_count": null,
   "metadata": {},
   "outputs": [],
   "source": [
    "# retrieving the R-squared value\n",
    "fitted_cab_model0.score(X_test, y_test)"
   ]
  },
  {
   "cell_type": "markdown",
   "metadata": {},
   "source": [
    "Linear regression model: statsmodels"
   ]
  },
  {
   "cell_type": "code",
   "execution_count": null,
   "metadata": {},
   "outputs": [],
   "source": [
    "# augment the data with a column ones, just as done above when using statsmodels\n",
    "train_data_augmented = sm.add_constant(X_train)\n",
    "test_data_augmented = sm.add_constant(X_test)\n",
    "\n",
    "# fit the model on the training data\n",
    "OLSModel = OLS(train_data['PickupCount'].values, train_data_augmented).fit()\n",
    "\n",
    "# get the prediction results\n",
    "ols_predicted_pickups_test = OLSModel.predict(test_data_augmented)\n",
    "r2_score_test = r2_score(test_data[['PickupCount']].values, ols_predicted_pickups_test)\n",
    "print(r2_score_test)"
   ]
  },
  {
   "cell_type": "markdown",
   "metadata": {},
   "source": [
    "Polynomial regression models with sklearn (if the relationship between the dependent and independent variable is nonlinear, if it shows a curve instead of a line for example)"
   ]
  },
  {
   "cell_type": "code",
   "execution_count": null,
   "metadata": {},
   "outputs": [],
   "source": [
    "transformer_3 = PolynomialFeatures(3, include_bias=False) #3 means it wil go up to x^3 values, it will create 3 columns in the output\n",
    "expanded_train = transformer_3.fit_transform(X_train) # transforms the original feautures of the train data to polynomial features based on the specified degree, so 3 in this case\n",
    "pd.DataFrame(expanded_train).describe() "
   ]
  },
  {
   "cell_type": "code",
   "execution_count": null,
   "metadata": {},
   "outputs": [],
   "source": [
    "# fit the Linear Regression model using the polynomial features generated from the training data\n",
    "fitted_cab_model3 = LinearRegression().fit(expanded_train, y_train)\n",
    "\n",
    "# print the fitted model and show the transformed training data with polynomial features\n",
    "print(\"fitting expanded_train:\", expanded_train)\n",
    "\n",
    "# plot the results of the fitted model, including the prediction line and the test data\n",
    "plot_cabs(fitted_cab_model3, transformer_3)"
   ]
  },
  {
   "cell_type": "code",
   "execution_count": null,
   "metadata": {},
   "outputs": [],
   "source": [
    "#to calculate r-squared value for the test data\n",
    "expanded_test = transformer_3.fit_transform(X_test)\n",
    "print(\"Test R-squared:\", fitted_cab_model3.score(expanded_test, y_test))\n"
   ]
  }
 ],
 "metadata": {
  "kernelspec": {
   "display_name": "Python 3",
   "language": "python",
   "name": "python3"
  },
  "language_info": {
   "codemirror_mode": {
    "name": "ipython",
    "version": 3
   },
   "file_extension": ".py",
   "mimetype": "text/x-python",
   "name": "python",
   "nbconvert_exporter": "python",
   "pygments_lexer": "ipython3",
   "version": "3.12.6"
  }
 },
 "nbformat": 4,
 "nbformat_minor": 2
}
