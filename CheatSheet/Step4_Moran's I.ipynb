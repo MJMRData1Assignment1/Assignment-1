{
 "cells": [
  {
   "cell_type": "markdown",
   "metadata": {},
   "source": [
    "This file contains the computing of the spatial autocorrelation with Moran's I"
   ]
  },
  {
   "cell_type": "code",
   "execution_count": 2,
   "metadata": {},
   "outputs": [
    {
     "name": "stderr",
     "output_type": "stream",
     "text": [
      "c:\\Users\\rober\\AppData\\Local\\Programs\\Python\\Python312\\Lib\\site-packages\\spaghetti\\network.py:41: FutureWarning: The next major release of pysal/spaghetti (2.0.0) will drop support for all ``libpysal.cg`` geometries. This change is a first step in refactoring ``spaghetti`` that is expected to result in dramatically reduced runtimes for network instantiation and operations. Users currently requiring network and point pattern input as ``libpysal.cg`` geometries should prepare for this simply by converting to ``shapely`` geometries.\n",
      "  warnings.warn(dep_msg, FutureWarning, stacklevel=1)\n",
      "c:\\Users\\rober\\AppData\\Local\\Programs\\Python\\Python312\\Lib\\site-packages\\tqdm\\auto.py:21: TqdmWarning: IProgress not found. Please update jupyter and ipywidgets. See https://ipywidgets.readthedocs.io/en/stable/user_install.html\n",
      "  from .autonotebook import tqdm as notebook_tqdm\n"
     ]
    }
   ],
   "source": [
    "# Import all the needed libraries for calculating Moran's I \n",
    "\n",
    "import seaborn as sns\n",
    "import pandas as pd\n",
    "from pysal.lib import weights\n",
    "from pysal.explore import esda\n",
    "from splot.esda import moran_scatterplot, lisa_cluster, plot_local_autocorrelation\n",
    "import geopandas as gpd\n",
    "import numpy as np\n",
    "import contextily as ctx\n",
    "import matplotlib.pyplot as plt"
   ]
  },
  {
   "cell_type": "code",
   "execution_count": 6,
   "metadata": {},
   "outputs": [],
   "source": [
    "# Loading and reading the datafile\n",
    "\n",
    "file_path = 'C:\\\\Users\\\\rober\\\\OneDrive\\\\المستندات\\\\MADE Metropolitan Data 1 Assignments Robert\\\\brexit.gpkg'\n",
    "\n",
    "brexit = gpd.read_file(file_path)"
   ]
  },
  {
   "cell_type": "code",
   "execution_count": null,
   "metadata": {},
   "outputs": [],
   "source": [
    "# Creating a basis choropleth map of the data\n",
    "\n",
    "# Set up figure and axis. One figure and one axis is used in the plot with 9 inches for both the width and length creating a square.\n",
    "f, ax = plt.subplots(1, figsize=(9, 9))\n",
    "\n",
    "# Plot of a specific column. Pct-Leave can be replaced here with the data we are working with.\n",
    "# 'Quantiles' means the data will be divided into equal-sized groups based on quantiles (e.g., quartiles, quintiles, etc.). \n",
    "# This is useful for visualizing data distributions where each color represents a specific quantile range (e.g., 25% of the regions with the lowest values are in one color, the next 25% in another, etc.).\n",
    "# A legend is included with legend=True\n",
    "# ax=ax allows you to place the map plot on a specific figure and axes, as opposed to letting geopandas create its own figure.\n",
    "br.plot(column='Pct_Leave', scheme='Quantiles', \n",
    "        legend=True, ax=ax)\n",
    "\n",
    "# Remove axis frame\n",
    "ax.set_axis_off()\n",
    "\n",
    "# Change background color of the figure\n",
    "f.set_facecolor('0.75')\n",
    "\n",
    "# Title\n",
    "f.suptitle('% to Leave', size=30)\n",
    "\n",
    "# Draw\n",
    "plt.show()"
   ]
  },
  {
   "cell_type": "code",
   "execution_count": null,
   "metadata": {},
   "outputs": [],
   "source": []
  }
 ],
 "metadata": {
  "kernelspec": {
   "display_name": "Python 3",
   "language": "python",
   "name": "python3"
  },
  "language_info": {
   "codemirror_mode": {
    "name": "ipython",
    "version": 3
   },
   "file_extension": ".py",
   "mimetype": "text/x-python",
   "name": "python",
   "nbconvert_exporter": "python",
   "pygments_lexer": "ipython3",
   "version": "3.12.6"
  }
 },
 "nbformat": 4,
 "nbformat_minor": 2
}
