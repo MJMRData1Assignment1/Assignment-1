{
 "cells": [
  {
   "cell_type": "markdown",
   "metadata": {},
   "source": [
    "## Assignment 3\n",
    "\n",
    "**TU Delft and WUR**<br>\n",
    "**Q1 2024**<br>\n",
    "**Instructor:** Theodoros Chatzivasileiadis <br>\n",
    "**Instructor:** Hans Hoogenboom <br>\n",
    "**TA:** Ka Yi Chua <br>\n",
    "**[Metropolitan Data 1](https://jhoogenboom.github.io/spatial-data-science/_index.html)** <br>\n",
    "\n"
   ]
  },
  {
   "cell_type": "markdown",
   "metadata": {},
   "source": [
    "__This homework assignment document will guide you through five tasks in cleaning your data.__\n",
    "\n",
    "1. Reading and Summarizing the Data.\n",
    "2. Subsetting the Data.\n",
    "3. Manage Missing Data.\n",
    "4. Shape the Data.\n",
    "5. Saving the Results. \n",
    "\n",
    "# NB: From now on you should submit 1) your notebook with the answers, remember that comments are good practice, 2) a working Git page with your assignment"
   ]
  },
  {
   "cell_type": "markdown",
   "metadata": {},
   "source": [
    "## Exercise 1: Loading the data:\n",
    "\n",
    "- Load the `goodreads.csv` file into Python\n",
    "- Explore it by looking at first and last 5 rows\n",
    "- Change the column names to `[\"rating\", 'review_count', 'isbn', 'booktype','author_url', 'year', 'genre_urls', 'dir','rating_count', 'name']`\n",
    "\n"
   ]
  },
  {
   "cell_type": "code",
   "execution_count": 7,
   "metadata": {},
   "outputs": [
    {
     "name": "stdout",
     "output_type": "stream",
     "text": [
      "      4.40   136455  0439023483  good_reads:book  \\\n",
      "0     4.41  16648.0  0439358078  good_reads:book   \n",
      "1     3.56  85746.0  0316015849  good_reads:book   \n",
      "2     4.23  47906.0  0061120081  good_reads:book   \n",
      "3     4.23  34772.0  0679783261  good_reads:book   \n",
      "4     4.25  12363.0  0446675539  good_reads:book   \n",
      "...    ...      ...         ...              ...   \n",
      "5994  4.17   2226.0  0767913736  good_reads:book   \n",
      "5995  3.99    775.0  1416909427  good_reads:book   \n",
      "5996  3.78    540.0  1620612321  good_reads:book   \n",
      "5997  3.91    281.0         NaN  good_reads:book   \n",
      "5998  4.35     61.0  0786929081  good_reads:book   \n",
      "\n",
      "     https://www.goodreads.com/author/show/153394.Suzanne_Collins    2008  \\\n",
      "0     https://www.goodreads.com/author/show/1077326....            2003.0   \n",
      "1     https://www.goodreads.com/author/show/941441.S...            2005.0   \n",
      "2     https://www.goodreads.com/author/show/1825.Har...            1960.0   \n",
      "3     https://www.goodreads.com/author/show/1265.Jan...            1813.0   \n",
      "4     https://www.goodreads.com/author/show/11081.Ma...            1936.0   \n",
      "...                                                 ...               ...   \n",
      "5994  https://www.goodreads.com/author/show/44565.Ca...            2005.0   \n",
      "5995  https://www.goodreads.com/author/show/151371.J...            2006.0   \n",
      "5996  https://www.goodreads.com/author/show/5761314....            2012.0   \n",
      "5997  https://www.goodreads.com/author/show/1201952....            2006.0   \n",
      "5998  https://www.goodreads.com/author/show/1023510....            2001.0   \n",
      "\n",
      "     /genres/young-adult|/genres/science-fiction|/genres/dystopia|/genres/fantasy|/genres/science-fiction|/genres/romance|/genres/adventure|/genres/book-club|/genres/young-adult|/genres/teen|/genres/apocalyptic|/genres/post-apocalyptic|/genres/action  \\\n",
      "0     /genres/fantasy|/genres/young-adult|/genres/fi...                                                                                                                                                                                                      \n",
      "1     /genres/young-adult|/genres/fantasy|/genres/ro...                                                                                                                                                                                                      \n",
      "2     /genres/classics|/genres/fiction|/genres/histo...                                                                                                                                                                                                      \n",
      "3     /genres/classics|/genres/fiction|/genres/roman...                                                                                                                                                                                                      \n",
      "4     /genres/classics|/genres/historical-fiction|/g...                                                                                                                                                                                                      \n",
      "...                                                 ...                                                                                                                                                                                                      \n",
      "5994  /genres/history|/genres/non-fiction|/genres/bi...                                                                                                                                                                                                      \n",
      "5995  /genres/young-adult|/genres/realistic-fiction|...                                                                                                                                                                                                      \n",
      "5996  /genres/contemporary|/genres/romance|/genres/y...                                                                                                                                                                                                      \n",
      "5997  /genres/religion|/genres/islam|/genres/religio...                                                                                                                                                                                                      \n",
      "5998  /genres/fiction|/genres/fantasy|/genres/magic|...                                                                                                                                                                                                      \n",
      "\n",
      "                    dir01/2767052-the-hunger-games.html    2958974  \\\n",
      "0     dir01/2.Harry_Potter_and_the_Order_of_the_Phoe...  1284478.0   \n",
      "1                             dir01/41865.Twilight.html  2579564.0   \n",
      "2                 dir01/2657.To_Kill_a_Mockingbird.html  2078123.0   \n",
      "3                   dir01/1885.Pride_and_Prejudice.html  1388992.0   \n",
      "4                   dir01/18405.Gone_with_the_Wind.html   645470.0   \n",
      "...                                                 ...        ...   \n",
      "5994                dir60/78508.The_River_of_Doubt.html    16618.0   \n",
      "5995                             dir60/259068.Shug.html     6179.0   \n",
      "5996                         dir60/13503247-flawed.html     2971.0   \n",
      "5997                                 dir60/2750008.html     3083.0   \n",
      "5998  dir60/66677.Legacy_of_the_Drow_Collector_s_Edi...     3982.0   \n",
      "\n",
      "                The Hunger Games (The Hunger Games, #1)  \n",
      "0     Harry Potter and the Order of the Phoenix (Har...  \n",
      "1                               Twilight (Twilight, #1)  \n",
      "2                                 To Kill a Mockingbird  \n",
      "3                                   Pride and Prejudice  \n",
      "4                                    Gone with the Wind  \n",
      "...                                                 ...  \n",
      "5994                                 The River of Doubt  \n",
      "5995                                               Shug  \n",
      "5996                                             Flawed  \n",
      "5997              Ø£Ø³Ø¹Ø¯ Ø§ÙØ±Ø£Ø© ÙÙ Ø§ÙØ¹Ø§ÙÙ  \n",
      "5998  Legacy of the Drow Collector's Edition (Legacy...  \n",
      "\n",
      "[5999 rows x 10 columns]\n"
     ]
    }
   ],
   "source": [
    "# I'm first loading the 'goodreads.csv' file into Python\n",
    "\n",
    "import pandas as pd\n",
    "\n",
    "file_path = 'C:\\\\Users\\\\rober\\\\Documents\\\\data\\\\goodreads.csv'\n",
    "\n",
    "df = pd.read_csv(file_path)\n",
    "\n",
    "print(df)\n"
   ]
  },
  {
   "cell_type": "code",
   "execution_count": 8,
   "metadata": {},
   "outputs": [
    {
     "name": "stdout",
     "output_type": "stream",
     "text": [
      "   4.40   136455  0439023483  good_reads:book  \\\n",
      "0  4.41  16648.0  0439358078  good_reads:book   \n",
      "1  3.56  85746.0  0316015849  good_reads:book   \n",
      "2  4.23  47906.0  0061120081  good_reads:book   \n",
      "3  4.23  34772.0  0679783261  good_reads:book   \n",
      "4  4.25  12363.0  0446675539  good_reads:book   \n",
      "\n",
      "  https://www.goodreads.com/author/show/153394.Suzanne_Collins    2008  \\\n",
      "0  https://www.goodreads.com/author/show/1077326....            2003.0   \n",
      "1  https://www.goodreads.com/author/show/941441.S...            2005.0   \n",
      "2  https://www.goodreads.com/author/show/1825.Har...            1960.0   \n",
      "3  https://www.goodreads.com/author/show/1265.Jan...            1813.0   \n",
      "4  https://www.goodreads.com/author/show/11081.Ma...            1936.0   \n",
      "\n",
      "  /genres/young-adult|/genres/science-fiction|/genres/dystopia|/genres/fantasy|/genres/science-fiction|/genres/romance|/genres/adventure|/genres/book-club|/genres/young-adult|/genres/teen|/genres/apocalyptic|/genres/post-apocalyptic|/genres/action  \\\n",
      "0  /genres/fantasy|/genres/young-adult|/genres/fi...                                                                                                                                                                                                      \n",
      "1  /genres/young-adult|/genres/fantasy|/genres/ro...                                                                                                                                                                                                      \n",
      "2  /genres/classics|/genres/fiction|/genres/histo...                                                                                                                                                                                                      \n",
      "3  /genres/classics|/genres/fiction|/genres/roman...                                                                                                                                                                                                      \n",
      "4  /genres/classics|/genres/historical-fiction|/g...                                                                                                                                                                                                      \n",
      "\n",
      "                 dir01/2767052-the-hunger-games.html    2958974  \\\n",
      "0  dir01/2.Harry_Potter_and_the_Order_of_the_Phoe...  1284478.0   \n",
      "1                          dir01/41865.Twilight.html  2579564.0   \n",
      "2              dir01/2657.To_Kill_a_Mockingbird.html  2078123.0   \n",
      "3                dir01/1885.Pride_and_Prejudice.html  1388992.0   \n",
      "4                dir01/18405.Gone_with_the_Wind.html   645470.0   \n",
      "\n",
      "             The Hunger Games (The Hunger Games, #1)  \n",
      "0  Harry Potter and the Order of the Phoenix (Har...  \n",
      "1                            Twilight (Twilight, #1)  \n",
      "2                              To Kill a Mockingbird  \n",
      "3                                Pride and Prejudice  \n",
      "4                                 Gone with the Wind  \n"
     ]
    }
   ],
   "source": [
    "# Now I will extract the first rows\n",
    "\n",
    "print(df.head())"
   ]
  },
  {
   "cell_type": "code",
   "execution_count": 9,
   "metadata": {},
   "outputs": [
    {
     "data": {
      "text/html": [
       "<div>\n",
       "<style scoped>\n",
       "    .dataframe tbody tr th:only-of-type {\n",
       "        vertical-align: middle;\n",
       "    }\n",
       "\n",
       "    .dataframe tbody tr th {\n",
       "        vertical-align: top;\n",
       "    }\n",
       "\n",
       "    .dataframe thead th {\n",
       "        text-align: right;\n",
       "    }\n",
       "</style>\n",
       "<table border=\"1\" class=\"dataframe\">\n",
       "  <thead>\n",
       "    <tr style=\"text-align: right;\">\n",
       "      <th></th>\n",
       "      <th>rating</th>\n",
       "      <th>review_count</th>\n",
       "      <th>isbn</th>\n",
       "      <th>booktype</th>\n",
       "      <th>author_url</th>\n",
       "      <th>year</th>\n",
       "      <th>genre_urls</th>\n",
       "      <th>dir</th>\n",
       "      <th>rating_count</th>\n",
       "      <th>name</th>\n",
       "    </tr>\n",
       "  </thead>\n",
       "  <tbody>\n",
       "    <tr>\n",
       "      <th>0</th>\n",
       "      <td>4.40</td>\n",
       "      <td>136455.0</td>\n",
       "      <td>0439023483</td>\n",
       "      <td>good_reads:book</td>\n",
       "      <td>https://www.goodreads.com/author/show/153394.S...</td>\n",
       "      <td>2008.0</td>\n",
       "      <td>/genres/young-adult|/genres/science-fiction|/g...</td>\n",
       "      <td>dir01/2767052-the-hunger-games.html</td>\n",
       "      <td>2958974.0</td>\n",
       "      <td>The Hunger Games (The Hunger Games, #1)</td>\n",
       "    </tr>\n",
       "    <tr>\n",
       "      <th>1</th>\n",
       "      <td>4.41</td>\n",
       "      <td>16648.0</td>\n",
       "      <td>0439358078</td>\n",
       "      <td>good_reads:book</td>\n",
       "      <td>https://www.goodreads.com/author/show/1077326....</td>\n",
       "      <td>2003.0</td>\n",
       "      <td>/genres/fantasy|/genres/young-adult|/genres/fi...</td>\n",
       "      <td>dir01/2.Harry_Potter_and_the_Order_of_the_Phoe...</td>\n",
       "      <td>1284478.0</td>\n",
       "      <td>Harry Potter and the Order of the Phoenix (Har...</td>\n",
       "    </tr>\n",
       "    <tr>\n",
       "      <th>2</th>\n",
       "      <td>3.56</td>\n",
       "      <td>85746.0</td>\n",
       "      <td>0316015849</td>\n",
       "      <td>good_reads:book</td>\n",
       "      <td>https://www.goodreads.com/author/show/941441.S...</td>\n",
       "      <td>2005.0</td>\n",
       "      <td>/genres/young-adult|/genres/fantasy|/genres/ro...</td>\n",
       "      <td>dir01/41865.Twilight.html</td>\n",
       "      <td>2579564.0</td>\n",
       "      <td>Twilight (Twilight, #1)</td>\n",
       "    </tr>\n",
       "    <tr>\n",
       "      <th>3</th>\n",
       "      <td>4.23</td>\n",
       "      <td>47906.0</td>\n",
       "      <td>0061120081</td>\n",
       "      <td>good_reads:book</td>\n",
       "      <td>https://www.goodreads.com/author/show/1825.Har...</td>\n",
       "      <td>1960.0</td>\n",
       "      <td>/genres/classics|/genres/fiction|/genres/histo...</td>\n",
       "      <td>dir01/2657.To_Kill_a_Mockingbird.html</td>\n",
       "      <td>2078123.0</td>\n",
       "      <td>To Kill a Mockingbird</td>\n",
       "    </tr>\n",
       "    <tr>\n",
       "      <th>4</th>\n",
       "      <td>4.23</td>\n",
       "      <td>34772.0</td>\n",
       "      <td>0679783261</td>\n",
       "      <td>good_reads:book</td>\n",
       "      <td>https://www.goodreads.com/author/show/1265.Jan...</td>\n",
       "      <td>1813.0</td>\n",
       "      <td>/genres/classics|/genres/fiction|/genres/roman...</td>\n",
       "      <td>dir01/1885.Pride_and_Prejudice.html</td>\n",
       "      <td>1388992.0</td>\n",
       "      <td>Pride and Prejudice</td>\n",
       "    </tr>\n",
       "  </tbody>\n",
       "</table>\n",
       "</div>"
      ],
      "text/plain": [
       "   rating  review_count        isbn         booktype  \\\n",
       "0    4.40      136455.0  0439023483  good_reads:book   \n",
       "1    4.41       16648.0  0439358078  good_reads:book   \n",
       "2    3.56       85746.0  0316015849  good_reads:book   \n",
       "3    4.23       47906.0  0061120081  good_reads:book   \n",
       "4    4.23       34772.0  0679783261  good_reads:book   \n",
       "\n",
       "                                          author_url    year  \\\n",
       "0  https://www.goodreads.com/author/show/153394.S...  2008.0   \n",
       "1  https://www.goodreads.com/author/show/1077326....  2003.0   \n",
       "2  https://www.goodreads.com/author/show/941441.S...  2005.0   \n",
       "3  https://www.goodreads.com/author/show/1825.Har...  1960.0   \n",
       "4  https://www.goodreads.com/author/show/1265.Jan...  1813.0   \n",
       "\n",
       "                                          genre_urls  \\\n",
       "0  /genres/young-adult|/genres/science-fiction|/g...   \n",
       "1  /genres/fantasy|/genres/young-adult|/genres/fi...   \n",
       "2  /genres/young-adult|/genres/fantasy|/genres/ro...   \n",
       "3  /genres/classics|/genres/fiction|/genres/histo...   \n",
       "4  /genres/classics|/genres/fiction|/genres/roman...   \n",
       "\n",
       "                                                 dir  rating_count  \\\n",
       "0                dir01/2767052-the-hunger-games.html     2958974.0   \n",
       "1  dir01/2.Harry_Potter_and_the_Order_of_the_Phoe...     1284478.0   \n",
       "2                          dir01/41865.Twilight.html     2579564.0   \n",
       "3              dir01/2657.To_Kill_a_Mockingbird.html     2078123.0   \n",
       "4                dir01/1885.Pride_and_Prejudice.html     1388992.0   \n",
       "\n",
       "                                                name  \n",
       "0            The Hunger Games (The Hunger Games, #1)  \n",
       "1  Harry Potter and the Order of the Phoenix (Har...  \n",
       "2                            Twilight (Twilight, #1)  \n",
       "3                              To Kill a Mockingbird  \n",
       "4                                Pride and Prejudice  "
      ]
     },
     "execution_count": 9,
     "metadata": {},
     "output_type": "execute_result"
    }
   ],
   "source": [
    "# Here I will change the column names and print the first 5 rows again\n",
    "\n",
    "df = pd.read_csv(file_path, header=None, \n",
    "                 names=[\"rating\", 'review_count', 'isbn', 'booktype','author_url', 'year', 'genre_urls', 'dir','rating_count', 'name'],\n",
    ")\n",
    "\n",
    "df.head()\n"
   ]
  },
  {
   "cell_type": "markdown",
   "metadata": {},
   "source": [
    "## Exercise 2: Subsetting the data\n",
    "\n",
    "- Subset the data by creating new dataframe only with `[\"rating\", 'isbn', 'author_url', 'year', 'genre_urls', 'name']`"
   ]
  },
  {
   "cell_type": "code",
   "execution_count": 10,
   "metadata": {},
   "outputs": [
    {
     "name": "stdout",
     "output_type": "stream",
     "text": [
      "   rating        isbn                                         author_url  \\\n",
      "0    4.40  0439023483  https://www.goodreads.com/author/show/153394.S...   \n",
      "1    4.41  0439358078  https://www.goodreads.com/author/show/1077326....   \n",
      "2    3.56  0316015849  https://www.goodreads.com/author/show/941441.S...   \n",
      "3    4.23  0061120081  https://www.goodreads.com/author/show/1825.Har...   \n",
      "4    4.23  0679783261  https://www.goodreads.com/author/show/1265.Jan...   \n",
      "\n",
      "     year                                         genre_urls  \\\n",
      "0  2008.0  /genres/young-adult|/genres/science-fiction|/g...   \n",
      "1  2003.0  /genres/fantasy|/genres/young-adult|/genres/fi...   \n",
      "2  2005.0  /genres/young-adult|/genres/fantasy|/genres/ro...   \n",
      "3  1960.0  /genres/classics|/genres/fiction|/genres/histo...   \n",
      "4  1813.0  /genres/classics|/genres/fiction|/genres/roman...   \n",
      "\n",
      "                                                name  \n",
      "0            The Hunger Games (The Hunger Games, #1)  \n",
      "1  Harry Potter and the Order of the Phoenix (Har...  \n",
      "2                            Twilight (Twilight, #1)  \n",
      "3                              To Kill a Mockingbird  \n",
      "4                                Pride and Prejudice  \n"
     ]
    }
   ],
   "source": [
    "# Making the subset of the columns rating, isbn, author_url, year, genre_urls, and name and printing the first 5 rows again\n",
    "# For me the group.by() function did not work here. Let's discuss on Monday\n",
    "\n",
    "subset_df = df[[\"rating\", \"isbn\", \"author_url\", \"year\", \"genre_urls\", \"name\"]]\n",
    "\n",
    "print(subset_df.head())\n"
   ]
  },
  {
   "cell_type": "markdown",
   "metadata": {},
   "source": [
    "## Exercise 3: Manage Missing Data\n",
    "We’ve got a number of ways in general of dealing with missing data. These involve\n",
    "\n",
    "1. Dropping off cases (or rows) in the data with any missing variables\n",
    "2. Excluding variables in the data with any missing data \n",
    "3. Selectively choosing indicators with only a limited amount of missing data\n",
    "4. Replacing missing variables with averages, or other representative values\n",
    "5. Creating a separate model to predict missing data\n",
    "\n",
    "- Count the missing values in each column\n",
    "- Manage the missing values (delete or replace values or leave them as they are) and briefly explain your choice for each column\n"
   ]
  },
  {
   "cell_type": "code",
   "execution_count": 11,
   "metadata": {},
   "outputs": [
    {
     "name": "stdout",
     "output_type": "stream",
     "text": [
      "rating            2\n",
      "review_count      2\n",
      "isbn            477\n",
      "booktype          2\n",
      "author_url        2\n",
      "year              7\n",
      "genre_urls       62\n",
      "dir               0\n",
      "rating_count      2\n",
      "name              2\n",
      "dtype: int64\n"
     ]
    }
   ],
   "source": [
    "# First I'm counting the missing values in each column\n",
    "\n",
    "missing_data_count = df.isnull().sum()\n",
    "print(missing_data_count)\n"
   ]
  },
  {
   "cell_type": "code",
   "execution_count": 12,
   "metadata": {},
   "outputs": [
    {
     "data": {
      "text/html": [
       "<div>\n",
       "<style scoped>\n",
       "    .dataframe tbody tr th:only-of-type {\n",
       "        vertical-align: middle;\n",
       "    }\n",
       "\n",
       "    .dataframe tbody tr th {\n",
       "        vertical-align: top;\n",
       "    }\n",
       "\n",
       "    .dataframe thead th {\n",
       "        text-align: right;\n",
       "    }\n",
       "</style>\n",
       "<table border=\"1\" class=\"dataframe\">\n",
       "  <thead>\n",
       "    <tr style=\"text-align: right;\">\n",
       "      <th></th>\n",
       "      <th>rating</th>\n",
       "      <th>review_count</th>\n",
       "      <th>isbn</th>\n",
       "      <th>booktype</th>\n",
       "      <th>author_url</th>\n",
       "      <th>year</th>\n",
       "      <th>genre_urls</th>\n",
       "      <th>dir</th>\n",
       "      <th>rating_count</th>\n",
       "      <th>name</th>\n",
       "    </tr>\n",
       "  </thead>\n",
       "  <tbody>\n",
       "    <tr>\n",
       "      <th>0</th>\n",
       "      <td>4.4</td>\n",
       "      <td>136455.0</td>\n",
       "      <td>0439023483</td>\n",
       "      <td>good_reads:book</td>\n",
       "      <td>https://www.goodreads.com/author/show/153394.S...</td>\n",
       "      <td>2008.0</td>\n",
       "      <td>/genres/young-adult|/genres/science-fiction|/g...</td>\n",
       "      <td>dir01/2767052-the-hunger-games.html</td>\n",
       "      <td>2958974.0</td>\n",
       "      <td>The Hunger Games (The Hunger Games, #1)</td>\n",
       "    </tr>\n",
       "    <tr>\n",
       "      <th>1</th>\n",
       "      <td>4.41</td>\n",
       "      <td>16648.0</td>\n",
       "      <td>0439358078</td>\n",
       "      <td>good_reads:book</td>\n",
       "      <td>https://www.goodreads.com/author/show/1077326....</td>\n",
       "      <td>2003.0</td>\n",
       "      <td>/genres/fantasy|/genres/young-adult|/genres/fi...</td>\n",
       "      <td>dir01/2.Harry_Potter_and_the_Order_of_the_Phoe...</td>\n",
       "      <td>1284478.0</td>\n",
       "      <td>Harry Potter and the Order of the Phoenix (Har...</td>\n",
       "    </tr>\n",
       "    <tr>\n",
       "      <th>2</th>\n",
       "      <td>3.56</td>\n",
       "      <td>85746.0</td>\n",
       "      <td>0316015849</td>\n",
       "      <td>good_reads:book</td>\n",
       "      <td>https://www.goodreads.com/author/show/941441.S...</td>\n",
       "      <td>2005.0</td>\n",
       "      <td>/genres/young-adult|/genres/fantasy|/genres/ro...</td>\n",
       "      <td>dir01/41865.Twilight.html</td>\n",
       "      <td>2579564.0</td>\n",
       "      <td>Twilight (Twilight, #1)</td>\n",
       "    </tr>\n",
       "    <tr>\n",
       "      <th>3</th>\n",
       "      <td>4.23</td>\n",
       "      <td>47906.0</td>\n",
       "      <td>0061120081</td>\n",
       "      <td>good_reads:book</td>\n",
       "      <td>https://www.goodreads.com/author/show/1825.Har...</td>\n",
       "      <td>1960.0</td>\n",
       "      <td>/genres/classics|/genres/fiction|/genres/histo...</td>\n",
       "      <td>dir01/2657.To_Kill_a_Mockingbird.html</td>\n",
       "      <td>2078123.0</td>\n",
       "      <td>To Kill a Mockingbird</td>\n",
       "    </tr>\n",
       "    <tr>\n",
       "      <th>4</th>\n",
       "      <td>4.23</td>\n",
       "      <td>34772.0</td>\n",
       "      <td>0679783261</td>\n",
       "      <td>good_reads:book</td>\n",
       "      <td>https://www.goodreads.com/author/show/1265.Jan...</td>\n",
       "      <td>1813.0</td>\n",
       "      <td>/genres/classics|/genres/fiction|/genres/roman...</td>\n",
       "      <td>dir01/1885.Pride_and_Prejudice.html</td>\n",
       "      <td>1388992.0</td>\n",
       "      <td>Pride and Prejudice</td>\n",
       "    </tr>\n",
       "    <tr>\n",
       "      <th>...</th>\n",
       "      <td>...</td>\n",
       "      <td>...</td>\n",
       "      <td>...</td>\n",
       "      <td>...</td>\n",
       "      <td>...</td>\n",
       "      <td>...</td>\n",
       "      <td>...</td>\n",
       "      <td>...</td>\n",
       "      <td>...</td>\n",
       "      <td>...</td>\n",
       "    </tr>\n",
       "    <tr>\n",
       "      <th>5995</th>\n",
       "      <td>4.17</td>\n",
       "      <td>2226.0</td>\n",
       "      <td>0767913736</td>\n",
       "      <td>good_reads:book</td>\n",
       "      <td>https://www.goodreads.com/author/show/44565.Ca...</td>\n",
       "      <td>2005.0</td>\n",
       "      <td>/genres/history|/genres/non-fiction|/genres/bi...</td>\n",
       "      <td>dir60/78508.The_River_of_Doubt.html</td>\n",
       "      <td>16618.0</td>\n",
       "      <td>The River of Doubt</td>\n",
       "    </tr>\n",
       "    <tr>\n",
       "      <th>5996</th>\n",
       "      <td>3.99</td>\n",
       "      <td>775.0</td>\n",
       "      <td>1416909427</td>\n",
       "      <td>good_reads:book</td>\n",
       "      <td>https://www.goodreads.com/author/show/151371.J...</td>\n",
       "      <td>2006.0</td>\n",
       "      <td>/genres/young-adult|/genres/realistic-fiction|...</td>\n",
       "      <td>dir60/259068.Shug.html</td>\n",
       "      <td>6179.0</td>\n",
       "      <td>Shug</td>\n",
       "    </tr>\n",
       "    <tr>\n",
       "      <th>5997</th>\n",
       "      <td>3.78</td>\n",
       "      <td>540.0</td>\n",
       "      <td>1620612321</td>\n",
       "      <td>good_reads:book</td>\n",
       "      <td>https://www.goodreads.com/author/show/5761314....</td>\n",
       "      <td>2012.0</td>\n",
       "      <td>/genres/contemporary|/genres/romance|/genres/y...</td>\n",
       "      <td>dir60/13503247-flawed.html</td>\n",
       "      <td>2971.0</td>\n",
       "      <td>Flawed</td>\n",
       "    </tr>\n",
       "    <tr>\n",
       "      <th>5998</th>\n",
       "      <td>3.91</td>\n",
       "      <td>281.0</td>\n",
       "      <td>Unknown</td>\n",
       "      <td>good_reads:book</td>\n",
       "      <td>https://www.goodreads.com/author/show/1201952....</td>\n",
       "      <td>2006.0</td>\n",
       "      <td>/genres/religion|/genres/islam|/genres/religio...</td>\n",
       "      <td>dir60/2750008.html</td>\n",
       "      <td>3083.0</td>\n",
       "      <td>Ø£Ø³Ø¹Ø¯ Ø§ÙØ±Ø£Ø© ÙÙ Ø§ÙØ¹Ø§ÙÙ</td>\n",
       "    </tr>\n",
       "    <tr>\n",
       "      <th>5999</th>\n",
       "      <td>4.35</td>\n",
       "      <td>61.0</td>\n",
       "      <td>0786929081</td>\n",
       "      <td>good_reads:book</td>\n",
       "      <td>https://www.goodreads.com/author/show/1023510....</td>\n",
       "      <td>2001.0</td>\n",
       "      <td>/genres/fiction|/genres/fantasy|/genres/magic|...</td>\n",
       "      <td>dir60/66677.Legacy_of_the_Drow_Collector_s_Edi...</td>\n",
       "      <td>3982.0</td>\n",
       "      <td>Legacy of the Drow Collector's Edition (Legacy...</td>\n",
       "    </tr>\n",
       "  </tbody>\n",
       "</table>\n",
       "<p>6000 rows × 10 columns</p>\n",
       "</div>"
      ],
      "text/plain": [
       "     rating review_count        isbn         booktype  \\\n",
       "0       4.4     136455.0  0439023483  good_reads:book   \n",
       "1      4.41      16648.0  0439358078  good_reads:book   \n",
       "2      3.56      85746.0  0316015849  good_reads:book   \n",
       "3      4.23      47906.0  0061120081  good_reads:book   \n",
       "4      4.23      34772.0  0679783261  good_reads:book   \n",
       "...     ...          ...         ...              ...   \n",
       "5995   4.17       2226.0  0767913736  good_reads:book   \n",
       "5996   3.99        775.0  1416909427  good_reads:book   \n",
       "5997   3.78        540.0  1620612321  good_reads:book   \n",
       "5998   3.91        281.0     Unknown  good_reads:book   \n",
       "5999   4.35         61.0  0786929081  good_reads:book   \n",
       "\n",
       "                                             author_url    year  \\\n",
       "0     https://www.goodreads.com/author/show/153394.S...  2008.0   \n",
       "1     https://www.goodreads.com/author/show/1077326....  2003.0   \n",
       "2     https://www.goodreads.com/author/show/941441.S...  2005.0   \n",
       "3     https://www.goodreads.com/author/show/1825.Har...  1960.0   \n",
       "4     https://www.goodreads.com/author/show/1265.Jan...  1813.0   \n",
       "...                                                 ...     ...   \n",
       "5995  https://www.goodreads.com/author/show/44565.Ca...  2005.0   \n",
       "5996  https://www.goodreads.com/author/show/151371.J...  2006.0   \n",
       "5997  https://www.goodreads.com/author/show/5761314....  2012.0   \n",
       "5998  https://www.goodreads.com/author/show/1201952....  2006.0   \n",
       "5999  https://www.goodreads.com/author/show/1023510....  2001.0   \n",
       "\n",
       "                                             genre_urls  \\\n",
       "0     /genres/young-adult|/genres/science-fiction|/g...   \n",
       "1     /genres/fantasy|/genres/young-adult|/genres/fi...   \n",
       "2     /genres/young-adult|/genres/fantasy|/genres/ro...   \n",
       "3     /genres/classics|/genres/fiction|/genres/histo...   \n",
       "4     /genres/classics|/genres/fiction|/genres/roman...   \n",
       "...                                                 ...   \n",
       "5995  /genres/history|/genres/non-fiction|/genres/bi...   \n",
       "5996  /genres/young-adult|/genres/realistic-fiction|...   \n",
       "5997  /genres/contemporary|/genres/romance|/genres/y...   \n",
       "5998  /genres/religion|/genres/islam|/genres/religio...   \n",
       "5999  /genres/fiction|/genres/fantasy|/genres/magic|...   \n",
       "\n",
       "                                                    dir rating_count  \\\n",
       "0                   dir01/2767052-the-hunger-games.html    2958974.0   \n",
       "1     dir01/2.Harry_Potter_and_the_Order_of_the_Phoe...    1284478.0   \n",
       "2                             dir01/41865.Twilight.html    2579564.0   \n",
       "3                 dir01/2657.To_Kill_a_Mockingbird.html    2078123.0   \n",
       "4                   dir01/1885.Pride_and_Prejudice.html    1388992.0   \n",
       "...                                                 ...          ...   \n",
       "5995                dir60/78508.The_River_of_Doubt.html      16618.0   \n",
       "5996                             dir60/259068.Shug.html       6179.0   \n",
       "5997                         dir60/13503247-flawed.html       2971.0   \n",
       "5998                                 dir60/2750008.html       3083.0   \n",
       "5999  dir60/66677.Legacy_of_the_Drow_Collector_s_Edi...       3982.0   \n",
       "\n",
       "                                                   name  \n",
       "0               The Hunger Games (The Hunger Games, #1)  \n",
       "1     Harry Potter and the Order of the Phoenix (Har...  \n",
       "2                               Twilight (Twilight, #1)  \n",
       "3                                 To Kill a Mockingbird  \n",
       "4                                   Pride and Prejudice  \n",
       "...                                                 ...  \n",
       "5995                                 The River of Doubt  \n",
       "5996                                               Shug  \n",
       "5997                                             Flawed  \n",
       "5998              Ø£Ø³Ø¹Ø¯ Ø§Ù\n",
       "Ø±Ø£Ø© ÙÙ Ø§ÙØ¹Ø§ÙÙ\n",
       "  \n",
       "5999  Legacy of the Drow Collector's Edition (Legacy...  \n",
       "\n",
       "[6000 rows x 10 columns]"
      ]
     },
     "execution_count": 12,
     "metadata": {},
     "output_type": "execute_result"
    }
   ],
   "source": [
    "# Now I will manage the missing values. I have chosen to replace the \"NaN\"-values by \"Unknown\", as there is no reason yet to delete the missing objects yet. Meanwhile it gives someone who is not familiar with coding the understanding that the value is actually missing, where the term \"NaN\" could be unclear.\n",
    "\n",
    "df.fillna(\"Unknown\")"
   ]
  },
  {
   "cell_type": "markdown",
   "metadata": {},
   "source": [
    "## Exercise 4: Shape the data\n",
    "- Parse the `author_url` to create new column named `author`\n",
    "- Sort the data by putting higher rates go first. If there are overlapping rates, try to put earlier years go first.\n",
    "- **(Stretch Goal)** Examine how many books were published at each year and find lowest, highest rate of each year. "
   ]
  },
  {
   "cell_type": "code",
   "execution_count": 13,
   "metadata": {},
   "outputs": [
    {
     "data": {
      "text/plain": [
       "'https://www.goodreads.com/author/show/153394.Suzanne_Collins'"
      ]
     },
     "execution_count": 13,
     "metadata": {},
     "output_type": "execute_result"
    }
   ],
   "source": [
    "# Parsing the \"author_url\" to create a new column named author\n",
    "\n",
    "# First we will test out if it works with the first row\n",
    "\n",
    "test_string = df.author_url[0]\n",
    "test_string\n"
   ]
  },
  {
   "cell_type": "code",
   "execution_count": 14,
   "metadata": {},
   "outputs": [
    {
     "data": {
      "text/plain": [
       "['Suzanne_Collins']"
      ]
     },
     "execution_count": 14,
     "metadata": {},
     "output_type": "execute_result"
    }
   ],
   "source": [
    "# Now I will isolate the name from the url\n",
    "\n",
    "test_string.split('/')[-1].split('.')[1:]"
   ]
  },
  {
   "cell_type": "code",
   "execution_count": 23,
   "metadata": {},
   "outputs": [],
   "source": [
    "# Now I will write the function that extracts the author's name from the url\n",
    "\n",
    "# In order to omit an AttributeError resulting of floats that cannot be splitted, I will use an if-else statement\n",
    "\n",
    "def get_author(url):\n",
    "    if isinstance(url, str):\n",
    "        name = url.split('/')[-1].split('.')[1:]\n",
    "        return name\n",
    "    else:\n",
    "        return None"
   ]
  },
  {
   "cell_type": "code",
   "execution_count": 16,
   "metadata": {},
   "outputs": [
    {
     "data": {
      "text/plain": [
       "0    Suzanne_Collins\n",
       "1        J_K_Rowling\n",
       "2    Stephenie_Meyer\n",
       "3         Harper_Lee\n",
       "4        Jane_Austen\n",
       "Name: author, dtype: object"
      ]
     },
     "execution_count": 16,
     "metadata": {},
     "output_type": "execute_result"
    }
   ],
   "source": [
    "# I will apply the get_author function to the author_url column and create a new column for the author's name\n",
    "\n",
    "df['author'] = df.author_url.map(get_author)\n",
    "df.author[0:5]"
   ]
  },
  {
   "cell_type": "code",
   "execution_count": 17,
   "metadata": {},
   "outputs": [
    {
     "name": "stdout",
     "output_type": "stream",
     "text": [
      "      rating  review_count        isbn         booktype  \\\n",
      "2909    5.00           0.0  0983002215  good_reads:book   \n",
      "2145    5.00           3.0  1300589469  good_reads:book   \n",
      "2903    5.00           0.0  0983002282  good_reads:book   \n",
      "4473    5.00           0.0         NaN  good_reads:book   \n",
      "5692    5.00           0.0         NaN  good_reads:book   \n",
      "...      ...           ...         ...              ...   \n",
      "2609    2.90           8.0         NaN  good_reads:book   \n",
      "5979    2.77         800.0  0060988649  good_reads:book   \n",
      "3738    2.00         368.0  0983650322  good_reads:book   \n",
      "3643     NaN           NaN         NaN              NaN   \n",
      "5282     NaN           NaN         NaN              NaN   \n",
      "\n",
      "                                             author_url    year  \\\n",
      "2909  https://www.goodreads.com/author/show/6589034....  2011.0   \n",
      "2145  https://www.goodreads.com/author/show/6906561....  2012.0   \n",
      "2903  https://www.goodreads.com/author/show/6589034....  2012.0   \n",
      "4473  https://www.goodreads.com/author/show/6896621....  2012.0   \n",
      "5692  https://www.goodreads.com/author/show/5989528....  2012.0   \n",
      "...                                                 ...     ...   \n",
      "2609  https://www.goodreads.com/author/show/7707820....  2013.0   \n",
      "5979  https://www.goodreads.com/author/show/7025.Gre...  2001.0   \n",
      "3738  https://www.goodreads.com/author/show/9414.Vic...  2011.0   \n",
      "3643                                                NaN     NaN   \n",
      "5282                                                NaN     NaN   \n",
      "\n",
      "                                             genre_urls  \\\n",
      "2909                                                NaN   \n",
      "2145                                                NaN   \n",
      "2903                                                NaN   \n",
      "4473                                                NaN   \n",
      "5692                                                NaN   \n",
      "...                                                 ...   \n",
      "2609  /genres/romance|/genres/realistic-fiction|/gen...   \n",
      "5979  /genres/fantasy|/genres/fiction|/genres/myster...   \n",
      "3738  /genres/young-adult|/genres/science-fiction|/g...   \n",
      "3643                                                NaN   \n",
      "5282                                                NaN   \n",
      "\n",
      "                                                    dir  rating_count  \\\n",
      "2909                 dir30/16200303-family-secrets.html           9.0   \n",
      "2145  dir22/17287259-a-book-about-absolutely-nothing...          63.0   \n",
      "2903              dir30/17608096-obscured-darkness.html           8.0   \n",
      "4473                dir45/17259227-patience-s-love.html           7.0   \n",
      "5692  dir57/14288412-abstraction-in-theory---laws-of...           6.0   \n",
      "...                                                 ...           ...   \n",
      "2609       dir27/19546932-how-to-be-a-perfect-girl.html          31.0   \n",
      "5979                              dir60/24929.Lost.html       11128.0   \n",
      "3738                 dir38/12393909-revealing-eden.html         688.0   \n",
      "3643                    dir37/9658936-harry-potter.html           NaN   \n",
      "5282                       dir53/113138.The_Winner.html           NaN   \n",
      "\n",
      "                                                   name            author  \n",
      "2909                                     Family Secrets    Rebekah_McClew  \n",
      "2145                   A Book About Absolutely Nothing.        I_M_Nobody  \n",
      "2903              Obscured Darkness (Family Secrets #2)    Rebekah_McClew  \n",
      "4473                                    Patience's Love       Ronda_Paige  \n",
      "5692  Abstraction In Theory - Laws Of Physical Trans...  Subhajit_Ganguly  \n",
      "...                                                 ...               ...  \n",
      "2609                           How To Be A Perfect Girl     Mary_Williams  \n",
      "5979                                               Lost   Gregory_Maguire  \n",
      "3738               Revealing Eden (Save the Pearls, #1)     Victoria_Foyt  \n",
      "3643                                                NaN              None  \n",
      "5282                                                NaN              None  \n",
      "\n",
      "[6000 rows x 11 columns]\n"
     ]
    }
   ],
   "source": [
    "# Sorting by rates and if equal years in descending order\n",
    "\n",
    "sorted_rates = df.sort_values(by=['rating','year'], ascending=[False,True])\n",
    "print(sorted_rates)\n"
   ]
  },
  {
   "cell_type": "code",
   "execution_count": 18,
   "metadata": {},
   "outputs": [
    {
     "name": "stdout",
     "output_type": "stream",
     "text": [
      "       year  books_per_year  lowest_rating  highest_rating\n",
      "0   -1500.0               1           3.60            3.60\n",
      "1    -800.0               2           3.68            4.01\n",
      "2    -560.0               1           4.03            4.03\n",
      "3    -512.0               1           3.92            3.92\n",
      "4    -500.0               1           4.06            4.06\n",
      "..      ...             ...            ...             ...\n",
      "288  2010.0             317           3.08            4.93\n",
      "289  2011.0             374           2.00            5.00\n",
      "290  2012.0             355           3.15            5.00\n",
      "291  2013.0             276           2.90            4.93\n",
      "292  2014.0              87           3.31            5.00\n",
      "\n",
      "[293 rows x 4 columns]\n"
     ]
    }
   ],
   "source": [
    "# Examining how many books were published each year and providing the lowest and highest per year\n",
    "\n",
    "books_per_year_and_rating_per_year = df.groupby('year').agg(\n",
    "    books_per_year=('year', 'size'),\n",
    "    lowest_rating=('rating', 'min'),\n",
    "    highest_rating=('rating', 'max')\n",
    ").reset_index()\n",
    "\n",
    "print(books_per_year_and_rating_per_year)"
   ]
  },
  {
   "cell_type": "markdown",
   "metadata": {},
   "source": [
    "## Exercise 5: Saving the results\n",
    "- Save the cleaned dataframe as 'hw-03-cleaned.csv' in data folder"
   ]
  },
  {
   "cell_type": "code",
   "execution_count": 19,
   "metadata": {},
   "outputs": [],
   "source": [
    "# Saving the cleaned dataframe as 'hw-03-cleaned.csv.' in my data folder\n",
    "\n",
    "file_path_cleaned = 'C:\\\\Users\\\\rober\\\\Documents\\\\data\\\\hw-03-cleaned.csv'\n",
    "\n",
    "books_per_year_and_rating_per_year.to_csv(file_path_cleaned, index=False)\n"
   ]
  },
  {
   "cell_type": "markdown",
   "metadata": {},
   "source": [
    "## Exercise 6: Investigate the relationship between the number of reviews and the average rating for books in the dataset cleaned-goodreads.csv procided.\n",
    "\n",
    "- Calculate the correlation coefficient. Give me a short definition of this coefficient\n",
    "- Create a scatter plot showing the relationship between these two features.\n",
    "- Based on the plot and the correlation, provide a brief interpretation of the relationship.\n",
    "\n",
    "### Python Tools: Use pandas and numpy for correlation, and matplotlib or seaborn for the scatter plot."
   ]
  },
  {
   "cell_type": "code",
   "execution_count": 20,
   "metadata": {},
   "outputs": [
    {
     "name": "stdout",
     "output_type": "stream",
     "text": [
      "-0.038169110848051524\n"
     ]
    }
   ],
   "source": [
    "# Calculation of the correlation coefficient between the number of reviews and the average rating for books in the dataset cleaned goodreads.csv\n",
    "\n",
    "correlation_coefficient = df['review_count'].corr(df['rating'])\n",
    "\n",
    "print(correlation_coefficient)\n"
   ]
  },
  {
   "cell_type": "code",
   "execution_count": 21,
   "metadata": {},
   "outputs": [
    {
     "data": {
      "text/plain": [
       "<function matplotlib.pyplot.show(close=None, block=None)>"
      ]
     },
     "execution_count": 21,
     "metadata": {},
     "output_type": "execute_result"
    },
    {
     "data": {
      "image/png": "[encoded data removed]",
      "text/plain": [
       "<Figure size 1000x600 with 1 Axes>"
      ]
     },
     "metadata": {},
     "output_type": "display_data"
    }
   ],
   "source": [
    "# Scatter plot showing the relationship between the number of reviews and the average rating\n",
    "\n",
    "import matplotlib.pyplot as plt \n",
    "\n",
    "plt.figure(figsize=(10, 6))\n",
    "plt.scatter(df['review_count'], df['rating'], alpha=0.5)\n",
    "plt.title('Correlation between the number of reviews and the average rating of books')\n",
    "plt.xlabel('Number of reviews')\n",
    "plt.ylabel('Average rating')\n",
    "plt.grid(True)\n",
    "plt.show"
   ]
  },
  {
   "cell_type": "markdown",
   "metadata": {},
   "source": [
    "# Brief interpretation of the relationship between the number of reviews and the average rating of books\n",
    "\n",
    "Considering the scatter plot, one can observe that with a higher number of reviews the average rating of the respective book becomes closer to the mean, with a significant number of reviews (x>10,000) leading to a dispersion only between a rating of 3.5 and 4.5 except from a handful of outliers. One can interpretate this as frequently reviewed books being more weightedly rated and considering a normal distribution of values the average will reach closer to the mean. Another interpretation could be that frequently reviewed books in general score quite well (average rating around 4), where the quality of the book makes it that it is being read and reviewed so often."
   ]
  },
  {
   "cell_type": "markdown",
   "metadata": {},
   "source": [
    "## Exercise 7: Calculate the following descriptive statistics for the numerical features (e.g., number of reviews, average rating, etc.):\n",
    "- Mean\n",
    "- Median\n",
    "- Standard Deviation\n",
    "- Range\n",
    "- Create a histogram or box plot for at least one of the numerical features, highlighting any skewness or outliers.\n",
    "    \n",
    "### Python Tools: Use pandas for data manipulation and matplotlib or seaborn for visualization."
   ]
  },
  {
   "cell_type": "code",
   "execution_count": 22,
   "metadata": {},
   "outputs": [
    {
     "ename": "TypeError",
     "evalue": "Cannot convert [['0439023483' '0439358078' '0316015849' ... '1620612321' nan\n  '0786929081']\n ['good_reads:book' 'good_reads:book' 'good_reads:book' ...\n  'good_reads:book' 'good_reads:book' 'good_reads:book']\n ['https://www.goodreads.com/author/show/153394.Suzanne_Collins'\n  'https://www.goodreads.com/author/show/1077326.J_K_Rowling'\n  'https://www.goodreads.com/author/show/941441.Stephenie_Meyer' ...\n  'https://www.goodreads.com/author/show/5761314.Kate_Avelynn'\n  'https://www.goodreads.com/author/show/1201952.A_id_al_Qarni'\n  'https://www.goodreads.com/author/show/1023510.R_A_Salvatore']\n ['/genres/young-adult|/genres/science-fiction|/genres/dystopia|/genres/fantasy|/genres/science-fiction|/genres/romance|/genres/adventure|/genres/book-club|/genres/young-adult|/genres/teen|/genres/apocalyptic|/genres/post-apocalyptic|/genres/action'\n  '/genres/fantasy|/genres/young-adult|/genres/fiction|/genres/fantasy|/genres/magic|/genres/childrens|/genres/adventure|/genres/science-fiction-fantasy'\n  '/genres/young-adult|/genres/fantasy|/genres/romance|/genres/paranormal|/genres/vampires|/genres/fiction|/genres/fantasy|/genres/paranormal|/genres/romance|/genres/paranormal-romance|/genres/fantasy|/genres/supernatural|/genres/young-adult|/genres/teen|/genres/fantasy|/genres/urban-fantasy'\n  ...\n  '/genres/contemporary|/genres/romance|/genres/young-adult|/genres/sociology|/genres/abuse|/genres/new-adult|/genres/dark|/genres/realistic-fiction|/genres/drama'\n  '/genres/religion|/genres/islam|/genres/religion|/genres/self-help|/genres/spirituality|/genres/psychology|/genres/non-fiction'\n  '/genres/fiction|/genres/fantasy|/genres/magic|/genres/science-fiction-fantasy|/genres/fantasy|/genres/high-fantasy|/genres/fantasy|/genres/dungeons-and-dragons|/genres/forgotten-realms|/genres/novels|/genres/role-playing-games|/genres/dungeons-and-dragons|/genres/anthologies|/genres/collections|/genres/epic']\n ['dir01/2767052-the-hunger-games.html'\n  'dir01/2.Harry_Potter_and_the_Order_of_the_Phoenix.html'\n  'dir01/41865.Twilight.html' ... 'dir60/13503247-flawed.html'\n  'dir60/2750008.html'\n  'dir60/66677.Legacy_of_the_Drow_Collector_s_Edition.html']\n ['The Hunger Games (The Hunger Games, #1)'\n  'Harry Potter and the Order of the Phoenix (Harry Potter, #5)'\n  'Twilight (Twilight, #1)' ... 'Flawed'\n  'Ø£Ø³Ø¹Ø¯ Ø§Ù\\x85Ø±Ø£Ø© Ù\\x81Ù\\x8a Ø§Ù\\x84Ø¹Ø§Ù\\x84Ù\\x85'\n  \"Legacy of the Drow Collector's Edition (Legacy of the Drow, #1-4; Legend of Drizzt, #7-10)\"]] to numeric",
     "output_type": "error",
     "traceback": [
      "\u001b[1;31m---------------------------------------------------------------------------\u001b[0m",
      "\u001b[1;31mTypeError\u001b[0m                                 Traceback (most recent call last)",
      "Cell \u001b[1;32mIn[22], line 6\u001b[0m\n\u001b[0;32m      3\u001b[0m descriptive_stats \u001b[38;5;241m=\u001b[39m df\u001b[38;5;241m.\u001b[39mdescribe()\n\u001b[0;32m      5\u001b[0m mean \u001b[38;5;241m=\u001b[39m descriptive_stats\u001b[38;5;241m.\u001b[39mloc[\u001b[38;5;124m'\u001b[39m\u001b[38;5;124mmean\u001b[39m\u001b[38;5;124m'\u001b[39m]\n\u001b[1;32m----> 6\u001b[0m median_stat \u001b[38;5;241m=\u001b[39m \u001b[43mdf\u001b[49m\u001b[38;5;241;43m.\u001b[39;49m\u001b[43mmedian\u001b[49m\u001b[43m(\u001b[49m\u001b[43m)\u001b[49m\n\u001b[0;32m      7\u001b[0m std_dev \u001b[38;5;241m=\u001b[39m descriptive_stats\u001b[38;5;241m.\u001b[39mloc[\u001b[38;5;124m'\u001b[39m\u001b[38;5;124mstd\u001b[39m\u001b[38;5;124m'\u001b[39m]\n\u001b[0;32m      8\u001b[0m data_range \u001b[38;5;241m=\u001b[39m descriptive_stats\u001b[38;5;241m.\u001b[39mloc[\u001b[38;5;124m'\u001b[39m\u001b[38;5;124mmax\u001b[39m\u001b[38;5;124m'\u001b[39m] \u001b[38;5;241m-\u001b[39m descriptive_stats\u001b[38;5;241m.\u001b[39mloc[\u001b[38;5;124m'\u001b[39m\u001b[38;5;124mmin\u001b[39m\u001b[38;5;124m'\u001b[39m]\n",
      "File \u001b[1;32mc:\\Users\\rober\\AppData\\Local\\Programs\\Python\\Python312\\Lib\\site-packages\\pandas\\core\\frame.py:11706\u001b[0m, in \u001b[0;36mDataFrame.median\u001b[1;34m(self, axis, skipna, numeric_only, **kwargs)\u001b[0m\n\u001b[0;32m  11698\u001b[0m \u001b[38;5;129m@doc\u001b[39m(make_doc(\u001b[38;5;124m\"\u001b[39m\u001b[38;5;124mmedian\u001b[39m\u001b[38;5;124m\"\u001b[39m, ndim\u001b[38;5;241m=\u001b[39m\u001b[38;5;241m2\u001b[39m))\n\u001b[0;32m  11699\u001b[0m \u001b[38;5;28;01mdef\u001b[39;00m \u001b[38;5;21mmedian\u001b[39m(\n\u001b[0;32m  11700\u001b[0m     \u001b[38;5;28mself\u001b[39m,\n\u001b[1;32m   (...)\u001b[0m\n\u001b[0;32m  11704\u001b[0m     \u001b[38;5;241m*\u001b[39m\u001b[38;5;241m*\u001b[39mkwargs,\n\u001b[0;32m  11705\u001b[0m ):\n\u001b[1;32m> 11706\u001b[0m     result \u001b[38;5;241m=\u001b[39m \u001b[38;5;28;43msuper\u001b[39;49m\u001b[43m(\u001b[49m\u001b[43m)\u001b[49m\u001b[38;5;241;43m.\u001b[39;49m\u001b[43mmedian\u001b[49m\u001b[43m(\u001b[49m\u001b[43maxis\u001b[49m\u001b[43m,\u001b[49m\u001b[43m \u001b[49m\u001b[43mskipna\u001b[49m\u001b[43m,\u001b[49m\u001b[43m \u001b[49m\u001b[43mnumeric_only\u001b[49m\u001b[43m,\u001b[49m\u001b[43m \u001b[49m\u001b[38;5;241;43m*\u001b[39;49m\u001b[38;5;241;43m*\u001b[39;49m\u001b[43mkwargs\u001b[49m\u001b[43m)\u001b[49m\n\u001b[0;32m  11707\u001b[0m     \u001b[38;5;28;01mif\u001b[39;00m \u001b[38;5;28misinstance\u001b[39m(result, Series):\n\u001b[0;32m  11708\u001b[0m         result \u001b[38;5;241m=\u001b[39m result\u001b[38;5;241m.\u001b[39m__finalize__(\u001b[38;5;28mself\u001b[39m, method\u001b[38;5;241m=\u001b[39m\u001b[38;5;124m\"\u001b[39m\u001b[38;5;124mmedian\u001b[39m\u001b[38;5;124m\"\u001b[39m)\n",
      "File \u001b[1;32mc:\\Users\\rober\\AppData\\Local\\Programs\\Python\\Python312\\Lib\\site-packages\\pandas\\core\\generic.py:12431\u001b[0m, in \u001b[0;36mNDFrame.median\u001b[1;34m(self, axis, skipna, numeric_only, **kwargs)\u001b[0m\n\u001b[0;32m  12424\u001b[0m \u001b[38;5;28;01mdef\u001b[39;00m \u001b[38;5;21mmedian\u001b[39m(\n\u001b[0;32m  12425\u001b[0m     \u001b[38;5;28mself\u001b[39m,\n\u001b[0;32m  12426\u001b[0m     axis: Axis \u001b[38;5;241m|\u001b[39m \u001b[38;5;28;01mNone\u001b[39;00m \u001b[38;5;241m=\u001b[39m \u001b[38;5;241m0\u001b[39m,\n\u001b[1;32m   (...)\u001b[0m\n\u001b[0;32m  12429\u001b[0m     \u001b[38;5;241m*\u001b[39m\u001b[38;5;241m*\u001b[39mkwargs,\n\u001b[0;32m  12430\u001b[0m ) \u001b[38;5;241m-\u001b[39m\u001b[38;5;241m>\u001b[39m Series \u001b[38;5;241m|\u001b[39m \u001b[38;5;28mfloat\u001b[39m:\n\u001b[1;32m> 12431\u001b[0m     \u001b[38;5;28;01mreturn\u001b[39;00m \u001b[38;5;28;43mself\u001b[39;49m\u001b[38;5;241;43m.\u001b[39;49m\u001b[43m_stat_function\u001b[49m\u001b[43m(\u001b[49m\n\u001b[0;32m  12432\u001b[0m \u001b[43m        \u001b[49m\u001b[38;5;124;43m\"\u001b[39;49m\u001b[38;5;124;43mmedian\u001b[39;49m\u001b[38;5;124;43m\"\u001b[39;49m\u001b[43m,\u001b[49m\u001b[43m \u001b[49m\u001b[43mnanops\u001b[49m\u001b[38;5;241;43m.\u001b[39;49m\u001b[43mnanmedian\u001b[49m\u001b[43m,\u001b[49m\u001b[43m \u001b[49m\u001b[43maxis\u001b[49m\u001b[43m,\u001b[49m\u001b[43m \u001b[49m\u001b[43mskipna\u001b[49m\u001b[43m,\u001b[49m\u001b[43m \u001b[49m\u001b[43mnumeric_only\u001b[49m\u001b[43m,\u001b[49m\u001b[43m \u001b[49m\u001b[38;5;241;43m*\u001b[39;49m\u001b[38;5;241;43m*\u001b[39;49m\u001b[43mkwargs\u001b[49m\n\u001b[0;32m  12433\u001b[0m \u001b[43m    \u001b[49m\u001b[43m)\u001b[49m\n",
      "File \u001b[1;32mc:\\Users\\rober\\AppData\\Local\\Programs\\Python\\Python312\\Lib\\site-packages\\pandas\\core\\generic.py:12377\u001b[0m, in \u001b[0;36mNDFrame._stat_function\u001b[1;34m(self, name, func, axis, skipna, numeric_only, **kwargs)\u001b[0m\n\u001b[0;32m  12373\u001b[0m nv\u001b[38;5;241m.\u001b[39mvalidate_func(name, (), kwargs)\n\u001b[0;32m  12375\u001b[0m validate_bool_kwarg(skipna, \u001b[38;5;124m\"\u001b[39m\u001b[38;5;124mskipna\u001b[39m\u001b[38;5;124m\"\u001b[39m, none_allowed\u001b[38;5;241m=\u001b[39m\u001b[38;5;28;01mFalse\u001b[39;00m)\n\u001b[1;32m> 12377\u001b[0m \u001b[38;5;28;01mreturn\u001b[39;00m \u001b[38;5;28;43mself\u001b[39;49m\u001b[38;5;241;43m.\u001b[39;49m\u001b[43m_reduce\u001b[49m\u001b[43m(\u001b[49m\n\u001b[0;32m  12378\u001b[0m \u001b[43m    \u001b[49m\u001b[43mfunc\u001b[49m\u001b[43m,\u001b[49m\u001b[43m \u001b[49m\u001b[43mname\u001b[49m\u001b[38;5;241;43m=\u001b[39;49m\u001b[43mname\u001b[49m\u001b[43m,\u001b[49m\u001b[43m \u001b[49m\u001b[43maxis\u001b[49m\u001b[38;5;241;43m=\u001b[39;49m\u001b[43maxis\u001b[49m\u001b[43m,\u001b[49m\u001b[43m \u001b[49m\u001b[43mskipna\u001b[49m\u001b[38;5;241;43m=\u001b[39;49m\u001b[43mskipna\u001b[49m\u001b[43m,\u001b[49m\u001b[43m \u001b[49m\u001b[43mnumeric_only\u001b[49m\u001b[38;5;241;43m=\u001b[39;49m\u001b[43mnumeric_only\u001b[49m\n\u001b[0;32m  12379\u001b[0m \u001b[43m\u001b[49m\u001b[43m)\u001b[49m\n",
      "File \u001b[1;32mc:\\Users\\rober\\AppData\\Local\\Programs\\Python\\Python312\\Lib\\site-packages\\pandas\\core\\frame.py:11562\u001b[0m, in \u001b[0;36mDataFrame._reduce\u001b[1;34m(self, op, name, axis, skipna, numeric_only, filter_type, **kwds)\u001b[0m\n\u001b[0;32m  11558\u001b[0m     df \u001b[38;5;241m=\u001b[39m df\u001b[38;5;241m.\u001b[39mT\n\u001b[0;32m  11560\u001b[0m \u001b[38;5;66;03m# After possibly _get_data and transposing, we are now in the\u001b[39;00m\n\u001b[0;32m  11561\u001b[0m \u001b[38;5;66;03m#  simple case where we can use BlockManager.reduce\u001b[39;00m\n\u001b[1;32m> 11562\u001b[0m res \u001b[38;5;241m=\u001b[39m \u001b[43mdf\u001b[49m\u001b[38;5;241;43m.\u001b[39;49m\u001b[43m_mgr\u001b[49m\u001b[38;5;241;43m.\u001b[39;49m\u001b[43mreduce\u001b[49m\u001b[43m(\u001b[49m\u001b[43mblk_func\u001b[49m\u001b[43m)\u001b[49m\n\u001b[0;32m  11563\u001b[0m out \u001b[38;5;241m=\u001b[39m df\u001b[38;5;241m.\u001b[39m_constructor_from_mgr(res, axes\u001b[38;5;241m=\u001b[39mres\u001b[38;5;241m.\u001b[39maxes)\u001b[38;5;241m.\u001b[39miloc[\u001b[38;5;241m0\u001b[39m]\n\u001b[0;32m  11564\u001b[0m \u001b[38;5;28;01mif\u001b[39;00m out_dtype \u001b[38;5;129;01mis\u001b[39;00m \u001b[38;5;129;01mnot\u001b[39;00m \u001b[38;5;28;01mNone\u001b[39;00m \u001b[38;5;129;01mand\u001b[39;00m out\u001b[38;5;241m.\u001b[39mdtype \u001b[38;5;241m!=\u001b[39m \u001b[38;5;124m\"\u001b[39m\u001b[38;5;124mboolean\u001b[39m\u001b[38;5;124m\"\u001b[39m:\n",
      "File \u001b[1;32mc:\\Users\\rober\\AppData\\Local\\Programs\\Python\\Python312\\Lib\\site-packages\\pandas\\core\\internals\\managers.py:1500\u001b[0m, in \u001b[0;36mBlockManager.reduce\u001b[1;34m(self, func)\u001b[0m\n\u001b[0;32m   1498\u001b[0m res_blocks: \u001b[38;5;28mlist\u001b[39m[Block] \u001b[38;5;241m=\u001b[39m []\n\u001b[0;32m   1499\u001b[0m \u001b[38;5;28;01mfor\u001b[39;00m blk \u001b[38;5;129;01min\u001b[39;00m \u001b[38;5;28mself\u001b[39m\u001b[38;5;241m.\u001b[39mblocks:\n\u001b[1;32m-> 1500\u001b[0m     nbs \u001b[38;5;241m=\u001b[39m \u001b[43mblk\u001b[49m\u001b[38;5;241;43m.\u001b[39;49m\u001b[43mreduce\u001b[49m\u001b[43m(\u001b[49m\u001b[43mfunc\u001b[49m\u001b[43m)\u001b[49m\n\u001b[0;32m   1501\u001b[0m     res_blocks\u001b[38;5;241m.\u001b[39mextend(nbs)\n\u001b[0;32m   1503\u001b[0m index \u001b[38;5;241m=\u001b[39m Index([\u001b[38;5;28;01mNone\u001b[39;00m])  \u001b[38;5;66;03m# placeholder\u001b[39;00m\n",
      "File \u001b[1;32mc:\\Users\\rober\\AppData\\Local\\Programs\\Python\\Python312\\Lib\\site-packages\\pandas\\core\\internals\\blocks.py:404\u001b[0m, in \u001b[0;36mBlock.reduce\u001b[1;34m(self, func)\u001b[0m\n\u001b[0;32m    398\u001b[0m \u001b[38;5;129m@final\u001b[39m\n\u001b[0;32m    399\u001b[0m \u001b[38;5;28;01mdef\u001b[39;00m \u001b[38;5;21mreduce\u001b[39m(\u001b[38;5;28mself\u001b[39m, func) \u001b[38;5;241m-\u001b[39m\u001b[38;5;241m>\u001b[39m \u001b[38;5;28mlist\u001b[39m[Block]:\n\u001b[0;32m    400\u001b[0m     \u001b[38;5;66;03m# We will apply the function and reshape the result into a single-row\u001b[39;00m\n\u001b[0;32m    401\u001b[0m     \u001b[38;5;66;03m#  Block with the same mgr_locs; squeezing will be done at a higher level\u001b[39;00m\n\u001b[0;32m    402\u001b[0m     \u001b[38;5;28;01massert\u001b[39;00m \u001b[38;5;28mself\u001b[39m\u001b[38;5;241m.\u001b[39mndim \u001b[38;5;241m==\u001b[39m \u001b[38;5;241m2\u001b[39m\n\u001b[1;32m--> 404\u001b[0m     result \u001b[38;5;241m=\u001b[39m \u001b[43mfunc\u001b[49m\u001b[43m(\u001b[49m\u001b[38;5;28;43mself\u001b[39;49m\u001b[38;5;241;43m.\u001b[39;49m\u001b[43mvalues\u001b[49m\u001b[43m)\u001b[49m\n\u001b[0;32m    406\u001b[0m     \u001b[38;5;28;01mif\u001b[39;00m \u001b[38;5;28mself\u001b[39m\u001b[38;5;241m.\u001b[39mvalues\u001b[38;5;241m.\u001b[39mndim \u001b[38;5;241m==\u001b[39m \u001b[38;5;241m1\u001b[39m:\n\u001b[0;32m    407\u001b[0m         res_values \u001b[38;5;241m=\u001b[39m result\n",
      "File \u001b[1;32mc:\\Users\\rober\\AppData\\Local\\Programs\\Python\\Python312\\Lib\\site-packages\\pandas\\core\\frame.py:11481\u001b[0m, in \u001b[0;36mDataFrame._reduce.<locals>.blk_func\u001b[1;34m(values, axis)\u001b[0m\n\u001b[0;32m  11479\u001b[0m         \u001b[38;5;28;01mreturn\u001b[39;00m np\u001b[38;5;241m.\u001b[39marray([result])\n\u001b[0;32m  11480\u001b[0m \u001b[38;5;28;01melse\u001b[39;00m:\n\u001b[1;32m> 11481\u001b[0m     \u001b[38;5;28;01mreturn\u001b[39;00m \u001b[43mop\u001b[49m\u001b[43m(\u001b[49m\u001b[43mvalues\u001b[49m\u001b[43m,\u001b[49m\u001b[43m \u001b[49m\u001b[43maxis\u001b[49m\u001b[38;5;241;43m=\u001b[39;49m\u001b[43maxis\u001b[49m\u001b[43m,\u001b[49m\u001b[43m \u001b[49m\u001b[43mskipna\u001b[49m\u001b[38;5;241;43m=\u001b[39;49m\u001b[43mskipna\u001b[49m\u001b[43m,\u001b[49m\u001b[43m \u001b[49m\u001b[38;5;241;43m*\u001b[39;49m\u001b[38;5;241;43m*\u001b[39;49m\u001b[43mkwds\u001b[49m\u001b[43m)\u001b[49m\n",
      "File \u001b[1;32mc:\\Users\\rober\\AppData\\Local\\Programs\\Python\\Python312\\Lib\\site-packages\\pandas\\core\\nanops.py:147\u001b[0m, in \u001b[0;36mbottleneck_switch.__call__.<locals>.f\u001b[1;34m(values, axis, skipna, **kwds)\u001b[0m\n\u001b[0;32m    145\u001b[0m         result \u001b[38;5;241m=\u001b[39m alt(values, axis\u001b[38;5;241m=\u001b[39maxis, skipna\u001b[38;5;241m=\u001b[39mskipna, \u001b[38;5;241m*\u001b[39m\u001b[38;5;241m*\u001b[39mkwds)\n\u001b[0;32m    146\u001b[0m \u001b[38;5;28;01melse\u001b[39;00m:\n\u001b[1;32m--> 147\u001b[0m     result \u001b[38;5;241m=\u001b[39m \u001b[43malt\u001b[49m\u001b[43m(\u001b[49m\u001b[43mvalues\u001b[49m\u001b[43m,\u001b[49m\u001b[43m \u001b[49m\u001b[43maxis\u001b[49m\u001b[38;5;241;43m=\u001b[39;49m\u001b[43maxis\u001b[49m\u001b[43m,\u001b[49m\u001b[43m \u001b[49m\u001b[43mskipna\u001b[49m\u001b[38;5;241;43m=\u001b[39;49m\u001b[43mskipna\u001b[49m\u001b[43m,\u001b[49m\u001b[43m \u001b[49m\u001b[38;5;241;43m*\u001b[39;49m\u001b[38;5;241;43m*\u001b[39;49m\u001b[43mkwds\u001b[49m\u001b[43m)\u001b[49m\n\u001b[0;32m    149\u001b[0m \u001b[38;5;28;01mreturn\u001b[39;00m result\n",
      "File \u001b[1;32mc:\\Users\\rober\\AppData\\Local\\Programs\\Python\\Python312\\Lib\\site-packages\\pandas\\core\\nanops.py:787\u001b[0m, in \u001b[0;36mnanmedian\u001b[1;34m(values, axis, skipna, mask)\u001b[0m\n\u001b[0;32m    785\u001b[0m     inferred \u001b[38;5;241m=\u001b[39m lib\u001b[38;5;241m.\u001b[39minfer_dtype(values)\n\u001b[0;32m    786\u001b[0m     \u001b[38;5;28;01mif\u001b[39;00m inferred \u001b[38;5;129;01min\u001b[39;00m [\u001b[38;5;124m\"\u001b[39m\u001b[38;5;124mstring\u001b[39m\u001b[38;5;124m\"\u001b[39m, \u001b[38;5;124m\"\u001b[39m\u001b[38;5;124mmixed\u001b[39m\u001b[38;5;124m\"\u001b[39m]:\n\u001b[1;32m--> 787\u001b[0m         \u001b[38;5;28;01mraise\u001b[39;00m \u001b[38;5;167;01mTypeError\u001b[39;00m(\u001b[38;5;124mf\u001b[39m\u001b[38;5;124m\"\u001b[39m\u001b[38;5;124mCannot convert \u001b[39m\u001b[38;5;132;01m{\u001b[39;00mvalues\u001b[38;5;132;01m}\u001b[39;00m\u001b[38;5;124m to numeric\u001b[39m\u001b[38;5;124m\"\u001b[39m)\n\u001b[0;32m    788\u001b[0m \u001b[38;5;28;01mtry\u001b[39;00m:\n\u001b[0;32m    789\u001b[0m     values \u001b[38;5;241m=\u001b[39m values\u001b[38;5;241m.\u001b[39mastype(\u001b[38;5;124m\"\u001b[39m\u001b[38;5;124mf8\u001b[39m\u001b[38;5;124m\"\u001b[39m)\n",
      "\u001b[1;31mTypeError\u001b[0m: Cannot convert [['0439023483' '0439358078' '0316015849' ... '1620612321' nan\n  '0786929081']\n ['good_reads:book' 'good_reads:book' 'good_reads:book' ...\n  'good_reads:book' 'good_reads:book' 'good_reads:book']\n ['https://www.goodreads.com/author/show/153394.Suzanne_Collins'\n  'https://www.goodreads.com/author/show/1077326.J_K_Rowling'\n  'https://www.goodreads.com/author/show/941441.Stephenie_Meyer' ...\n  'https://www.goodreads.com/author/show/5761314.Kate_Avelynn'\n  'https://www.goodreads.com/author/show/1201952.A_id_al_Qarni'\n  'https://www.goodreads.com/author/show/1023510.R_A_Salvatore']\n ['/genres/young-adult|/genres/science-fiction|/genres/dystopia|/genres/fantasy|/genres/science-fiction|/genres/romance|/genres/adventure|/genres/book-club|/genres/young-adult|/genres/teen|/genres/apocalyptic|/genres/post-apocalyptic|/genres/action'\n  '/genres/fantasy|/genres/young-adult|/genres/fiction|/genres/fantasy|/genres/magic|/genres/childrens|/genres/adventure|/genres/science-fiction-fantasy'\n  '/genres/young-adult|/genres/fantasy|/genres/romance|/genres/paranormal|/genres/vampires|/genres/fiction|/genres/fantasy|/genres/paranormal|/genres/romance|/genres/paranormal-romance|/genres/fantasy|/genres/supernatural|/genres/young-adult|/genres/teen|/genres/fantasy|/genres/urban-fantasy'\n  ...\n  '/genres/contemporary|/genres/romance|/genres/young-adult|/genres/sociology|/genres/abuse|/genres/new-adult|/genres/dark|/genres/realistic-fiction|/genres/drama'\n  '/genres/religion|/genres/islam|/genres/religion|/genres/self-help|/genres/spirituality|/genres/psychology|/genres/non-fiction'\n  '/genres/fiction|/genres/fantasy|/genres/magic|/genres/science-fiction-fantasy|/genres/fantasy|/genres/high-fantasy|/genres/fantasy|/genres/dungeons-and-dragons|/genres/forgotten-realms|/genres/novels|/genres/role-playing-games|/genres/dungeons-and-dragons|/genres/anthologies|/genres/collections|/genres/epic']\n ['dir01/2767052-the-hunger-games.html'\n  'dir01/2.Harry_Potter_and_the_Order_of_the_Phoenix.html'\n  'dir01/41865.Twilight.html' ... 'dir60/13503247-flawed.html'\n  'dir60/2750008.html'\n  'dir60/66677.Legacy_of_the_Drow_Collector_s_Edition.html']\n ['The Hunger Games (The Hunger Games, #1)'\n  'Harry Potter and the Order of the Phoenix (Harry Potter, #5)'\n  'Twilight (Twilight, #1)' ... 'Flawed'\n  'Ø£Ø³Ø¹Ø¯ Ø§Ù\\x85Ø±Ø£Ø© Ù\\x81Ù\\x8a Ø§Ù\\x84Ø¹Ø§Ù\\x84Ù\\x85'\n  \"Legacy of the Drow Collector's Edition (Legacy of the Drow, #1-4; Legend of Drizzt, #7-10)\"]] to numeric"
     ]
    }
   ],
   "source": [
    "# Descriptive statistics for the numerical features of the number of reviews and the average rating\n",
    "\n",
    "descriptive_stats = df.describe()\n",
    "\n",
    "mean = descriptive_stats.loc['mean']\n",
    "median_stat = df.median()\n",
    "std_dev = descriptive_stats.loc['std']\n",
    "data_range = descriptive_stats.loc['max'] - descriptive_stats.loc['min']\n",
    "\n",
    "summary_stats = pd.Dataframe({\n",
    "    'Mean': mean,\n",
    "    'Median': median,\n",
    "    'Standard Deviation': std_dev,\n",
    "    'Range': data_range\n",
    "})\n",
    "\n",
    "print(summary_stats)"
   ]
  },
  {
   "cell_type": "code",
   "execution_count": null,
   "metadata": {},
   "outputs": [],
   "source": []
  }
 ],
 "metadata": {
  "kernelspec": {
   "display_name": "Python 3 (ipykernel)",
   "language": "python",
   "name": "python3"
  },
  "language_info": {
   "codemirror_mode": {
    "name": "ipython",
    "version": 3
   },
   "file_extension": ".py",
   "mimetype": "text/x-python",
   "name": "python",
   "nbconvert_exporter": "python",
   "pygments_lexer": "ipython3",
   "version": "3.12.6"
  }
 },
 "nbformat": 4,
 "nbformat_minor": 4
}
