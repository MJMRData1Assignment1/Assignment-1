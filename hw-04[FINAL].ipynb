{
 "cells": [
  {
   "cell_type": "markdown",
   "metadata": {},
   "source": [
    "## Lab 4 - part 2: Data Weights and Autocorellation\n",
    "\n",
    "**TU Delft and WUR**<br>\n",
    "**Q1 2024**<br>\n",
    "**Instructor:** Theodoros Chatzivasileiadis <br>\n",
    "**Instructor:** Hans Hoogenboom <br>\n",
    "**TA:** Ka Yi Chua <br>\n",
    "**[Metropolitan Data 1](https://jhoogenboom.github.io/spatial-data-science/_index.html)** <br>\n",
    "\n"
   ]
  },
  {
   "cell_type": "markdown",
   "metadata": {},
   "source": [
    "## Exercise 4a: Spatial Autocorrelation and ESDA "
   ]
  },
  {
   "cell_type": "markdown",
   "metadata": {},
   "source": [
    "USE the Liverpool IMD data we have been using in previous sessions. This will require you to:\n",
    "\n",
    "* Load up the IMD dataset for Liverpool.\n",
    "* Create a choropleth of the `imd_score` variable.\n",
    "* Compute the spatial weights matrix for the LSOAs. Think of one criterium to build it that you think would fit this variable (e.g. contiguity, distance-based, etc.), and apply it.\n",
    "* Create the standardized version of the IMD scores.\n",
    "* Calculate the spatial lag of the standardized scores.\n",
    "* Create the Moran Plot.\n",
    "* Calculate the value of Moran's I as well as its significance level.\n",
    "* Perform a LISA analysis and generate a map of the results. What are the main patterns?"
   ]
  },
  {
   "cell_type": "markdown",
   "metadata": {},
   "source": [
    "For this part I would like you to experiment with Data from Amstedam. However this will require you to find the dataset yourself!\n",
    "\n",
    "## Question 1: Building a Contiguity-Based Weight Matrix\n",
    "\n",
    "Use PySAL to create a contiguity-based weight matrix (W) for a given spatial dataset of polygons. Write a function create_contiguity_weights that:\n",
    "\n",
    "    Reads in a shapefile of polygons.\n",
    "    Constructs a Queen contiguity-based spatial weights matrix.\n",
    "    Returns the weight matrix.\n",
    "\n",
    "## Question 2: Calculating Moran’s I\n",
    "\n",
    "Write a function calculate_morans_i that:\n",
    "\n",
    "    Takes a spatial weight matrix W and an attribute array y.\n",
    "    Calculates Moran’s I for the given attribute array.\n",
    "    Returns the Moran’s I value and its p-value.\n",
    "\n",
    "## Question 3: Standardizing Spatial Weight Matrices\n",
    "\n",
    "Create a function standardize_weights that:\n",
    "\n",
    "    Takes a spatial weight matrix W.\n",
    "    Standardizes it so that the weights of each row sum to one.\n",
    "    Returns the standardized weight matrix.\n",
    "\n",
    "## Question 4: Creating Distance-Based Weights\n",
    "\n",
    "Write a function create_distance_weights that:\n",
    "\n",
    "    Takes a set of point coordinates and a threshold distance.\n",
    "    Constructs a distance-based spatial weight matrix where all points within the threshold distance are assigned a weight.\n",
    "    Returns the weight matrix.\n",
    "\n",
    "## Question 5: Visualizing a Moran Plot\n",
    "\n",
    "Using PySAL, write a function plot_moran that:\n",
    "\n",
    "    Takes a spatial weights matrix W and an attribute array y.\n",
    "    Creates and displays a Moran plot for the attribute.\n",
    "    Saves the Moran plot as an image file."
   ]
  },
  {
   "cell_type": "code",
   "execution_count": 20,
   "metadata": {},
   "outputs": [
    {
     "name": "stderr",
     "output_type": "stream",
     "text": [
      "C:\\Users\\rober\\AppData\\Local\\Temp\\ipykernel_17224\\4272707165.py:23: FutureWarning: `use_index` defaults to False but will default to True in future. Set True/False directly to control this behavior and silence this warning\n",
      "  queen_w = Queen.from_dataframe(gdf)\n"
     ]
    },
    {
     "name": "stdout",
     "output_type": "stream",
     "text": [
      "[[0. 0. 1. ... 0. 0. 0.]\n",
      " [0. 0. 1. ... 0. 0. 0.]\n",
      " [1. 1. 0. ... 0. 0. 0.]\n",
      " ...\n",
      " [0. 0. 0. ... 0. 0. 0.]\n",
      " [0. 0. 0. ... 0. 0. 1.]\n",
      " [0. 0. 0. ... 0. 1. 0.]]\n"
     ]
    },
    {
     "name": "stderr",
     "output_type": "stream",
     "text": [
      "c:\\Users\\rober\\AppData\\Local\\Programs\\Python\\Python312\\Lib\\site-packages\\libpysal\\weights\\contiguity.py:347: UserWarning: The weights matrix is not fully connected: \n",
      " There are 7 disconnected components.\n",
      " There are 6 islands with ids: 45, 51, 331, 339, 342, 358.\n",
      "  W.__init__(self, neighbors, ids=ids, **kw)\n"
     ]
    }
   ],
   "source": [
    "# Question 1: Building a Continuity-Based Weight Matrix (Robert Laan)\n",
    "\n",
    "# First import the needed libraries\n",
    "import geopandas as gpd\n",
    "from libpysal.weights import Queen\n",
    "\n",
    "# Create the file path to the Brexit file and read the file\n",
    "brxt_shp = gpd.read_file(\"C:\\\\Users\\\\rober\\\\Downloads\\\\brexit.gpkg\\\\brexit.gpkg\")\n",
    "\n",
    "# Below we will define the function\n",
    "def construct_queen_weight_matrix(brxt_shp):\n",
    "    \"\"\"\n",
    "    1. It reads the shp-file using the geopandas library and creating a geodataframe being gdf\n",
    "    2. This line of code filters out the invalid rows of the geodataframe. Invalid values could include intersections between areas and themselves for example.\n",
    "        The rectangular brackets function as a filter, where the 'is_valid' term could be seen as a 'True' statement creating Boolean values.\n",
    "    3. The term 'Queen' creates a Queen continuity weight matrix. This matrix is based on whether two different areas either border and/or corner each other.\n",
    "        The 'Queen' function is used on the selected geodataframe (gdf) and named queen_w. Ultimatly this value is returned.\n",
    "    \"\"\"\n",
    "    gdf = gpd.read_file(brxt_shp)\n",
    "\n",
    "    gdf = gdf[gdf.is_valid]\n",
    "\n",
    "    queen_w = Queen.from_dataframe(gdf)\n",
    "\n",
    "    return queen_w\n",
    "\n",
    "# Printing the given continuity-based weight matrix to show what the matrix looks like. It is not in the assignment but it can be interesting to see what output is given.\n",
    "    \"\"\"\n",
    "    The .full()[0] provides the first row that is full of the weight matrix. Therein, it can provide a better output example than a row that is not.\n",
    "        Other than this line of code calls to print the weight matrix function.\n",
    "    \"\"\"\n",
    "print(construct_queen_weight_matrix(file_path).full()[0])"
   ]
  },
  {
   "cell_type": "code",
   "execution_count": 26,
   "metadata": {},
   "outputs": [
    {
     "name": "stderr",
     "output_type": "stream",
     "text": [
      "C:\\Users\\rober\\AppData\\Local\\Temp\\ipykernel_17224\\370783312.py:33: FutureWarning: `use_index` defaults to False but will default to True in future. Set True/False directly to control this behavior and silence this warning\n",
      "  W = weights.Queen.from_dataframe(brxt_shp)\n"
     ]
    },
    {
     "name": "stdout",
     "output_type": "stream",
     "text": [
      "('WARNING: ', 45, ' is an island (no neighbors)')\n",
      "('WARNING: ', 51, ' is an island (no neighbors)')\n",
      "('WARNING: ', 331, ' is an island (no neighbors)')\n",
      "('WARNING: ', 339, ' is an island (no neighbors)')\n",
      "('WARNING: ', 342, ' is an island (no neighbors)')\n",
      "('WARNING: ', 358, ' is an island (no neighbors)')\n",
      "0.20107614963794007 0.001\n"
     ]
    },
    {
     "name": "stderr",
     "output_type": "stream",
     "text": [
      "c:\\Users\\rober\\AppData\\Local\\Programs\\Python\\Python312\\Lib\\site-packages\\libpysal\\weights\\contiguity.py:347: UserWarning: The weights matrix is not fully connected: \n",
      " There are 7 disconnected components.\n",
      " There are 6 islands with ids: 45, 51, 331, 339, 342, 358.\n",
      "  W.__init__(self, neighbors, ids=ids, **kw)\n"
     ]
    }
   ],
   "source": [
    "# Question 2: Calculating Moran's I (Misha )\n",
    "\n",
    "# First import the needed libraries and respective functions of those libraries\n",
    "import pysal.lib\n",
    "from pysal.lib import weights\n",
    "from esda import Moran\n",
    "import numpy as np\n",
    "\n",
    "# Create the file path to the Brexit file\n",
    "brxt_shp = gpd.read_file(\"C:\\\\Users\\\\rober\\\\Downloads\\\\brexit.gpkg\\\\brexit.gpkg\") \n",
    "\n",
    "# Creating a function for Moran's I\n",
    "\"\"\"\n",
    "1. The capital W stands for the spatial weight matrix. We use it to express the relationship between two locations.\n",
    "    The y stands for specific values of a certain location which are yet to be determined.\n",
    "\"\"\"\n",
    "def calculate_morans_i(W, y):\n",
    "    \n",
    "    # Calculate Moran's I\n",
    "    \"\"\"\n",
    "    2. The Moran function from the esda module is used. The focus is on analyzing the specific values of each area relative to their spatial arrangement.\n",
    "        That is why y is the first argument here and then W follows.\n",
    "    \"\"\"\n",
    "    moran = esda.Moran(y, W)\n",
    "    \n",
    "    # Return Moran's I value, p-value\n",
    "    \"\"\"\n",
    "    3. The Moran's I is returned together with the p-value. The p-value is included here to consider whether the Moran's I calculation is statistically significant.\n",
    "    \"\"\"\n",
    "    return moran.I, moran.p_sim\n",
    "\n",
    "# Create the spatial weights matrix (Queen contiguity)\n",
    "W = weights.Queen.from_dataframe(brxt_shp)\n",
    "\n",
    "# Extract the attribute array for st_areasha\n",
    "y = brxt_shp['Valid_Vote'].values  \n",
    "\n",
    "# Call the function to calculate Moran's I \n",
    "morans_i_value, p_value = calculate_morans_i(W, y)\n",
    "\n",
    "print(morans_i_value, p_value)\n",
    "\n"
   ]
  },
  {
   "cell_type": "code",
   "execution_count": 11,
   "metadata": {},
   "outputs": [],
   "source": [
    "# Question 3: Standardizing Spatial Weight Matrices (Mohammadjavad Hosseinabadi)\n",
    "\n",
    "def standardize_weights(W):\n",
    "    \"\"\" \n",
    "    1. This function recieves spatial weight matrix W.\n",
    "    2. Then it sums up each row's values and divide them by overall of the row accordingly, and\n",
    "    3. Returns the standardized weight matrix.\n",
    "\n",
    "    \"\"\"\n",
    "    # creating a copy of weight matrix\n",
    "    St_Weights = W.copy()\n",
    "    \n",
    "    # calculating sum of values in the same row\n",
    "    for i in St_Weights.neighbors:\n",
    "\n",
    "        overall_weight = St_Weights.sum(axis = i)\n",
    "        \n",
    "        # standardize each value, if the overall is not 0 (we have neighborhood there)\n",
    "        if overall_weight > 0:\n",
    "\n",
    "            for j in  St_Weights.neighbors[i]:\n",
    "                St_Weights[i][j]= St_Weights[i][j] / overall_weight\n",
    "                return\n",
    "\n",
    "\n",
    "    \n",
    "    return St_Weights"
   ]
  },
  {
   "cell_type": "code",
   "execution_count": 10,
   "metadata": {},
   "outputs": [],
   "source": [
    "# Question 4: Creating Distance-Based Weights (Robert Laan)\n",
    "\n",
    "# First import the needed libraries, modules, and functions\n",
    "import numpy as np\n",
    "from scipy.spatial import distance_matrix\n",
    "import sys\n",
    "from scipy.spatial import distance_matrix\n",
    "\n",
    "\"\"\"\n",
    "1. Creates a distance-based spatial weight matrix. The coordinates give specific location in the space. \n",
    "    The threshold_distance determines what is considered to be a neighboring distance.\n",
    "\"\"\"\n",
    "def create_distance_weights(coordinates, threshold_distance):\n",
    "    \"\"\"\n",
    "    2. In this string an array is formed of the coordinates using the numpy library, which makes it easier to use the data in python funcitons.\n",
    "    \"\"\"\n",
    "    coords_array = np.array(coordinates)\n",
    "    \"\"\"\n",
    "    3. I formed a distance matrix with the arrays of the coordinates that computes the distance between each point in the array.\n",
    "    \"\"\"\n",
    "    dist_matrix = distance_matrix(coords_array, coords_array)\n",
    "    \"\"\"\n",
    "    4. A Boolean comparision is called using the '<=' to create the weight matrix with only 0's and 1's. \n",
    "        This last piece of information is ensured by the 'astype(int)' function so that the function only provides integers.\n",
    "    \"\"\"\n",
    "    weight_matrix = (dist_matrix <= threshold_distance).astype(int)\n",
    "\n",
    "    return weight_matrix"
   ]
  },
  {
   "cell_type": "code",
   "execution_count": 14,
   "metadata": {},
   "outputs": [],
   "source": [
    "# Question 5: Visualizing a Moran Plot (Junbing Liao)\n",
    "\n",
    "import numpy as np\n",
    "import matplotlib.pyplot as plt\n",
    "from pysal.explore import esda\n",
    "from splot.esda import moran_scatterplot\n",
    "\n",
    "\"\"\"\n",
    "1. Similar to in question to the function for the Moran's I calculation is called using y for specific values and W for the Spatial Weight Matrix.\n",
    "\"\"\"\n",
    "def plot_moran(W, y):\n",
    "\n",
    "    # Calculate Moran's I\n",
    "    mi = esda.Moran(y, W)\n",
    "    \n",
    "    # Create the Moran scatter plot\n",
    "    \"\"\"\n",
    "    2. The following string indicates that a scatterplot is called for using the plt functions from the matplotlib.pyplot library.\n",
    "        The 'ax' term creates an object for the axes that will be defined later. B\n",
    "        Between the curled brackets, the specifics of the scatterplot are indicated.\n",
    "    \"\"\"\n",
    "    f, ax = plt.subplots()\n",
    "    moran_scatterplot(mi, ax=ax, **{'color': 'blue', 'edgecolor': 'k', 'alpha': 0.5})\n",
    "    \n",
    "    # Add labels and title\n",
    "    ax.set_title(\"Moran's I Scatter Plot\")\n",
    "    ax.set_xlabel(\"Spatially Lagged Values\")\n",
    "    ax.set_ylabel(\"Attribute Values\")\n",
    "    \n",
    "    # Save the plot\n",
    "    \"\"\"\n",
    "    3. The dpi here indicates the resolution in dots per inch, being 300 in this case.\n",
    "    \"\"\"\n",
    "    plt.savefig('C:\\\\Users\\\\Admin\\\\Desktop\\\\moran_plot.png', dpi=300)\n",
    "    \n",
    "    # Show the plot\n",
    "    plt.show()"
   ]
  }
 ],
 "metadata": {
  "kernelspec": {
   "display_name": "Python 3 (ipykernel)",
   "language": "python",
   "name": "python3"
  },
  "language_info": {
   "codemirror_mode": {
    "name": "ipython",
    "version": 3
   },
   "file_extension": ".py",
   "mimetype": "text/x-python",
   "name": "python",
   "nbconvert_exporter": "python",
   "pygments_lexer": "ipython3",
   "version": "3.12.6"
  }
 },
 "nbformat": 4,
 "nbformat_minor": 4
}
