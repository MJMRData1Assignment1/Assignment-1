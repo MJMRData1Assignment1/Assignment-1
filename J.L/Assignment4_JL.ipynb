{
 "cells": [
  {
   "cell_type": "markdown",
   "metadata": {},
   "source": [
    "Qustion 1:"
   ]
  },
  {
   "cell_type": "code",
   "execution_count": 15,
   "metadata": {},
   "outputs": [],
   "source": [
    "file_path = 'C:\\\\Users\\Admin\\\\Desktop\\\\Code\\\\TEST\\\\brexit.gpkg'\n",
    "folder_path = 'C:\\\\Users\\Admin\\\\Desktop\\\\Code\\\\TEST'"
   ]
  },
  {
   "cell_type": "code",
   "execution_count": 16,
   "metadata": {},
   "outputs": [],
   "source": [
    "import geopandas as gpd\n",
    "from libpysal import weights\n",
    "\n",
    "def create_contiguity_weights(shapefile_path):\n",
    " \n",
    "    # Read the shapefile using geopandas\n",
    "    gdf = gpd.read_file(shapefile_path)\n",
    "    \n",
    "    # Create a Queen contiguity weight matrix\n",
    "    W = weights.Queen.from_dataframe(gdf)\n",
    "    \n",
    "    return W"
   ]
  },
  {
   "cell_type": "code",
   "execution_count": 17,
   "metadata": {},
   "outputs": [
    {
     "data": {
      "text/plain": [
       "<libpysal.weights.contiguity.Queen at 0x24696c8b6a0>"
      ]
     },
     "execution_count": 17,
     "metadata": {},
     "output_type": "execute_result"
    }
   ],
   "source": [
    "create_contiguity_weights(file_path)"
   ]
  },
  {
   "cell_type": "markdown",
   "metadata": {},
   "source": [
    "Question 2:"
   ]
  },
  {
   "cell_type": "code",
   "execution_count": 18,
   "metadata": {},
   "outputs": [],
   "source": [
    "import numpy as np\n",
    "from pysal.lib import weights\n",
    "from pysal.explore import esda\n",
    "\n",
    "def calculate_MoranI(W, y):\n",
    "\n",
    "    # Ensure y is a NumPy array\n",
    "    y = np.asarray(y)\n",
    "\n",
    "    # Create a Queen contiguity weight matrix\n",
    "    mi = esda.Moran(y, W)\n",
    "    \n",
    "    #return the Moran's I value and its p-value\n",
    "    return mi.I, mi.p_sim\n"
   ]
  },
  {
   "cell_type": "markdown",
   "metadata": {},
   "source": [
    "Question 3:"
   ]
  },
  {
   "cell_type": "code",
   "execution_count": 19,
   "metadata": {},
   "outputs": [],
   "source": [
    "import numpy as np\n",
    "from pysal.lib import weights\n",
    "\n",
    "def standardize_weights(W):\n",
    "\n",
    "    # Create a copy of the original weights\n",
    "    W_standardized = W.copy()\n",
    "    \n",
    "    # Iterate through each row in the weight matrix\n",
    "    for i in W_standardized.neighbors:\n",
    "        total_weight = sum(W_standardized[i].values())\n",
    "\n",
    "        if total_weight > 0:\n",
    "            # Standardize weights for the row\n",
    "            for j in W_standardized.neighbors[i]:\n",
    "                W_standardized[i][j] /= total_weight \n",
    "                #'a/=b' means a=a/b so the location of weights in matrix won't be moved\n",
    "\n",
    "    return W_standardized"
   ]
  },
  {
   "cell_type": "markdown",
   "metadata": {},
   "source": [
    "Question 4:"
   ]
  },
  {
   "cell_type": "code",
   "execution_count": 20,
   "metadata": {},
   "outputs": [],
   "source": [
    "import numpy as np\n",
    "from scipy.spatial.distance import cdist\n",
    "\n",
    "def create_distance_weights(point_set, threshold_dis):\n",
    "\n",
    "    # create distance-based matrix\n",
    "    distance_matrix = cdist(point_set, point_set, metric='euclidean')\n",
    "\n",
    "    # create weight matrix and set the values with 0\n",
    "    weight_matrix = np.zeros(distance_matrix.shape)\n",
    "    \n",
    "    # make the value of the distance (shorter than threshold) = 1 \n",
    "    weight_matrix[distance_matrix <= threshold_dis] = 1\n",
    "\n",
    "    return weight_matrix\n",
    "    "
   ]
  },
  {
   "cell_type": "markdown",
   "metadata": {},
   "source": [
    "Question 5:"
   ]
  },
  {
   "cell_type": "code",
   "execution_count": 21,
   "metadata": {},
   "outputs": [],
   "source": [
    "import numpy as np\n",
    "import matplotlib.pyplot as plt\n",
    "from pysal.explore import esda\n",
    "from splot.esda import moran_scatterplot\n",
    "\n",
    "def plot_moran(W, y):\n",
    "\n",
    "    # Calculate Moran's I\n",
    "    mi = esda.Moran(y, W)\n",
    "    \n",
    "    # Create the Moran scatter plot\n",
    "    f, ax = plt.subplots()\n",
    "    moran_scatterplot(mi, ax=ax, **{'color': 'blue', 'edgecolor': 'k', 'alpha': 0.5})\n",
    "    \n",
    "    # Add labels and title\n",
    "    ax.set_title(\"Moran's I Scatter Plot\")\n",
    "    ax.set_xlabel(\"Spatially Lagged Values\")\n",
    "    ax.set_ylabel(\"Attribute Values\")\n",
    "    \n",
    "    # Save the plot\n",
    "    plt.savefig('C:\\\\Users\\\\Admin\\\\Desktop\\\\moran_plot.png', dpi=300)\n",
    "    \n",
    "    # Show the plot\n",
    "    plt.show()\n"
   ]
  }
 ],
 "metadata": {
  "kernelspec": {
   "display_name": "gds",
   "language": "python",
   "name": "gds"
  },
  "language_info": {
   "codemirror_mode": {
    "name": "ipython",
    "version": 3
   },
   "file_extension": ".py",
   "mimetype": "text/x-python",
   "name": "python",
   "nbconvert_exporter": "python",
   "pygments_lexer": "ipython3",
   "version": "3.9.19"
  }
 },
 "nbformat": 4,
 "nbformat_minor": 2
}
