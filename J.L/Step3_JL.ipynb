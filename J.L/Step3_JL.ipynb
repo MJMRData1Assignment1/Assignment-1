{
 "cells": [
  {
   "cell_type": "markdown",
   "metadata": {},
   "source": [
    "Visualising"
   ]
  },
  {
   "cell_type": "code",
   "execution_count": 1,
   "metadata": {},
   "outputs": [],
   "source": [
    "import geopandas as gpd\n",
    "import matplotlib.pyplot as plt"
   ]
  },
  {
   "cell_type": "code",
   "execution_count": 2,
   "metadata": {},
   "outputs": [],
   "source": [
    "# gdf1 = gpd.read_file('layer1.shp') \n",
    "# gdf2 = gpd.read_file('layer2.shp') "
   ]
  },
  {
   "cell_type": "code",
   "execution_count": 3,
   "metadata": {},
   "outputs": [],
   "source": [
    "# 创建一个画布，设置大小\n",
    "# fig, ax = plt.subplots(figsize=(10, 10))\n",
    "\n",
    "# 绘制第一个图层\n",
    "# gdf1.plot(ax=ax, color='lightblue', edgecolor='black', label='Buildings')\n",
    "\n",
    "# 绘制第二个图层，叠加在第一个图层上\n",
    "# gdf2.plot(ax=ax, color='none', edgecolor='red', linewidth=1.5, label='Roads')\n",
    "\n",
    "# 添加图例\n",
    "# plt.legend()\n",
    "\n",
    "# 显示地图\n",
    "# plt.show()"
   ]
  },
  {
   "cell_type": "code",
   "execution_count": 4,
   "metadata": {},
   "outputs": [],
   "source": [
    "# 带透明度\n",
    "# gdf1.plot(ax=ax, alpha=0.5, label='Buildings')"
   ]
  },
  {
   "cell_type": "code",
   "execution_count": null,
   "metadata": {},
   "outputs": [],
   "source": []
  }
 ],
 "metadata": {
  "kernelspec": {
   "display_name": "gds",
   "language": "python",
   "name": "gds"
  },
  "language_info": {
   "codemirror_mode": {
    "name": "ipython",
    "version": 3
   },
   "file_extension": ".py",
   "mimetype": "text/x-python",
   "name": "python",
   "nbconvert_exporter": "python",
   "pygments_lexer": "ipython3",
   "version": "3.9.19"
  }
 },
 "nbformat": 4,
 "nbformat_minor": 2
}
