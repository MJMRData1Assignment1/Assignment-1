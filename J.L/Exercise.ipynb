{
 "cells": [
  {
   "cell_type": "code",
   "execution_count": null,
   "metadata": {},
   "outputs": [],
   "source": []
  },
  {
   "cell_type": "markdown",
   "metadata": {},
   "source": [
    "Qustion 1:"
   ]
  },
  {
   "cell_type": "code",
   "execution_count": null,
   "metadata": {},
   "outputs": [],
   "source": [
    "imd_shp = 'C:\\\\Users\\Admin\\\\Desktop\\\\Code\\\\TEST\\\\brexit.gpkg'\n",
    "lookup_path = 'C:\\\\Users\\Admin\\\\Desktop\\\\Code\\\\TEST'"
   ]
  },
  {
   "cell_type": "code",
   "execution_count": null,
   "metadata": {},
   "outputs": [],
   "source": [
    "imd = gpd.read_file(\"C:\\\\Users\\Admin\\\\Desktop\\\\Code\\\\TEST\\\\brexit.gpkg\")\n",
    "\n",
    "#imd_shp = imd_shp.set_index('OBJECT_ID')\n",
    "# Display summary\n",
    "imd.info()\n",
    "imd.plot()"
   ]
  },
  {
   "cell_type": "code",
   "execution_count": null,
   "metadata": {},
   "outputs": [],
   "source": [
    "w_queen = weights.Queen.from_dataframe(imd, ids=\"LAD14CD\")\n",
    "w_queen"
   ]
  },
  {
   "cell_type": "markdown",
   "metadata": {},
   "source": [
    "Question 2:"
   ]
  },
  {
   "cell_type": "code",
   "execution_count": null,
   "metadata": {},
   "outputs": [],
   "source": []
  }
 ],
 "metadata": {
  "language_info": {
   "name": "python"
  }
 },
 "nbformat": 4,
 "nbformat_minor": 2
}
