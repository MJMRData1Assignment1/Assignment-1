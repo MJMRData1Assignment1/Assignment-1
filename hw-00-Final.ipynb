{
 "cells": [
  {
   "cell_type": "markdown",
   "metadata": {},
   "source": [
    "# <img style=\"float: left; padding-right: 10px; width: 200px\" src=\"https://raw.githubusercontent.com/trivikverma/researchgroup/master/assets/media/logo.png\"> EPA-122A *Spatial* Data Science \n",
    "\n",
    "\n",
    "## Homework 0: Introduction to Python and its Numerical Stack\n",
    "\n",
    "**TU Delft**<br>\n",
    "**Q2 2023**<br>\n",
    "**Instructor:** Trivik Verma <br>\n",
    "**[Centre for Urban Science & Policy]( https://cusp.tbm.tudelft.nl/)** <br>\n",
    "\n",
    "\n",
    "---\n",
    "\n"
   ]
  },
  {
   "cell_type": "markdown",
   "metadata": {
    "tags": []
   },
   "source": [
    "# Homework Exercises"
   ]
  },
  {
   "cell_type": "markdown",
   "metadata": {},
   "source": [
    "## Exercise 1\n",
    "### Write a properly documented function with the following behaviour:\n",
    "\n",
    "- It has a meaningful name (i.e. it is related to its behaviour).\n",
    "- It takes an integer that represents the length of a sequence that will be created.\n",
    "- It creates a dictionary that is empty.\n",
    "- It loops over the sequence and stores each number as the key of an entry in the dictionary, assigning either \"odd\" or \"even\" to the value, depending on the type of number.\n",
    "\n",
    "- Returns the dictionary."
   ]
  },
  {
   "cell_type": "code",
   "execution_count": 1,
   "metadata": {},
   "outputs": [],
   "source": [
    "# your code here\n",
    "def odd_or_even_classifier(sequence_length):\n",
    "\n",
    "    # Initialize an empty dictionary\n",
    "    number_dictionary = {}\n",
    "    \n",
    "    # Loop over the sequence and assign 'odd' or 'even' to each number\n",
    "    for number in range(sequence_length):\n",
    "        number_dictionary[number] = 'even' if number % 2 == 0 else 'odd'\n",
    "    \n",
    "    # Return the generated dictionary\n",
    "    return number_dictionary"
   ]
  },
  {
   "cell_type": "code",
   "execution_count": 4,
   "metadata": {},
   "outputs": [
    {
     "data": {
      "text/plain": [
       "{0: 'even',\n",
       " 1: 'odd',\n",
       " 2: 'even',\n",
       " 3: 'odd',\n",
       " 4: 'even',\n",
       " 5: 'odd',\n",
       " 6: 'even',\n",
       " 7: 'odd',\n",
       " 8: 'even',\n",
       " 9: 'odd'}"
      ]
     },
     "execution_count": 4,
     "metadata": {},
     "output_type": "execute_result"
    }
   ],
   "source": [
    "odd_or_even_classifier(10)"
   ]
  },
  {
   "cell_type": "code",
   "execution_count": null,
   "metadata": {},
   "outputs": [],
   "source": [
    "#Comments:\n",
    "# all names are related to its behavior"
   ]
  },
  {
   "cell_type": "markdown",
   "metadata": {},
   "source": [
    "## Exercise 2\n",
    "### Create a tuple called `tup` with the following seven objects: \n",
    "\n",
    "- The first element is an integer of your choice\n",
    "- The second element is a float of your choice  \n",
    "- The third element is the sum of the first two elements\n",
    "- The fourth element is the difference of the first two elements\n",
    "- The fifth element is the first element divided by the second element\n",
    "\n",
    "- Display the output of `tup`.  What is the type of the variable `tup`? What happens if you try and chage an item in the tuple? "
   ]
  },
  {
   "cell_type": "code",
   "execution_count": 5,
   "metadata": {},
   "outputs": [
    {
     "name": "stdout",
     "output_type": "stream",
     "text": [
      "Tuple: (12, 2.5, 14.5, 9.5, 4.8)\n",
      "Type of 'tup': <class 'tuple'>\n",
      "you cannot modify the tuple: 'tuple' object does not support item assignment\n"
     ]
    }
   ],
   "source": [
    "# your code here\n",
    "# Define the first two elements\n",
    "first_element = 12       # give an integer\n",
    "second_element = 2.5     # give a float\n",
    "\n",
    "# Calculate the third, fourth, and fifth elements\n",
    "\n",
    "# Sum of the first two elements\n",
    "third_element = first_element + second_element\n",
    "\n",
    "# Difference of the first two elements\n",
    "fourth_element = first_element - second_element\n",
    "\n",
    "# First element divided by the second element\n",
    "fifth_element = first_element / second_element\n",
    "\n",
    "# Create the tuple with five elements\n",
    "tup = (first_element, second_element, third_element, fourth_element, fifth_element)\n",
    "\n",
    "# show the tuple\n",
    "print(\"Tuple:\", tup)\n",
    "\n",
    "# Check the type of the variable `tup`\n",
    "print(\"Type of 'tup':\", type(tup))\n",
    "\n",
    "# Try changing an element in the tuple\n",
    "try:\n",
    "    tup[1] = 5   # Attempt to modify the first element of the tuple\n",
    "except TypeError as error:\n",
    "    print(\"you cannot modify the tuple:\", error)\n"
   ]
  },
  {
   "cell_type": "code",
   "execution_count": null,
   "metadata": {},
   "outputs": [],
   "source": [
    "#Comments:\n",
    "#This code uses 'try' to output an explanation instead of just letting the error occur and stops "
   ]
  },
  {
   "cell_type": "markdown",
   "metadata": {},
   "source": [
    "## Exercise 3\n",
    "### Build a list that contains every prime number between 1 and 100, in two different ways:\n",
    "    \n",
    "1. Using for loops and conditional if statements.\n",
    "2. **(Stretch Goal)** Using a list comprehension.  You should be able to do this in one line of code. **Hint:** it might help to look up the function `all()` in the documentation."
   ]
  },
  {
   "cell_type": "code",
   "execution_count": 3,
   "metadata": {},
   "outputs": [
    {
     "name": "stdout",
     "output_type": "stream",
     "text": [
      "Prime numbers from 1 to 100 by loops: [2, 3, 5, 7, 11, 13, 17, 19, 23, 29, 31, 37, 41, 43, 47, 53, 59, 61, 67, 71, 73, 79, 83, 89, 97]\n"
     ]
    }
   ],
   "source": [
    "# your code here\n",
    "import math\n",
    "\n",
    "# Prime number function\n",
    "def is_prime(N):\n",
    "    if N < 2:\n",
    "        return False  # To exclude 0 and 1\n",
    "    for i in range(2, math.isqrt(N) + 1):  # Check divisibility from 2 to sqrt(n)\n",
    "        # range(2, int(n**0.5)+1) also works here to reduce loop time in case we dont load 'math' function\n",
    "        if N % i == 0:\n",
    "            return False\n",
    "    return True\n",
    "\n",
    "# Building a list of prime numbers from 1 to 100 by loops and conditionals\n",
    "prime_numbers = []\n",
    "for i in range(1, 101):\n",
    "    if is_prime(i):\n",
    "        prime_numbers.append(i)\n",
    "\n",
    "# showing the list of prime numbers\n",
    "print(\"Prime numbers from 1 to 100 by loops:\", prime_numbers)\n"
   ]
  },
  {
   "cell_type": "code",
   "execution_count": 6,
   "metadata": {},
   "outputs": [
    {
     "name": "stdout",
     "output_type": "stream",
     "text": [
      "[2, 3, 5, 7, 11, 13, 17, 19, 23, 29, 31, 37, 41, 43, 47, 53, 59, 61, 67, 71, 73, 79, 83, 89, 97]\n"
     ]
    }
   ],
   "source": [
    "#Stretch Goal\n",
    "def prime(i):\n",
    "    if i < 2:\n",
    "        return False\n",
    "    return all(i%j !=0 for j in range(2,i) )\n",
    "\n",
    "primes = [N for N in range(1,101) if prime(N)]\n",
    "print(primes)"
   ]
  },
  {
   "cell_type": "code",
   "execution_count": null,
   "metadata": {},
   "outputs": [],
   "source": [
    "#comment:\n",
    "# Fullfill the requirement and use 'math.isqtr' to reduce loop time"
   ]
  },
  {
   "cell_type": "markdown",
   "metadata": {},
   "source": [
    "## Exercise 4\n",
    "### Write a function to test the \"prime-ness\" of a number.\n",
    "    \n",
    "In Exercise 4, above, you wrote code that generated a list of the prime numbers between 1 and 100. Now, write a function called `isprime()` that takes in a positive integer $N$, and determines whether or not it is prime.  Return `True` if it's prime and return `False` if it isn't. Then, using a list comprehension and `isprime()`, create a list `myprimes` that contains all the prime numbers less than 100.  "
   ]
  },
  {
   "cell_type": "code",
   "execution_count": 9,
   "metadata": {},
   "outputs": [
    {
     "name": "stdout",
     "output_type": "stream",
     "text": [
      "[2, 3, 5, 7, 11, 13, 17, 19, 23, 29, 31, 37, 41, 43, 47, 53, 59, 61, 67, 71, 73, 79, 83, 89, 97]\n"
     ]
    }
   ],
   "source": [
    "# your code here\n",
    "\n",
    "def isprime(N):\n",
    "\n",
    "    # to exclude 0 and 1 from the list\n",
    "    for num in range(2,N):\n",
    "        # Check if its divisable from 2 to N or not\n",
    "        if N%num == 0: \n",
    "            return(False)\n",
    "            break\n",
    "    else:\n",
    "        return(True)\n",
    "    \n",
    "# showing the list of prime numbers below 100\n",
    "myprimes = [N for N in range(2,100) if isprime(N)]\n",
    "print(myprimes)\n"
   ]
  },
  {
   "cell_type": "code",
   "execution_count": null,
   "metadata": {},
   "outputs": [],
   "source": [
    "#Comment:\n",
    "# Clear code and easy to understand"
   ]
  },
  {
   "cell_type": "markdown",
   "metadata": {},
   "source": [
    "---"
   ]
  },
  {
   "cell_type": "markdown",
   "metadata": {},
   "source": [
    "## Optional Exercise\n",
    "### Try to reproduce, using markdown and the different tools the notebook affords you, the following WikiPedia entry:\n",
    "\n",
    "\n",
    "> https://en.wikipedia.org/wiki/Puppy\n"
   ]
  },
  {
   "cell_type": "code",
   "execution_count": 5,
   "metadata": {},
   "outputs": [
    {
     "data": {
      "text/html": [
       "\n",
       "        <iframe\n",
       "            width=\"700\"\n",
       "            height=\"500\"\n",
       "            src=\"https://en.wikipedia.org/wiki/Puppy\"\n",
       "            frameborder=\"0\"\n",
       "            allowfullscreen\n",
       "            \n",
       "        ></iframe>\n",
       "        "
      ],
      "text/plain": [
       "<IPython.lib.display.IFrame at 0x10d815e20>"
      ]
     },
     "execution_count": 5,
     "metadata": {},
     "output_type": "execute_result"
    }
   ],
   "source": [
    "from IPython.display import IFrame\n",
    "IFrame('https://en.wikipedia.org/wiki/Puppy', 700, 500)"
   ]
  },
  {
   "cell_type": "markdown",
   "metadata": {},
   "source": [
    "Do not over think it. Focuse and pay special attention to getting the bold, italics, links, headlines and lists correctly formated, but don't worry too much about the overall layout. Bonus if you manage to insert the image as well (it does not need to be properly placed as in the original page)!"
   ]
  },
  {
   "cell_type": "code",
   "execution_count": 8,
   "metadata": {},
   "outputs": [
    {
     "data": {
      "text/html": [
       "<table><span style=\"font-size: 10px;\">From Wikipedia, the free encyclopedia</span><p>\n",
       "<tr>\n",
       "<th style=\"text-align: center;\"><span style=\"font-style: italic; font-weight: 500;\">This article is about the domestic dog. For other uses, see <a href=\"https://en.wikipedia.org/wiki/Puppy_(disambiguation)\" target=\"_blank\" style=\"color: blue; text-decoration: none;\">Puppy (disambiguation)</a>.\n",
       "<p>\"Baby dog\" redirects here. For the dog owned by Jim Justice, see Babydog</span></th>\n",
       "</tr>\n",
       "<tr>\n",
       "<td style=\"text-align: left;\">A <span style=\"font-weight: bold;\">puppy</span> is a <a href=\"https://en.wikipedia.org/wiki/Juvenile_(organism)\" target=\"_blank\" style=\"color: blue; text-decoration: underline;\">juvenile dog</a>. Some puppies can weigh 1–1.5 kg (2.2–3.3 lb), while larger ones can weigh over 7 kg (15 lb). All puppies display primary altriciality and healthy puppies grow quickly after birth. A puppy's coat color may change as the puppy grows older, as is commonly seen in breeds such as the Yorkshire Terrier. Puppy refers specifically to young dogs,[1] while pup may be used for other animals such as wolves, seals, giraffes, guinea pigs, rats or sharks.[2],</td>\n",
       "<td><img src=\"https://en.wikipedia.org/wiki/Puppy#/media/File:Golde33443.jpg\" alt=\"Puppy Image\" width=\"300\"/></td>\n",
       "</tr>\n",
       "<tr>\n",
       "<td style=\"text-align: left;\"><span style=\"font-weight: 450; font-size: 20px;\">Prenatal development</span></td>\n",
       "<td>row 2, cell 2</td>\n",
       "</tr>\n",
       "</table>"
      ],
      "text/plain": [
       "<IPython.core.display.HTML object>"
      ]
     },
     "execution_count": 8,
     "metadata": {},
     "output_type": "execute_result"
    }
   ],
   "source": [
    "# your code here\n",
    "\n",
    "import IPython.display as display\n",
    "\n",
    "display.HTML(\"\"\"<table><span style=\"font-size: 10px;\">From Wikipedia, the free encyclopedia</span><p>\n",
    "<tr>\n",
    "<th style=\"text-align: center;\"><span style=\"font-style: italic; font-weight: 500;\">This article is about the domestic dog. For other uses, see <a href=\"https://en.wikipedia.org/wiki/Puppy_(disambiguation)\" target=\"_blank\" style=\"color: blue; text-decoration: none;\">Puppy (disambiguation)</a>.\n",
    "<p>\"Baby dog\" redirects here. For the dog owned by Jim Justice, see Babydog</span></th>\n",
    "</tr>\n",
    "<tr>\n",
    "<td style=\"text-align: left;\">A <span style=\"font-weight: bold;\">puppy</span> is a <a href=\"https://en.wikipedia.org/wiki/Juvenile_(organism)\" target=\"_blank\" style=\"color: blue; text-decoration: underline;\">juvenile dog</a>. Some puppies can weigh 1–1.5 kg (2.2–3.3 lb), while larger ones can weigh over 7 kg (15 lb). All puppies display primary altriciality and healthy puppies grow quickly after birth. A puppy's coat color may change as the puppy grows older, as is commonly seen in breeds such as the Yorkshire Terrier. Puppy refers specifically to young dogs,[1] while pup may be used for other animals such as wolves, seals, giraffes, guinea pigs, rats or sharks.[2],</td>\n",
    "<td><img src=\"https://en.wikipedia.org/wiki/Puppy#/media/File:Golde33443.jpg\" alt=\"Puppy Image\" width=\"300\"/></td>\n",
    "</tr>\n",
    "<tr>\n",
    "<td style=\"text-align: left;\"><span style=\"font-weight: 450; font-size: 20px;\">Prenatal development</span></td>\n",
    "<td>row 2, cell 2</td>\n",
    "</tr>\n",
    "</table>\"\"\")"
   ]
  },
  {
   "cell_type": "code",
   "execution_count": null,
   "metadata": {},
   "outputs": [],
   "source": []
  }
 ],
 "metadata": {
  "kernelspec": {
   "display_name": "Python 3",
   "language": "python",
   "name": "python3"
  },
  "language_info": {
   "codemirror_mode": {
    "name": "ipython",
    "version": 3
   },
   "file_extension": ".py",
   "mimetype": "text/x-python",
   "name": "python",
   "nbconvert_exporter": "python",
   "pygments_lexer": "ipython3",
   "version": "3.9.12"
  }
 },
 "nbformat": 4,
 "nbformat_minor": 4
}
